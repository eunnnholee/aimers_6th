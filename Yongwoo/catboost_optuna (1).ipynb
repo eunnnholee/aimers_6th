{
 "cells": [
  {
   "cell_type": "code",
   "execution_count": 2,
   "metadata": {},
   "outputs": [
    {
     "name": "stdout",
     "output_type": "stream",
     "text": [
      "\n",
      "\u001b[1m[\u001b[0m\u001b[34;49mnotice\u001b[0m\u001b[1;39;49m]\u001b[0m\u001b[39;49m A new release of pip is available: \u001b[0m\u001b[31;49m23.0.1\u001b[0m\u001b[39;49m -> \u001b[0m\u001b[32;49m25.0.1\u001b[0m\n",
      "\u001b[1m[\u001b[0m\u001b[34;49mnotice\u001b[0m\u001b[1;39;49m]\u001b[0m\u001b[39;49m To update, run: \u001b[0m\u001b[32;49mpip install --upgrade pip\u001b[0m\n",
      "\n",
      "\u001b[1m[\u001b[0m\u001b[34;49mnotice\u001b[0m\u001b[1;39;49m]\u001b[0m\u001b[39;49m A new release of pip is available: \u001b[0m\u001b[31;49m23.0.1\u001b[0m\u001b[39;49m -> \u001b[0m\u001b[32;49m25.0.1\u001b[0m\n",
      "\u001b[1m[\u001b[0m\u001b[34;49mnotice\u001b[0m\u001b[1;39;49m]\u001b[0m\u001b[39;49m To update, run: \u001b[0m\u001b[32;49mpip install --upgrade pip\u001b[0m\n",
      "Defaulting to user installation because normal site-packages is not writeable\n",
      "Collecting optuna\n",
      "  Downloading optuna-4.2.1-py3-none-any.whl (383 kB)\n",
      "\u001b[2K     \u001b[90m━━━━━━━━━━━━━━━━━━━━━━━━━━━━━━━━━━━━━━━\u001b[0m \u001b[32m383.6/383.6 kB\u001b[0m \u001b[31m8.0 MB/s\u001b[0m eta \u001b[36m0:00:00\u001b[0ma \u001b[36m0:00:01\u001b[0m\n",
      "\u001b[?25hCollecting PyYAML\n",
      "  Downloading PyYAML-6.0.2-cp310-cp310-manylinux_2_17_x86_64.manylinux2014_x86_64.whl (751 kB)\n",
      "\u001b[2K     \u001b[90m━━━━━━━━━━━━━━━━━━━━━━━━━━━━━━━━━━━━━━\u001b[0m \u001b[32m751.2/751.2 kB\u001b[0m \u001b[31m41.7 MB/s\u001b[0m eta \u001b[36m0:00:00\u001b[0m\n",
      "\u001b[?25hCollecting tqdm\n",
      "  Downloading tqdm-4.67.1-py3-none-any.whl (78 kB)\n",
      "\u001b[2K     \u001b[90m━━━━━━━━━━━━━━━━━━━━━━━━━━━━━━━━━━━━━━━━\u001b[0m \u001b[32m78.5/78.5 kB\u001b[0m \u001b[31m22.4 MB/s\u001b[0m eta \u001b[36m0:00:00\u001b[0m\n",
      "\u001b[?25hCollecting alembic>=1.5.0\n",
      "  Downloading alembic-1.15.2-py3-none-any.whl (231 kB)\n",
      "\u001b[2K     \u001b[90m━━━━━━━━━━━━━━━━━━━━━━━━━━━━━━━━━━━━━━━\u001b[0m \u001b[32m231.9/231.9 kB\u001b[0m \u001b[31m2.6 MB/s\u001b[0m eta \u001b[36m0:00:00\u001b[0ma \u001b[36m0:00:01\u001b[0m\n",
      "\u001b[?25hCollecting sqlalchemy>=1.4.2\n",
      "  Downloading sqlalchemy-2.0.40-cp310-cp310-manylinux_2_17_x86_64.manylinux2014_x86_64.whl (3.1 MB)\n",
      "\u001b[2K     \u001b[90m━━━━━━━━━━━━━━━━━━━━━━━━━━━━━━━━━━━━━━━━\u001b[0m \u001b[32m3.1/3.1 MB\u001b[0m \u001b[31m11.7 MB/s\u001b[0m eta \u001b[36m0:00:00\u001b[0m00:01\u001b[0m00:01\u001b[0m\n",
      "\u001b[?25hCollecting colorlog\n",
      "  Downloading colorlog-6.9.0-py3-none-any.whl (11 kB)\n",
      "Requirement already satisfied: packaging>=20.0 in /home/elicer/.local/lib/python3.10/site-packages (from optuna) (24.2)\n",
      "Requirement already satisfied: numpy in /home/elicer/.local/lib/python3.10/site-packages (from optuna) (2.2.4)\n",
      "Requirement already satisfied: typing-extensions>=4.12 in /home/elicer/.local/lib/python3.10/site-packages (from alembic>=1.5.0->optuna) (4.13.1)\n",
      "Collecting Mako\n",
      "  Downloading Mako-1.3.9-py3-none-any.whl (78 kB)\n",
      "\u001b[2K     \u001b[90m━━━━━━━━━━━━━━━━━━━━━━━━━━━━━━━━━━━━━━━━\u001b[0m \u001b[32m78.5/78.5 kB\u001b[0m \u001b[31m20.9 MB/s\u001b[0m eta \u001b[36m0:00:00\u001b[0m\n",
      "\u001b[?25hCollecting greenlet>=1\n",
      "  Downloading greenlet-3.1.1-cp310-cp310-manylinux_2_24_x86_64.manylinux_2_28_x86_64.whl (599 kB)\n",
      "\u001b[2K     \u001b[90m━━━━━━━━━━━━━━━━━━━━━━━━━━━━━━━━━━━━━━\u001b[0m \u001b[32m599.5/599.5 kB\u001b[0m \u001b[31m44.2 MB/s\u001b[0m eta \u001b[36m0:00:00\u001b[0m\n",
      "\u001b[?25hCollecting MarkupSafe>=0.9.2\n",
      "  Downloading MarkupSafe-3.0.2-cp310-cp310-manylinux_2_17_x86_64.manylinux2014_x86_64.whl (20 kB)\n",
      "Installing collected packages: tqdm, PyYAML, MarkupSafe, greenlet, colorlog, sqlalchemy, Mako, alembic, optuna\n",
      "Successfully installed Mako-1.3.9 MarkupSafe-3.0.2 PyYAML-6.0.2 alembic-1.15.2 colorlog-6.9.0 greenlet-3.1.1 optuna-4.2.1 sqlalchemy-2.0.40 tqdm-4.67.1\n",
      "\n",
      "\u001b[1m[\u001b[0m\u001b[34;49mnotice\u001b[0m\u001b[1;39;49m]\u001b[0m\u001b[39;49m A new release of pip is available: \u001b[0m\u001b[31;49m23.0.1\u001b[0m\u001b[39;49m -> \u001b[0m\u001b[32;49m25.0.1\u001b[0m\n",
      "\u001b[1m[\u001b[0m\u001b[34;49mnotice\u001b[0m\u001b[1;39;49m]\u001b[0m\u001b[39;49m To update, run: \u001b[0m\u001b[32;49mpip install --upgrade pip\u001b[0m\n",
      "Defaulting to user installation because normal site-packages is not writeable\n",
      "Collecting catboost\n",
      "  Downloading catboost-1.2.7-cp310-cp310-manylinux2014_x86_64.whl (98.7 MB)\n",
      "\u001b[2K     \u001b[90m━━━━━━━━━━━━━━━━━━━━━━━━━━━━━━━━━━━━━━━━\u001b[0m \u001b[32m98.7/98.7 MB\u001b[0m \u001b[31m4.9 MB/s\u001b[0m eta \u001b[36m0:00:00\u001b[0m00:01\u001b[0m00:01\u001b[0mm\n",
      "\u001b[?25hRequirement already satisfied: six in /home/elicer/.local/lib/python3.10/site-packages (from catboost) (1.17.0)\n",
      "Requirement already satisfied: scipy in /home/elicer/.local/lib/python3.10/site-packages (from catboost) (1.15.2)\n",
      "Collecting matplotlib\n",
      "  Downloading matplotlib-3.10.1-cp310-cp310-manylinux_2_17_x86_64.manylinux2014_x86_64.whl (8.6 MB)\n",
      "\u001b[2K     \u001b[90m━━━━━━━━━━━━━━━━━━━━━━━━━━━━━━━━━━━━━━━━\u001b[0m \u001b[32m8.6/8.6 MB\u001b[0m \u001b[31m19.7 MB/s\u001b[0m eta \u001b[36m0:00:00\u001b[0m00:01\u001b[0m00:01\u001b[0mm\n",
      "\u001b[?25hCollecting graphviz\n",
      "  Downloading graphviz-0.20.3-py3-none-any.whl (47 kB)\n",
      "\u001b[2K     \u001b[90m━━━━━━━━━━━━━━━━━━━━━━━━━━━━━━━━━━━━━━━━\u001b[0m \u001b[32m47.1/47.1 kB\u001b[0m \u001b[31m13.3 MB/s\u001b[0m eta \u001b[36m0:00:00\u001b[0m\n",
      "\u001b[?25hCollecting plotly\n",
      "  Downloading plotly-6.0.1-py3-none-any.whl (14.8 MB)\n",
      "\u001b[2K     \u001b[90m━━━━━━━━━━━━━━━━━━━━━━━━━━━━━━━━━━━━━━━━\u001b[0m \u001b[32m14.8/14.8 MB\u001b[0m \u001b[31m76.2 MB/s\u001b[0m eta \u001b[36m0:00:00\u001b[0m00:01\u001b[0m00:01\u001b[0m\n",
      "\u001b[?25hCollecting numpy<2.0,>=1.16.0\n",
      "  Downloading numpy-1.26.4-cp310-cp310-manylinux_2_17_x86_64.manylinux2014_x86_64.whl (18.2 MB)\n",
      "\u001b[2K     \u001b[90m━━━━━━━━━━━━━━━━━━━━━━━━━━━━━━━━━━━━━━━━\u001b[0m \u001b[32m18.2/18.2 MB\u001b[0m \u001b[31m72.9 MB/s\u001b[0m eta \u001b[36m0:00:00\u001b[0m00:01\u001b[0m00:01\u001b[0m\n",
      "\u001b[?25hRequirement already satisfied: pandas>=0.24 in /home/elicer/.local/lib/python3.10/site-packages (from catboost) (2.2.3)\n",
      "Requirement already satisfied: python-dateutil>=2.8.2 in /home/elicer/.local/lib/python3.10/site-packages (from pandas>=0.24->catboost) (2.9.0.post0)\n",
      "Requirement already satisfied: pytz>=2020.1 in /home/elicer/.local/lib/python3.10/site-packages (from pandas>=0.24->catboost) (2025.2)\n",
      "Requirement already satisfied: tzdata>=2022.7 in /home/elicer/.local/lib/python3.10/site-packages (from pandas>=0.24->catboost) (2025.2)\n",
      "Collecting contourpy>=1.0.1\n",
      "  Downloading contourpy-1.3.1-cp310-cp310-manylinux_2_17_x86_64.manylinux2014_x86_64.whl (324 kB)\n",
      "\u001b[2K     \u001b[90m━━━━━━━━━━━━━━━━━━━━━━━━━━━━━━━━━━━━━━━\u001b[0m \u001b[32m325.0/325.0 kB\u001b[0m \u001b[31m4.7 MB/s\u001b[0m eta \u001b[36m0:00:00\u001b[0ma \u001b[36m0:00:01\u001b[0m\n",
      "\u001b[?25hCollecting kiwisolver>=1.3.1\n",
      "  Downloading kiwisolver-1.4.8-cp310-cp310-manylinux_2_12_x86_64.manylinux2010_x86_64.whl (1.6 MB)\n",
      "\u001b[2K     \u001b[90m━━━━━━━━━━━━━━━━━━━━━━━━━━━━━━━━━━━━━━━━\u001b[0m \u001b[32m1.6/1.6 MB\u001b[0m \u001b[31m74.8 MB/s\u001b[0m eta \u001b[36m0:00:00\u001b[0m\n",
      "\u001b[?25hCollecting cycler>=0.10\n",
      "  Downloading cycler-0.12.1-py3-none-any.whl (8.3 kB)\n",
      "Collecting pyparsing>=2.3.1\n",
      "  Downloading pyparsing-3.2.3-py3-none-any.whl (111 kB)\n",
      "\u001b[2K     \u001b[90m━━━━━━━━━━━━━━━━━━━━━━━━━━━━━━━━━━━━━━\u001b[0m \u001b[32m111.1/111.1 kB\u001b[0m \u001b[31m27.9 MB/s\u001b[0m eta \u001b[36m0:00:00\u001b[0m\n",
      "\u001b[?25hCollecting fonttools>=4.22.0\n",
      "  Downloading fonttools-4.57.0-cp310-cp310-manylinux_2_17_x86_64.manylinux2014_x86_64.whl (4.6 MB)\n",
      "\u001b[2K     \u001b[90m━━━━━━━━━━━━━━━━━━━━━━━━━━━━━━━━━━━━━━━━\u001b[0m \u001b[32m4.6/4.6 MB\u001b[0m \u001b[31m82.0 MB/s\u001b[0m eta \u001b[36m0:00:00\u001b[0m:00:01\u001b[0m\n",
      "\u001b[?25hCollecting pillow>=8\n",
      "  Downloading pillow-11.1.0-cp310-cp310-manylinux_2_28_x86_64.whl (4.5 MB)\n",
      "\u001b[2K     \u001b[90m━━━━━━━━━━━━━━━━━━━━━━━━━━━━━━━━━━━━━━━━\u001b[0m \u001b[32m4.5/4.5 MB\u001b[0m \u001b[31m13.5 MB/s\u001b[0m eta \u001b[36m0:00:00\u001b[0m00:01\u001b[0m00:01\u001b[0mm\n",
      "\u001b[?25hRequirement already satisfied: packaging>=20.0 in /home/elicer/.local/lib/python3.10/site-packages (from matplotlib->catboost) (24.2)\n",
      "Collecting narwhals>=1.15.1\n",
      "  Downloading narwhals-1.33.0-py3-none-any.whl (322 kB)\n",
      "\u001b[2K     \u001b[90m━━━━━━━━━━━━━━━━━━━━━━━━━━━━━━━━━━━━━━\u001b[0m \u001b[32m322.8/322.8 kB\u001b[0m \u001b[31m59.8 MB/s\u001b[0m eta \u001b[36m0:00:00\u001b[0m\n",
      "\u001b[?25hInstalling collected packages: pyparsing, pillow, numpy, narwhals, kiwisolver, graphviz, fonttools, cycler, plotly, contourpy, matplotlib, catboost\n",
      "  Attempting uninstall: numpy\n",
      "    Found existing installation: numpy 2.2.4\n",
      "    Uninstalling numpy-2.2.4:\n",
      "      Successfully uninstalled numpy-2.2.4\n",
      "Successfully installed catboost-1.2.7 contourpy-1.3.1 cycler-0.12.1 fonttools-4.57.0 graphviz-0.20.3 kiwisolver-1.4.8 matplotlib-3.10.1 narwhals-1.33.0 numpy-1.26.4 pillow-11.1.0 plotly-6.0.1 pyparsing-3.2.3\n",
      "\n",
      "\u001b[1m[\u001b[0m\u001b[34;49mnotice\u001b[0m\u001b[1;39;49m]\u001b[0m\u001b[39;49m A new release of pip is available: \u001b[0m\u001b[31;49m23.0.1\u001b[0m\u001b[39;49m -> \u001b[0m\u001b[32;49m25.0.1\u001b[0m\n",
      "\u001b[1m[\u001b[0m\u001b[34;49mnotice\u001b[0m\u001b[1;39;49m]\u001b[0m\u001b[39;49m To update, run: \u001b[0m\u001b[32;49mpip install --upgrade pip\u001b[0m\n"
     ]
    }
   ],
   "source": [
    "!pip -q install ipynbname\n",
    "!pip -q install pandas numpy ipynbname scikit-learn\n",
    "!pip install optuna\n",
    "!pip install catboost"
   ]
  },
  {
   "cell_type": "code",
   "execution_count": 3,
   "metadata": {},
   "outputs": [],
   "source": [
    "def drop_cols_with_na(train,val):\n",
    "    cat_cols_with_na = [\n",
    "        #'세부 시술 유형', ##2\n",
    "        '이전 총 임신 횟수', ##11703\n",
    "        '이전 총 임신 성공 횟수', ##5081\n",
    "        \n",
    "        '총 생성 배아 수', ## DI\n",
    "        '저장된 배아 수', ## DI\n",
    "        '채취된 신선 난자 수', ## DI\n",
    "        '수정 시도된 난자 수' ## DI\n",
    "    ]\n",
    "\n",
    "    # numeric_cols_with_na = [\n",
    "    #     '이식된 배아 수', ## DI\n",
    "    #     '미세주입(ICSI) 배아 이식 수', ## 8890\n",
    "    #     '배아 이식 후 경과일', ## 17440\n",
    "    # ]\n",
    "    cols = cat_cols_with_na #+ numeric_cols_with_na\n",
    "    train = train.drop(columns=cols,axis=1)\n",
    "    val = val.drop(columns=cols,axis=1)\n",
    "    return train, val\n",
    "def numeric_nan(train,val):\n",
    "    numeric_cols_with_na = [\n",
    "        '이식된 배아 수', ## DI\n",
    "        '미세주입(ICSI) 배아 이식 수', ## 8890\n",
    "        '배아 이식 후 경과일', ## 17440 #얘는 따로 8.0 또는 -1로 둬보기?\n",
    "    ]\n",
    "    # for col in numeric_cols_with_na:\n",
    "    #     train[col] = train[col].fillna(0)\n",
    "    #     val[col] = val[col].fillna(0)\n",
    "    train['이식된 배아 수'] = train['이식된 배아 수'].fillna(2)\n",
    "    val['이식된 배아 수'] = val['이식된 배아 수'].fillna(2)\n",
    "    \n",
    "    # train['미세주입(ICSI) 배아 이식 수'] = train['미세주입(ICSI) 배아 이식 수'].fillna(0)\n",
    "    # val['미세주입(ICSI) 배아 이식 수'] = val['미세주입(ICSI) 배아 이식 수'].fillna(0)\n",
    "    # train['배아 이식 후 경과일'] = train['배아 이식 후 경과일'].fillna(-1)\n",
    "    # val['배아 이식 후 경과일'] = val['배아 이식 후 경과일'].fillna(-1)\n",
    "    train.loc[(train['시술 유형'] == 'IVF') & (train['미세주입(ICSI) 배아 이식 수'].isna())].fillna(0)\n",
    "    val.loc[(val['시술 유형'] == 'IVF') & (val['미세주입(ICSI) 배아 이식 수'].isna())].fillna(0)\n",
    "    train.loc[(train['시술 유형'] == 'DI') & (train['미세주입(ICSI) 배아 이식 수'].isna())].fillna(4)\n",
    "    val.loc[(val['시술 유형'] == 'DI') & (val['미세주입(ICSI) 배아 이식 수'].isna())].fillna(4)\n",
    "\n",
    "    train.loc[(train['시술 유형'] == 'IVF') & (train['배아 이식 후 경과일'].isna())].fillna(8)\n",
    "    val.loc[(val['시술 유형'] == 'IVF') & (val['배아 이식 후 경과일'].isna())].fillna(8)\n",
    "    train.loc[(train['시술 유형'] == 'DI') & (train['배아 이식 후 경과일'].isna())].fillna(5)\n",
    "    val.loc[(val['시술 유형'] == 'DI') & (val['배아 이식 후 경과일'].isna())].fillna(5)\n",
    "    return train, val\n",
    "def numeric_nan(train, val):\n",
    "    # '이식된 배아 수'의 최빈값을 학습 데이터에서 계산 후 결측치 대체\n",
    "    mode_embryo = train['이식된 배아 수'].mode()[0]\n",
    "    train['이식된 배아 수'] = train['이식된 배아 수'].fillna(mode_embryo)\n",
    "    val['이식된 배아 수'] = val['이식된 배아 수'].fillna(mode_embryo)\n",
    "    \n",
    "    # 미세주입(ICSI) 배아 이식 수: 시술 유형에 따라 결측치 대체\n",
    "    mode_embryo_미세 = train['미세주입(ICSI) 배아 이식 수'].mode()[0]\n",
    "    train.loc[(train['시술 유형'] == 'IVF') & (train['미세주입(ICSI) 배아 이식 수'].isna()), '미세주입(ICSI) 배아 이식 수'] = mode_embryo_미세\n",
    "    val.loc[(val['시술 유형'] == 'IVF') & (val['미세주입(ICSI) 배아 이식 수'].isna()), '미세주입(ICSI) 배아 이식 수'] = mode_embryo_미세\n",
    "    train.loc[(train['시술 유형'] == 'DI') & (train['미세주입(ICSI) 배아 이식 수'].isna()), '미세주입(ICSI) 배아 이식 수'] = 4\n",
    "    val.loc[(val['시술 유형'] == 'DI') & (val['미세주입(ICSI) 배아 이식 수'].isna()), '미세주입(ICSI) 배아 이식 수'] = 4\n",
    "\n",
    "    # 배아 이식 후 경과일: 시술 유형에 따라 결측치 대체\n",
    "    mode_embryo_배아 = train['배아 이식 후 경과일'].mode()[0]\n",
    "    train.loc[(train['시술 유형'] == 'IVF') & (train['배아 이식 후 경과일'].isna()), '배아 이식 후 경과일'] = 8\n",
    "    val.loc[(val['시술 유형'] == 'IVF') & (val['배아 이식 후 경과일'].isna()), '배아 이식 후 경과일'] = 8\n",
    "    train.loc[(train['시술 유형'] == 'DI') & (train['배아 이식 후 경과일'].isna()), '배아 이식 후 경과일'] = mode_embryo_배아\n",
    "    val.loc[(val['시술 유형'] == 'DI') & (val['배아 이식 후 경과일'].isna()), '배아 이식 후 경과일'] = mode_embryo_배아\n",
    "    \n",
    "    return train, val\n",
    "\n",
    "\n",
    "def 횟수_to_int(df_train, df_val):\n",
    "    for col in [col for col in df_train.columns if '횟수' in col]:\n",
    "        df_train[col] = df_train[col].replace({'6회 이상': '6회'})\n",
    "        df_val[col] = df_val[col].replace({'6회 이상': '6회'})\n",
    "\n",
    "        df_train[col] = df_train[col].str[0].astype(int)\n",
    "        df_val[col] = df_val[col].str[0].astype(int)\n",
    "\n",
    "    return df_train, df_val\n",
    "\n",
    "\n",
    "def 시술유형(train, test):\n",
    "    train['세부 시술 유형'] = train['세부 시술 유형'].fillna(\"Unknown\")\n",
    "    test['세부 시술 유형'] = test['세부 시술 유형'].fillna(\"Unknown\")\n",
    "\n",
    "    def categorize_procedure(proc):\n",
    "        tokens = [token.strip() for token in proc.split(\",\") if token.strip() and not token.strip().isdigit()]\n",
    "        # 우선순위에 따른 범주화\n",
    "        if tokens.count(\"Unknown\") >= 1:\n",
    "            return \"Unknown\"\n",
    "        if tokens.count(\"AH\") >= 1:\n",
    "            return \"AH\"\n",
    "        if tokens.count(\"BLASTOCYST\") >= 1:\n",
    "            return \"BLASTOCYST\"\n",
    "        if tokens.count(\"ICSI\") >= 2 or tokens.count(\"IVF\") >= 2:\n",
    "            return \"2ICSI_2IVF\"\n",
    "        if tokens.count(\"IVF\") >= 1 and tokens.count(\"ICSI\") >= 1:\n",
    "            return \"IVF_ICSI\"\n",
    "        if tokens == \"ICSI\":\n",
    "            return \"ICSI\"\n",
    "        if tokens == \"IVF\":\n",
    "            return \"IVF\"\n",
    "        return \",\".join(tokens) if tokens else None\n",
    "\n",
    "    for df in [train, test]:\n",
    "        df['세부 시술 유형'] = df['세부 시술 유형'].str.replace(\" / \", \",\")\n",
    "        df['세부 시술 유형'] = df['세부 시술 유형'].str.replace(\":\", \",\")\n",
    "        df['세부 시술 유형'] = df['세부 시술 유형'].str.replace(\" \", \"\")\n",
    "\n",
    "    counts = train['세부 시술 유형'].value_counts()\n",
    "    allowed_categories = counts[counts >= 100].index.tolist()\n",
    "\n",
    "    # allowed_categories에 속하지 않는 값은 \"Unknown\"으로 대체\n",
    "    train.loc[~train['세부 시술 유형'].isin(allowed_categories), '세부 시술 유형'] = \"Unknown\"\n",
    "    test.loc[~test['세부 시술 유형'].isin(allowed_categories), '세부 시술 유형'] = \"Unknown\"\n",
    "\n",
    "    train['세부 시술 유형'] = train['세부 시술 유형'].apply(categorize_procedure)\n",
    "    test['세부 시술 유형'] = test['세부 시술 유형'].apply(categorize_procedure)\n",
    "\n",
    "    train['시술유형_통합'] = train['시술 유형'].astype(str) + '_' + train['세부 시술 유형'].astype(str)\n",
    "    test['시술유형_통합'] = test['시술 유형'].astype(str) + '_' + test['세부 시술 유형'].astype(str)\n",
    "\n",
    "    drop_cols = ['시술 유형', '세부 시술 유형']\n",
    "    train = train.drop(drop_cols, axis=1)\n",
    "    test = test.drop(drop_cols, axis=1)\n",
    "\n",
    "    return train, test\n",
    "\n",
    "def 단일배아이식여부(df_train, df_val):\n",
    "    df_train['단일 배아 이식 여부'] = df_train['단일 배아 이식 여부'].fillna(0)\n",
    "    df_val['단일 배아 이식 여부'] = df_val['단일 배아 이식 여부'].fillna(0)\n",
    "    return df_train, df_val\n",
    "\n",
    "\n",
    "\n",
    "def categorical_encoding(train,val, categorical_columns):\n",
    "\n",
    "    # OrdinalEncoder를 사용하여 카테고리형 변수 인코딩\n",
    "    X_train_encoded = train.copy()\n",
    "\n",
    "    ordinal_encoder = OrdinalEncoder(handle_unknown='use_encoded_value', unknown_value=-1)\n",
    "    X_train_encoded[categorical_columns] = ordinal_encoder.fit_transform(train[categorical_columns])\n",
    "\n",
    "    X_test_encoded = val.copy()\n",
    "    X_test_encoded[categorical_columns] = ordinal_encoder.transform(val[categorical_columns])\n",
    "\n",
    "    return X_train_encoded, X_test_encoded\n",
    "\n",
    "def numeric_encoding(train,val, numeric_columns):\n",
    "    # 수치형 변수 중 결측치가 있는 경우 0으로 채움\n",
    "    train[numeric_columns] = train[numeric_columns].fillna(0)\n",
    "    val[numeric_columns] = val[numeric_columns].fillna(0)\n",
    "    return train, val\n",
    "\n",
    "def bool_encoding(train,val,bool_features):\n",
    "    # 불리언형 변수는 0과 1로 변환\n",
    "    train[bool_features] = train[bool_features].fillna(False).astype(int)\n",
    "    val[bool_features] = val[bool_features].fillna(False).astype(int)\n",
    "    return train, val\n",
    "\n",
    "def check_cols(train,val):\n",
    "\n",
    "    cols_without_na = train.columns\n",
    "    categorical_columns = ['환자 시술 당시 나이', '시술 유형', '세부 시술 유형', '이전 IVF 시술 횟수',\n",
    "       '이전 DI 시술 횟수', '이전 총 임신 횟수', '이전 총 임신 성공 횟수', '총 생성 배아 수', '저장된 배아 수',\n",
    "       '해동된 배아 수', '채취된 신선 난자 수', '수정 시도된 난자 수', '난자 출처', '정자 출처', '난자 기증자 나이',\n",
    "       '정자 기증자 나이']\n",
    "\n",
    "    numeric_columns = ['이식된 배아 수','미세주입(ICSI) 배아 이식 수','배아 이식 후 경과일']\n",
    "\n",
    "    bool_features = ['배란 자극 시술 여부', '단일 배아 이식 여부', '불임 원인 - 난관 질환',\n",
    "    '불임 원인 - 배란 장애', '불임 원인 - 남성 요인', '불임 원인 - 자궁내막증', '불임 원인 - 불명확', '해동 난자 사용 여부',\n",
    "    '신선 난자 사용 여부', '동결 배아 사용 여부', '신선 배아 사용 여부', '기증 배아 사용 여부', '착상 전 PGD 시행 여부', '착상 전 PGS 시행 여부']\n",
    "    \n",
    "    categorical_columns_cleaned = [col for col in categorical_columns if col in cols_without_na]\n",
    "    numeric_columns_cleaned = [col for col in numeric_columns if col in cols_without_na]\n",
    "    bool_features_cleaned = [col for col in bool_features if col in cols_without_na]\n",
    "    \n",
    "    # print(\"Categorical columns:\", categorical_columns_cleaned, \"\\n count\", len(categorical_columns_cleaned))\n",
    "    # print(\"Numeric columns:\", numeric_columns_cleaned, \"\\n count\", len(numeric_columns_cleaned))\n",
    "    # print(\"Boolean columns:\", bool_features_cleaned, \"\\n count\", len(bool_features_cleaned))\n",
    "\n",
    "    return categorical_columns_cleaned, numeric_columns_cleaned, bool_features_cleaned\n",
    "\n",
    "def label_encoding(train, test, cols):\n",
    "    encoder = LabelEncoder()\n",
    "    for col in cols:\n",
    "        train[col] = encoder.fit_transform(train[col])\n",
    "        test[col] = encoder.transform(test[col])\n",
    "    return train, test\n",
    "\n",
    "\n",
    "def type_to_category(train, test, cols):\n",
    "    train[cols] = train[cols].astype('category')\n",
    "    test[cols] = test[cols].astype('category')\n",
    "    return train, test\n",
    "\n",
    "\n",
    "def num_feature_scailing(train, test, seed=777):\n",
    "    cat_cols = [col for col in train.columns if pd.api.types.is_categorical_dtype(train[col])]\n",
    "    numeric_cols = [col for col in train.columns if col not in cat_cols and col != '임신 성공 확률']\n",
    "    # bin_cols 들도 동일하게 스케일링\n",
    "\n",
    "    arr_train = train[numeric_cols].to_numpy()  # DataFrame -> NumPy\n",
    "    arr_train = arr_train.astype(np.float32)\n",
    "    arr_test = test[numeric_cols].to_numpy()\n",
    "    arr_test = arr_test.astype(np.float32)\n",
    "\n",
    "    np.random.seed(seed)\n",
    "    random.seed(seed)\n",
    "    noise = (\n",
    "        np.random.default_rng(0)\n",
    "        .normal(0.0, 1e-5, arr_train.shape)\n",
    "        .astype(arr_train.dtype)\n",
    "    )\n",
    "    preprocessing = QuantileTransformer(\n",
    "        n_quantiles=max(min(len(train[numeric_cols]) // 30, 1000), 10),\n",
    "        output_distribution='normal',\n",
    "        subsample=10**9,\n",
    "    ).fit(arr_train + noise)\n",
    "\n",
    "    train[numeric_cols] = preprocessing.transform(arr_train)\n",
    "    test[numeric_cols] = preprocessing.transform(arr_test)\n",
    "    return train, test\n",
    "\n",
    "def drop_single_value_columns(df_train, df_test):\n",
    "    cols_to_drop = [col for col in df_train.columns if df_train[col].nunique() == 1]\n",
    "    return df_train.drop(columns=cols_to_drop), df_test.drop(columns=cols_to_drop)\n",
    "\n",
    "def 이전_총_임신_성공_횟수(train, test):\n",
    "    train['이전 총 임신 횟수'] = train['이전 총 임신 횟수'].fillna(train['이전 총 임신 횟수'].mode()[0])\n",
    "    test['이전 총 임신 횟수'] = test['이전 총 임신 횟수'].fillna(train['이전 총 임신 횟수'].mode()[0])\n",
    "\n",
    "    train['이전 총 임신 성공 횟수'] = train['이전 총 임신 성공 횟수'].fillna(train['이전 총 임신 성공 횟수'].mode()[0])\n",
    "    test['이전 총 임신 성공 횟수'] = test['이전 총 임신 성공 횟수'].fillna(train['이전 총 임신 성공 횟수'].mode()[0])\n",
    "\n",
    "def 독립범주로보기(train, test):\n",
    "    cols = ['총 생성 배아 수', '저장된 배아 수', '채취된 신선 난자 수', '수정 시도된 난자 수']\n",
    "    for col in cols:\n",
    "        train[col] = train[col].fillna('NAN')\n",
    "        test[col] = test[col].fillna('NAN')\n",
    "        \n",
    "        \n",
    "def all_preprocess(train,val):\n",
    "    이전_총_임신_성공_횟수(train, val)\n",
    "    독립범주로보기(train, val)\n",
    "    #train, val = drop_cols_with_na(train, val)\n",
    "    train, val = numeric_nan(train, val)\n",
    "    # 기본 전처리 단계\n",
    "    train, val = 횟수_to_int(train, val)\n",
    "\n",
    "    train, val = 시술유형(train, val)\n",
    "    # train, val = 임신_IVF(train, val)\n",
    "\n",
    "    train, val = 단일배아이식여부(train, val)\n",
    "\n",
    "    cols_to_encoding = [\n",
    "        \"환자 시술 당시 나이\",\n",
    "        # \"클리닉 내 총 시술 횟수\",\n",
    "        # \"IVF 시술 횟수\",\n",
    "        # \"DI 시술 횟수\",\n",
    "        # \"총 임신 횟수\",\n",
    "        # \"IVF 임신 횟수\",\n",
    "        # \"DI 임신 횟수\",\n",
    "        # \"총 출산 횟수\",\n",
    "        # \"IVF 출산 횟수\",\n",
    "        # \"DI 출산 횟수\",\n",
    "        \"난자 출처\",\n",
    "        \"정자 출처\",\n",
    "        \"난자 기증자 나이\",\n",
    "        \"정자 기증자 나이\",\n",
    "        '시술유형_통합',\n",
    "\n",
    "        '해동된 배아 수', # 원래 int였는데 범주형으로 바뀜\n",
    "        '총 생성 배아 수',\n",
    "        '저장된 배아 수', \n",
    "        '채취된 신선 난자 수', \n",
    "        '수정 시도된 난자 수'\n",
    "\n",
    "    ]\n",
    "    # categorical_columns, numeric_columns, bool_features=check_cols(train,val)\n",
    "    \n",
    "    # train, val = categorical_encoding(train,val, categorical_columns)\n",
    "    # train, val= numeric_encoding(train,val, numeric_columns)\n",
    "    # train, val = bool_encoding(train,val,bool_features)\n",
    "\n",
    "    train, val = label_encoding(train, val, cols=cols_to_encoding)\n",
    "    train, val = type_to_category(train, val, cols=cols_to_encoding)\n",
    "\n",
    "    # train, val = impute_nan(train, val)\n",
    "    train, val = num_feature_scailing(train, val)\n",
    "\n",
    "    train, val = drop_single_value_columns(train, val)\n",
    "    \n",
    "    return train, val\n",
    "        "
   ]
  },
  {
   "cell_type": "code",
   "execution_count": 5,
   "metadata": {},
   "outputs": [],
   "source": [
    "train_path = \"/home/elicer/LG_Aimers_6th/offline_data/train_aimers_6th_offline.csv\"\n",
    "test_path = \"/home/elicer/LG_Aimers_6th/offline_data/test_aimers_6th_offline.csv\"\n"
   ]
  },
  {
   "cell_type": "code",
   "execution_count": 6,
   "metadata": {},
   "outputs": [
    {
     "name": "stderr",
     "output_type": "stream",
     "text": [
      "[I 2025-04-05 21:21:08,318] A new study created in memory with name: no-name-14c17508-46f5-41bb-8f55-dde4b95b179b\n",
      "/tmp/ipykernel_1122/2720983545.py:33: FutureWarning: suggest_loguniform has been deprecated in v3.0.0. This feature will be removed in v6.0.0. See https://github.com/optuna/optuna/releases/tag/v3.0.0. Use suggest_float(..., log=True) instead.\n",
      "  \"learning_rate\": trial.suggest_loguniform(\"learning_rate\", 0.001, 0.1),\n",
      "/tmp/ipykernel_1122/4181465775.py:200: DeprecationWarning: is_categorical_dtype is deprecated and will be removed in a future version. Use isinstance(dtype, pd.CategoricalDtype) instead\n",
      "  cat_cols = [col for col in train.columns if pd.api.types.is_categorical_dtype(train[col])]\n"
     ]
    },
    {
     "name": "stdout",
     "output_type": "stream",
     "text": [
      "------------------------------------------------------\n",
      "[0.6543219899804318]\n",
      "------------------------------------------------------\n"
     ]
    },
    {
     "name": "stderr",
     "output_type": "stream",
     "text": [
      "/tmp/ipykernel_1122/4181465775.py:200: DeprecationWarning: is_categorical_dtype is deprecated and will be removed in a future version. Use isinstance(dtype, pd.CategoricalDtype) instead\n",
      "  cat_cols = [col for col in train.columns if pd.api.types.is_categorical_dtype(train[col])]\n"
     ]
    },
    {
     "name": "stdout",
     "output_type": "stream",
     "text": [
      "------------------------------------------------------\n",
      "[0.6543219899804318, 0.6528862945978632]\n",
      "------------------------------------------------------\n"
     ]
    },
    {
     "name": "stderr",
     "output_type": "stream",
     "text": [
      "/tmp/ipykernel_1122/4181465775.py:200: DeprecationWarning: is_categorical_dtype is deprecated and will be removed in a future version. Use isinstance(dtype, pd.CategoricalDtype) instead\n",
      "  cat_cols = [col for col in train.columns if pd.api.types.is_categorical_dtype(train[col])]\n"
     ]
    },
    {
     "name": "stdout",
     "output_type": "stream",
     "text": [
      "------------------------------------------------------\n",
      "[0.6543219899804318, 0.6528862945978632, 0.6532675079899127]\n",
      "------------------------------------------------------\n"
     ]
    },
    {
     "name": "stderr",
     "output_type": "stream",
     "text": [
      "/tmp/ipykernel_1122/4181465775.py:200: DeprecationWarning: is_categorical_dtype is deprecated and will be removed in a future version. Use isinstance(dtype, pd.CategoricalDtype) instead\n",
      "  cat_cols = [col for col in train.columns if pd.api.types.is_categorical_dtype(train[col])]\n"
     ]
    },
    {
     "name": "stdout",
     "output_type": "stream",
     "text": [
      "------------------------------------------------------\n",
      "[0.6543219899804318, 0.6528862945978632, 0.6532675079899127, 0.6532857792839659]\n",
      "------------------------------------------------------\n"
     ]
    },
    {
     "name": "stderr",
     "output_type": "stream",
     "text": [
      "/tmp/ipykernel_1122/4181465775.py:200: DeprecationWarning: is_categorical_dtype is deprecated and will be removed in a future version. Use isinstance(dtype, pd.CategoricalDtype) instead\n",
      "  cat_cols = [col for col in train.columns if pd.api.types.is_categorical_dtype(train[col])]\n",
      "[I 2025-04-05 21:23:18,575] Trial 0 finished with value: 0.6539793198593751 and parameters: {'iterations': 1022, 'learning_rate': 0.006274253855502115, 'depth': 5, 'l2_leaf_reg': 0.0024782990541922503, 'od_wait': 179}. Best is trial 0 with value: 0.6539793198593751.\n"
     ]
    },
    {
     "name": "stdout",
     "output_type": "stream",
     "text": [
      "------------------------------------------------------\n",
      "[0.6543219899804318, 0.6528862945978632, 0.6532675079899127, 0.6532857792839659, 0.6561350274447014]\n",
      "------------------------------------------------------\n"
     ]
    },
    {
     "name": "stderr",
     "output_type": "stream",
     "text": [
      "/tmp/ipykernel_1122/2720983545.py:33: FutureWarning: suggest_loguniform has been deprecated in v3.0.0. This feature will be removed in v6.0.0. See https://github.com/optuna/optuna/releases/tag/v3.0.0. Use suggest_float(..., log=True) instead.\n",
      "  \"learning_rate\": trial.suggest_loguniform(\"learning_rate\", 0.001, 0.1),\n",
      "/tmp/ipykernel_1122/4181465775.py:200: DeprecationWarning: is_categorical_dtype is deprecated and will be removed in a future version. Use isinstance(dtype, pd.CategoricalDtype) instead\n",
      "  cat_cols = [col for col in train.columns if pd.api.types.is_categorical_dtype(train[col])]\n"
     ]
    },
    {
     "name": "stdout",
     "output_type": "stream",
     "text": [
      "------------------------------------------------------\n",
      "[0.6515628028995706]\n",
      "------------------------------------------------------\n"
     ]
    },
    {
     "name": "stderr",
     "output_type": "stream",
     "text": [
      "/tmp/ipykernel_1122/4181465775.py:200: DeprecationWarning: is_categorical_dtype is deprecated and will be removed in a future version. Use isinstance(dtype, pd.CategoricalDtype) instead\n",
      "  cat_cols = [col for col in train.columns if pd.api.types.is_categorical_dtype(train[col])]\n"
     ]
    },
    {
     "name": "stdout",
     "output_type": "stream",
     "text": [
      "------------------------------------------------------\n",
      "[0.6515628028995706, 0.651249809767151]\n",
      "------------------------------------------------------\n"
     ]
    },
    {
     "name": "stderr",
     "output_type": "stream",
     "text": [
      "/tmp/ipykernel_1122/4181465775.py:200: DeprecationWarning: is_categorical_dtype is deprecated and will be removed in a future version. Use isinstance(dtype, pd.CategoricalDtype) instead\n",
      "  cat_cols = [col for col in train.columns if pd.api.types.is_categorical_dtype(train[col])]\n"
     ]
    },
    {
     "name": "stdout",
     "output_type": "stream",
     "text": [
      "------------------------------------------------------\n",
      "[0.6515628028995706, 0.651249809767151, 0.6513587831727801]\n",
      "------------------------------------------------------\n"
     ]
    },
    {
     "name": "stderr",
     "output_type": "stream",
     "text": [
      "/tmp/ipykernel_1122/4181465775.py:200: DeprecationWarning: is_categorical_dtype is deprecated and will be removed in a future version. Use isinstance(dtype, pd.CategoricalDtype) instead\n",
      "  cat_cols = [col for col in train.columns if pd.api.types.is_categorical_dtype(train[col])]\n"
     ]
    },
    {
     "name": "stdout",
     "output_type": "stream",
     "text": [
      "------------------------------------------------------\n",
      "[0.6515628028995706, 0.651249809767151, 0.6513587831727801, 0.6507657579476207]\n",
      "------------------------------------------------------\n"
     ]
    },
    {
     "name": "stderr",
     "output_type": "stream",
     "text": [
      "/tmp/ipykernel_1122/4181465775.py:200: DeprecationWarning: is_categorical_dtype is deprecated and will be removed in a future version. Use isinstance(dtype, pd.CategoricalDtype) instead\n",
      "  cat_cols = [col for col in train.columns if pd.api.types.is_categorical_dtype(train[col])]\n",
      "[I 2025-04-05 21:26:54,990] Trial 1 finished with value: 0.6518264556480038 and parameters: {'iterations': 1450, 'learning_rate': 0.002048223932557692, 'depth': 6, 'l2_leaf_reg': 2.828736248523099, 'od_wait': 142}. Best is trial 0 with value: 0.6539793198593751.\n"
     ]
    },
    {
     "name": "stdout",
     "output_type": "stream",
     "text": [
      "------------------------------------------------------\n",
      "[0.6515628028995706, 0.651249809767151, 0.6513587831727801, 0.6507657579476207, 0.6541951244528965]\n",
      "------------------------------------------------------\n"
     ]
    },
    {
     "name": "stderr",
     "output_type": "stream",
     "text": [
      "/tmp/ipykernel_1122/2720983545.py:33: FutureWarning: suggest_loguniform has been deprecated in v3.0.0. This feature will be removed in v6.0.0. See https://github.com/optuna/optuna/releases/tag/v3.0.0. Use suggest_float(..., log=True) instead.\n",
      "  \"learning_rate\": trial.suggest_loguniform(\"learning_rate\", 0.001, 0.1),\n",
      "/tmp/ipykernel_1122/4181465775.py:200: DeprecationWarning: is_categorical_dtype is deprecated and will be removed in a future version. Use isinstance(dtype, pd.CategoricalDtype) instead\n",
      "  cat_cols = [col for col in train.columns if pd.api.types.is_categorical_dtype(train[col])]\n"
     ]
    },
    {
     "name": "stdout",
     "output_type": "stream",
     "text": [
      "------------------------------------------------------\n",
      "[0.6580738053084838]\n",
      "------------------------------------------------------\n"
     ]
    },
    {
     "name": "stderr",
     "output_type": "stream",
     "text": [
      "/tmp/ipykernel_1122/4181465775.py:200: DeprecationWarning: is_categorical_dtype is deprecated and will be removed in a future version. Use isinstance(dtype, pd.CategoricalDtype) instead\n",
      "  cat_cols = [col for col in train.columns if pd.api.types.is_categorical_dtype(train[col])]\n"
     ]
    },
    {
     "name": "stdout",
     "output_type": "stream",
     "text": [
      "------------------------------------------------------\n",
      "[0.6580738053084838, 0.6547636584749073]\n",
      "------------------------------------------------------\n"
     ]
    },
    {
     "name": "stderr",
     "output_type": "stream",
     "text": [
      "/tmp/ipykernel_1122/4181465775.py:200: DeprecationWarning: is_categorical_dtype is deprecated and will be removed in a future version. Use isinstance(dtype, pd.CategoricalDtype) instead\n",
      "  cat_cols = [col for col in train.columns if pd.api.types.is_categorical_dtype(train[col])]\n"
     ]
    },
    {
     "name": "stdout",
     "output_type": "stream",
     "text": [
      "------------------------------------------------------\n",
      "[0.6580738053084838, 0.6547636584749073, 0.6550053681664827]\n",
      "------------------------------------------------------\n"
     ]
    },
    {
     "name": "stderr",
     "output_type": "stream",
     "text": [
      "/tmp/ipykernel_1122/4181465775.py:200: DeprecationWarning: is_categorical_dtype is deprecated and will be removed in a future version. Use isinstance(dtype, pd.CategoricalDtype) instead\n",
      "  cat_cols = [col for col in train.columns if pd.api.types.is_categorical_dtype(train[col])]\n"
     ]
    },
    {
     "name": "stdout",
     "output_type": "stream",
     "text": [
      "------------------------------------------------------\n",
      "[0.6580738053084838, 0.6547636584749073, 0.6550053681664827, 0.6543890049270493]\n",
      "------------------------------------------------------\n"
     ]
    },
    {
     "name": "stderr",
     "output_type": "stream",
     "text": [
      "/tmp/ipykernel_1122/4181465775.py:200: DeprecationWarning: is_categorical_dtype is deprecated and will be removed in a future version. Use isinstance(dtype, pd.CategoricalDtype) instead\n",
      "  cat_cols = [col for col in train.columns if pd.api.types.is_categorical_dtype(train[col])]\n",
      "[I 2025-04-05 21:28:27,476] Trial 2 finished with value: 0.6557376869880308 and parameters: {'iterations': 1410, 'learning_rate': 0.024923092706945482, 'depth': 4, 'l2_leaf_reg': 0.0010327641968038476, 'od_wait': 53}. Best is trial 2 with value: 0.6557376869880308.\n"
     ]
    },
    {
     "name": "stdout",
     "output_type": "stream",
     "text": [
      "------------------------------------------------------\n",
      "[0.6580738053084838, 0.6547636584749073, 0.6550053681664827, 0.6543890049270493, 0.6564565980632311]\n",
      "------------------------------------------------------\n"
     ]
    },
    {
     "name": "stderr",
     "output_type": "stream",
     "text": [
      "/tmp/ipykernel_1122/2720983545.py:33: FutureWarning: suggest_loguniform has been deprecated in v3.0.0. This feature will be removed in v6.0.0. See https://github.com/optuna/optuna/releases/tag/v3.0.0. Use suggest_float(..., log=True) instead.\n",
      "  \"learning_rate\": trial.suggest_loguniform(\"learning_rate\", 0.001, 0.1),\n",
      "/tmp/ipykernel_1122/4181465775.py:200: DeprecationWarning: is_categorical_dtype is deprecated and will be removed in a future version. Use isinstance(dtype, pd.CategoricalDtype) instead\n",
      "  cat_cols = [col for col in train.columns if pd.api.types.is_categorical_dtype(train[col])]\n"
     ]
    },
    {
     "name": "stdout",
     "output_type": "stream",
     "text": [
      "------------------------------------------------------\n",
      "[0.6568887686917012]\n",
      "------------------------------------------------------\n"
     ]
    },
    {
     "name": "stderr",
     "output_type": "stream",
     "text": [
      "/tmp/ipykernel_1122/4181465775.py:200: DeprecationWarning: is_categorical_dtype is deprecated and will be removed in a future version. Use isinstance(dtype, pd.CategoricalDtype) instead\n",
      "  cat_cols = [col for col in train.columns if pd.api.types.is_categorical_dtype(train[col])]\n"
     ]
    },
    {
     "name": "stdout",
     "output_type": "stream",
     "text": [
      "------------------------------------------------------\n",
      "[0.6568887686917012, 0.6542530622721012]\n",
      "------------------------------------------------------\n"
     ]
    },
    {
     "name": "stderr",
     "output_type": "stream",
     "text": [
      "/tmp/ipykernel_1122/4181465775.py:200: DeprecationWarning: is_categorical_dtype is deprecated and will be removed in a future version. Use isinstance(dtype, pd.CategoricalDtype) instead\n",
      "  cat_cols = [col for col in train.columns if pd.api.types.is_categorical_dtype(train[col])]\n"
     ]
    },
    {
     "name": "stdout",
     "output_type": "stream",
     "text": [
      "------------------------------------------------------\n",
      "[0.6568887686917012, 0.6542530622721012, 0.6553890675256818]\n",
      "------------------------------------------------------\n"
     ]
    },
    {
     "name": "stderr",
     "output_type": "stream",
     "text": [
      "/tmp/ipykernel_1122/4181465775.py:200: DeprecationWarning: is_categorical_dtype is deprecated and will be removed in a future version. Use isinstance(dtype, pd.CategoricalDtype) instead\n",
      "  cat_cols = [col for col in train.columns if pd.api.types.is_categorical_dtype(train[col])]\n"
     ]
    },
    {
     "name": "stdout",
     "output_type": "stream",
     "text": [
      "------------------------------------------------------\n",
      "[0.6568887686917012, 0.6542530622721012, 0.6553890675256818, 0.6553008948253934]\n",
      "------------------------------------------------------\n"
     ]
    },
    {
     "name": "stderr",
     "output_type": "stream",
     "text": [
      "/tmp/ipykernel_1122/4181465775.py:200: DeprecationWarning: is_categorical_dtype is deprecated and will be removed in a future version. Use isinstance(dtype, pd.CategoricalDtype) instead\n",
      "  cat_cols = [col for col in train.columns if pd.api.types.is_categorical_dtype(train[col])]\n",
      "[I 2025-04-05 21:29:35,490] Trial 3 finished with value: 0.655711143616361 and parameters: {'iterations': 670, 'learning_rate': 0.033784409932410636, 'depth': 4, 'l2_leaf_reg': 0.0022747232729869076, 'od_wait': 180}. Best is trial 2 with value: 0.6557376869880308.\n"
     ]
    },
    {
     "name": "stdout",
     "output_type": "stream",
     "text": [
      "------------------------------------------------------\n",
      "[0.6568887686917012, 0.6542530622721012, 0.6553890675256818, 0.6553008948253934, 0.656723924766927]\n",
      "------------------------------------------------------\n"
     ]
    },
    {
     "name": "stderr",
     "output_type": "stream",
     "text": [
      "/tmp/ipykernel_1122/2720983545.py:33: FutureWarning: suggest_loguniform has been deprecated in v3.0.0. This feature will be removed in v6.0.0. See https://github.com/optuna/optuna/releases/tag/v3.0.0. Use suggest_float(..., log=True) instead.\n",
      "  \"learning_rate\": trial.suggest_loguniform(\"learning_rate\", 0.001, 0.1),\n",
      "/tmp/ipykernel_1122/4181465775.py:200: DeprecationWarning: is_categorical_dtype is deprecated and will be removed in a future version. Use isinstance(dtype, pd.CategoricalDtype) instead\n",
      "  cat_cols = [col for col in train.columns if pd.api.types.is_categorical_dtype(train[col])]\n"
     ]
    },
    {
     "name": "stdout",
     "output_type": "stream",
     "text": [
      "------------------------------------------------------\n",
      "[0.6505853629118623]\n",
      "------------------------------------------------------\n"
     ]
    },
    {
     "name": "stderr",
     "output_type": "stream",
     "text": [
      "/tmp/ipykernel_1122/4181465775.py:200: DeprecationWarning: is_categorical_dtype is deprecated and will be removed in a future version. Use isinstance(dtype, pd.CategoricalDtype) instead\n",
      "  cat_cols = [col for col in train.columns if pd.api.types.is_categorical_dtype(train[col])]\n"
     ]
    },
    {
     "name": "stdout",
     "output_type": "stream",
     "text": [
      "------------------------------------------------------\n",
      "[0.6505853629118623, 0.6493252385682587]\n",
      "------------------------------------------------------\n"
     ]
    },
    {
     "name": "stderr",
     "output_type": "stream",
     "text": [
      "/tmp/ipykernel_1122/4181465775.py:200: DeprecationWarning: is_categorical_dtype is deprecated and will be removed in a future version. Use isinstance(dtype, pd.CategoricalDtype) instead\n",
      "  cat_cols = [col for col in train.columns if pd.api.types.is_categorical_dtype(train[col])]\n"
     ]
    },
    {
     "name": "stdout",
     "output_type": "stream",
     "text": [
      "------------------------------------------------------\n",
      "[0.6505853629118623, 0.6493252385682587, 0.6498047497845103]\n",
      "------------------------------------------------------\n"
     ]
    },
    {
     "name": "stderr",
     "output_type": "stream",
     "text": [
      "/tmp/ipykernel_1122/4181465775.py:200: DeprecationWarning: is_categorical_dtype is deprecated and will be removed in a future version. Use isinstance(dtype, pd.CategoricalDtype) instead\n",
      "  cat_cols = [col for col in train.columns if pd.api.types.is_categorical_dtype(train[col])]\n"
     ]
    },
    {
     "name": "stdout",
     "output_type": "stream",
     "text": [
      "------------------------------------------------------\n",
      "[0.6505853629118623, 0.6493252385682587, 0.6498047497845103, 0.6481312910447573]\n",
      "------------------------------------------------------\n"
     ]
    },
    {
     "name": "stderr",
     "output_type": "stream",
     "text": [
      "/tmp/ipykernel_1122/4181465775.py:200: DeprecationWarning: is_categorical_dtype is deprecated and will be removed in a future version. Use isinstance(dtype, pd.CategoricalDtype) instead\n",
      "  cat_cols = [col for col in train.columns if pd.api.types.is_categorical_dtype(train[col])]\n",
      "[I 2025-04-05 21:48:44,174] Trial 4 finished with value: 0.6494841248958124 and parameters: {'iterations': 1967, 'learning_rate': 0.013809758808113026, 'depth': 12, 'l2_leaf_reg': 0.10910387331007362, 'od_wait': 176}. Best is trial 2 with value: 0.6557376869880308.\n"
     ]
    },
    {
     "name": "stdout",
     "output_type": "stream",
     "text": [
      "------------------------------------------------------\n",
      "[0.6505853629118623, 0.6493252385682587, 0.6498047497845103, 0.6481312910447573, 0.6495739821696738]\n",
      "------------------------------------------------------\n"
     ]
    },
    {
     "name": "stderr",
     "output_type": "stream",
     "text": [
      "/tmp/ipykernel_1122/2720983545.py:33: FutureWarning: suggest_loguniform has been deprecated in v3.0.0. This feature will be removed in v6.0.0. See https://github.com/optuna/optuna/releases/tag/v3.0.0. Use suggest_float(..., log=True) instead.\n",
      "  \"learning_rate\": trial.suggest_loguniform(\"learning_rate\", 0.001, 0.1),\n",
      "/tmp/ipykernel_1122/4181465775.py:200: DeprecationWarning: is_categorical_dtype is deprecated and will be removed in a future version. Use isinstance(dtype, pd.CategoricalDtype) instead\n",
      "  cat_cols = [col for col in train.columns if pd.api.types.is_categorical_dtype(train[col])]\n"
     ]
    },
    {
     "name": "stdout",
     "output_type": "stream",
     "text": [
      "------------------------------------------------------\n",
      "[0.6562446833833027]\n",
      "------------------------------------------------------\n"
     ]
    },
    {
     "name": "stderr",
     "output_type": "stream",
     "text": [
      "/tmp/ipykernel_1122/4181465775.py:200: DeprecationWarning: is_categorical_dtype is deprecated and will be removed in a future version. Use isinstance(dtype, pd.CategoricalDtype) instead\n",
      "  cat_cols = [col for col in train.columns if pd.api.types.is_categorical_dtype(train[col])]\n"
     ]
    },
    {
     "name": "stdout",
     "output_type": "stream",
     "text": [
      "------------------------------------------------------\n",
      "[0.6562446833833027, 0.6530754442247877]\n",
      "------------------------------------------------------\n"
     ]
    },
    {
     "name": "stderr",
     "output_type": "stream",
     "text": [
      "/tmp/ipykernel_1122/4181465775.py:200: DeprecationWarning: is_categorical_dtype is deprecated and will be removed in a future version. Use isinstance(dtype, pd.CategoricalDtype) instead\n",
      "  cat_cols = [col for col in train.columns if pd.api.types.is_categorical_dtype(train[col])]\n"
     ]
    },
    {
     "name": "stdout",
     "output_type": "stream",
     "text": [
      "------------------------------------------------------\n",
      "[0.6562446833833027, 0.6530754442247877, 0.6548190628856829]\n",
      "------------------------------------------------------\n"
     ]
    },
    {
     "name": "stderr",
     "output_type": "stream",
     "text": [
      "/tmp/ipykernel_1122/4181465775.py:200: DeprecationWarning: is_categorical_dtype is deprecated and will be removed in a future version. Use isinstance(dtype, pd.CategoricalDtype) instead\n",
      "  cat_cols = [col for col in train.columns if pd.api.types.is_categorical_dtype(train[col])]\n"
     ]
    },
    {
     "name": "stdout",
     "output_type": "stream",
     "text": [
      "------------------------------------------------------\n",
      "[0.6562446833833027, 0.6530754442247877, 0.6548190628856829, 0.6548643000370801]\n",
      "------------------------------------------------------\n"
     ]
    },
    {
     "name": "stderr",
     "output_type": "stream",
     "text": [
      "/tmp/ipykernel_1122/4181465775.py:200: DeprecationWarning: is_categorical_dtype is deprecated and will be removed in a future version. Use isinstance(dtype, pd.CategoricalDtype) instead\n",
      "  cat_cols = [col for col in train.columns if pd.api.types.is_categorical_dtype(train[col])]\n",
      "[I 2025-04-05 21:49:55,036] Trial 5 finished with value: 0.6551316829737056 and parameters: {'iterations': 794, 'learning_rate': 0.02341017480852623, 'depth': 4, 'l2_leaf_reg': 0.8630024382103239, 'od_wait': 75}. Best is trial 2 with value: 0.6557376869880308.\n"
     ]
    },
    {
     "name": "stdout",
     "output_type": "stream",
     "text": [
      "------------------------------------------------------\n",
      "[0.6562446833833027, 0.6530754442247877, 0.6548190628856829, 0.6548643000370801, 0.6566549243376743]\n",
      "------------------------------------------------------\n"
     ]
    },
    {
     "name": "stderr",
     "output_type": "stream",
     "text": [
      "/tmp/ipykernel_1122/2720983545.py:33: FutureWarning: suggest_loguniform has been deprecated in v3.0.0. This feature will be removed in v6.0.0. See https://github.com/optuna/optuna/releases/tag/v3.0.0. Use suggest_float(..., log=True) instead.\n",
      "  \"learning_rate\": trial.suggest_loguniform(\"learning_rate\", 0.001, 0.1),\n",
      "/tmp/ipykernel_1122/4181465775.py:200: DeprecationWarning: is_categorical_dtype is deprecated and will be removed in a future version. Use isinstance(dtype, pd.CategoricalDtype) instead\n",
      "  cat_cols = [col for col in train.columns if pd.api.types.is_categorical_dtype(train[col])]\n"
     ]
    },
    {
     "name": "stdout",
     "output_type": "stream",
     "text": [
      "------------------------------------------------------\n",
      "[0.6564621495407317]\n",
      "------------------------------------------------------\n"
     ]
    },
    {
     "name": "stderr",
     "output_type": "stream",
     "text": [
      "/tmp/ipykernel_1122/4181465775.py:200: DeprecationWarning: is_categorical_dtype is deprecated and will be removed in a future version. Use isinstance(dtype, pd.CategoricalDtype) instead\n",
      "  cat_cols = [col for col in train.columns if pd.api.types.is_categorical_dtype(train[col])]\n"
     ]
    },
    {
     "name": "stdout",
     "output_type": "stream",
     "text": [
      "------------------------------------------------------\n",
      "[0.6564621495407317, 0.6538797234956999]\n",
      "------------------------------------------------------\n"
     ]
    },
    {
     "name": "stderr",
     "output_type": "stream",
     "text": [
      "/tmp/ipykernel_1122/4181465775.py:200: DeprecationWarning: is_categorical_dtype is deprecated and will be removed in a future version. Use isinstance(dtype, pd.CategoricalDtype) instead\n",
      "  cat_cols = [col for col in train.columns if pd.api.types.is_categorical_dtype(train[col])]\n"
     ]
    },
    {
     "name": "stdout",
     "output_type": "stream",
     "text": [
      "------------------------------------------------------\n",
      "[0.6564621495407317, 0.6538797234956999, 0.655112858647676]\n",
      "------------------------------------------------------\n"
     ]
    },
    {
     "name": "stderr",
     "output_type": "stream",
     "text": [
      "/tmp/ipykernel_1122/4181465775.py:200: DeprecationWarning: is_categorical_dtype is deprecated and will be removed in a future version. Use isinstance(dtype, pd.CategoricalDtype) instead\n",
      "  cat_cols = [col for col in train.columns if pd.api.types.is_categorical_dtype(train[col])]\n"
     ]
    },
    {
     "name": "stdout",
     "output_type": "stream",
     "text": [
      "------------------------------------------------------\n",
      "[0.6564621495407317, 0.6538797234956999, 0.655112858647676, 0.6545870614212209]\n",
      "------------------------------------------------------\n"
     ]
    },
    {
     "name": "stderr",
     "output_type": "stream",
     "text": [
      "/tmp/ipykernel_1122/4181465775.py:200: DeprecationWarning: is_categorical_dtype is deprecated and will be removed in a future version. Use isinstance(dtype, pd.CategoricalDtype) instead\n",
      "  cat_cols = [col for col in train.columns if pd.api.types.is_categorical_dtype(train[col])]\n",
      "[I 2025-04-05 21:51:27,818] Trial 6 finished with value: 0.6552355336755721 and parameters: {'iterations': 1030, 'learning_rate': 0.022513673592390444, 'depth': 4, 'l2_leaf_reg': 0.548742794328461, 'od_wait': 133}. Best is trial 2 with value: 0.6557376869880308.\n"
     ]
    },
    {
     "name": "stdout",
     "output_type": "stream",
     "text": [
      "------------------------------------------------------\n",
      "[0.6564621495407317, 0.6538797234956999, 0.655112858647676, 0.6545870614212209, 0.6561358752725318]\n",
      "------------------------------------------------------\n"
     ]
    },
    {
     "name": "stderr",
     "output_type": "stream",
     "text": [
      "/tmp/ipykernel_1122/2720983545.py:33: FutureWarning: suggest_loguniform has been deprecated in v3.0.0. This feature will be removed in v6.0.0. See https://github.com/optuna/optuna/releases/tag/v3.0.0. Use suggest_float(..., log=True) instead.\n",
      "  \"learning_rate\": trial.suggest_loguniform(\"learning_rate\", 0.001, 0.1),\n",
      "/tmp/ipykernel_1122/4181465775.py:200: DeprecationWarning: is_categorical_dtype is deprecated and will be removed in a future version. Use isinstance(dtype, pd.CategoricalDtype) instead\n",
      "  cat_cols = [col for col in train.columns if pd.api.types.is_categorical_dtype(train[col])]\n"
     ]
    },
    {
     "name": "stdout",
     "output_type": "stream",
     "text": [
      "------------------------------------------------------\n",
      "[0.6570380389967485]\n",
      "------------------------------------------------------\n"
     ]
    },
    {
     "name": "stderr",
     "output_type": "stream",
     "text": [
      "/tmp/ipykernel_1122/4181465775.py:200: DeprecationWarning: is_categorical_dtype is deprecated and will be removed in a future version. Use isinstance(dtype, pd.CategoricalDtype) instead\n",
      "  cat_cols = [col for col in train.columns if pd.api.types.is_categorical_dtype(train[col])]\n"
     ]
    },
    {
     "name": "stdout",
     "output_type": "stream",
     "text": [
      "------------------------------------------------------\n",
      "[0.6570380389967485, 0.6540763427767395]\n",
      "------------------------------------------------------\n"
     ]
    },
    {
     "name": "stderr",
     "output_type": "stream",
     "text": [
      "/tmp/ipykernel_1122/4181465775.py:200: DeprecationWarning: is_categorical_dtype is deprecated and will be removed in a future version. Use isinstance(dtype, pd.CategoricalDtype) instead\n",
      "  cat_cols = [col for col in train.columns if pd.api.types.is_categorical_dtype(train[col])]\n"
     ]
    },
    {
     "name": "stdout",
     "output_type": "stream",
     "text": [
      "------------------------------------------------------\n",
      "[0.6570380389967485, 0.6540763427767395, 0.6544447864013849]\n",
      "------------------------------------------------------\n"
     ]
    },
    {
     "name": "stderr",
     "output_type": "stream",
     "text": [
      "/tmp/ipykernel_1122/4181465775.py:200: DeprecationWarning: is_categorical_dtype is deprecated and will be removed in a future version. Use isinstance(dtype, pd.CategoricalDtype) instead\n",
      "  cat_cols = [col for col in train.columns if pd.api.types.is_categorical_dtype(train[col])]\n"
     ]
    },
    {
     "name": "stdout",
     "output_type": "stream",
     "text": [
      "------------------------------------------------------\n",
      "[0.6570380389967485, 0.6540763427767395, 0.6544447864013849, 0.654894751824074]\n",
      "------------------------------------------------------\n"
     ]
    },
    {
     "name": "stderr",
     "output_type": "stream",
     "text": [
      "/tmp/ipykernel_1122/4181465775.py:200: DeprecationWarning: is_categorical_dtype is deprecated and will be removed in a future version. Use isinstance(dtype, pd.CategoricalDtype) instead\n",
      "  cat_cols = [col for col in train.columns if pd.api.types.is_categorical_dtype(train[col])]\n",
      "[I 2025-04-05 21:57:01,037] Trial 7 finished with value: 0.6553532177979771 and parameters: {'iterations': 993, 'learning_rate': 0.006815842889015404, 'depth': 10, 'l2_leaf_reg': 6.67138195530353, 'od_wait': 166}. Best is trial 2 with value: 0.6557376869880308.\n"
     ]
    },
    {
     "name": "stdout",
     "output_type": "stream",
     "text": [
      "------------------------------------------------------\n",
      "[0.6570380389967485, 0.6540763427767395, 0.6544447864013849, 0.654894751824074, 0.6563121689909386]\n",
      "------------------------------------------------------\n"
     ]
    },
    {
     "name": "stderr",
     "output_type": "stream",
     "text": [
      "/tmp/ipykernel_1122/2720983545.py:33: FutureWarning: suggest_loguniform has been deprecated in v3.0.0. This feature will be removed in v6.0.0. See https://github.com/optuna/optuna/releases/tag/v3.0.0. Use suggest_float(..., log=True) instead.\n",
      "  \"learning_rate\": trial.suggest_loguniform(\"learning_rate\", 0.001, 0.1),\n",
      "/tmp/ipykernel_1122/4181465775.py:200: DeprecationWarning: is_categorical_dtype is deprecated and will be removed in a future version. Use isinstance(dtype, pd.CategoricalDtype) instead\n",
      "  cat_cols = [col for col in train.columns if pd.api.types.is_categorical_dtype(train[col])]\n"
     ]
    },
    {
     "name": "stdout",
     "output_type": "stream",
     "text": [
      "------------------------------------------------------\n",
      "[0.6521821181643583]\n",
      "------------------------------------------------------\n"
     ]
    },
    {
     "name": "stderr",
     "output_type": "stream",
     "text": [
      "/tmp/ipykernel_1122/4181465775.py:200: DeprecationWarning: is_categorical_dtype is deprecated and will be removed in a future version. Use isinstance(dtype, pd.CategoricalDtype) instead\n",
      "  cat_cols = [col for col in train.columns if pd.api.types.is_categorical_dtype(train[col])]\n"
     ]
    },
    {
     "name": "stdout",
     "output_type": "stream",
     "text": [
      "------------------------------------------------------\n",
      "[0.6521821181643583, 0.6515471967218942]\n",
      "------------------------------------------------------\n"
     ]
    },
    {
     "name": "stderr",
     "output_type": "stream",
     "text": [
      "/tmp/ipykernel_1122/4181465775.py:200: DeprecationWarning: is_categorical_dtype is deprecated and will be removed in a future version. Use isinstance(dtype, pd.CategoricalDtype) instead\n",
      "  cat_cols = [col for col in train.columns if pd.api.types.is_categorical_dtype(train[col])]\n"
     ]
    },
    {
     "name": "stdout",
     "output_type": "stream",
     "text": [
      "------------------------------------------------------\n",
      "[0.6521821181643583, 0.6515471967218942, 0.6517905745876766]\n",
      "------------------------------------------------------\n"
     ]
    },
    {
     "name": "stderr",
     "output_type": "stream",
     "text": [
      "/tmp/ipykernel_1122/4181465775.py:200: DeprecationWarning: is_categorical_dtype is deprecated and will be removed in a future version. Use isinstance(dtype, pd.CategoricalDtype) instead\n",
      "  cat_cols = [col for col in train.columns if pd.api.types.is_categorical_dtype(train[col])]\n"
     ]
    },
    {
     "name": "stdout",
     "output_type": "stream",
     "text": [
      "------------------------------------------------------\n",
      "[0.6521821181643583, 0.6515471967218942, 0.6517905745876766, 0.6515071959876935]\n",
      "------------------------------------------------------\n"
     ]
    },
    {
     "name": "stderr",
     "output_type": "stream",
     "text": [
      "/tmp/ipykernel_1122/4181465775.py:200: DeprecationWarning: is_categorical_dtype is deprecated and will be removed in a future version. Use isinstance(dtype, pd.CategoricalDtype) instead\n",
      "  cat_cols = [col for col in train.columns if pd.api.types.is_categorical_dtype(train[col])]\n",
      "[I 2025-04-05 21:59:35,620] Trial 8 finished with value: 0.6523385125002994 and parameters: {'iterations': 1652, 'learning_rate': 0.002936288150891359, 'depth': 4, 'l2_leaf_reg': 0.04327772532639689, 'od_wait': 62}. Best is trial 2 with value: 0.6557376869880308.\n"
     ]
    },
    {
     "name": "stdout",
     "output_type": "stream",
     "text": [
      "------------------------------------------------------\n",
      "[0.6521821181643583, 0.6515471967218942, 0.6517905745876766, 0.6515071959876935, 0.6546654770398741]\n",
      "------------------------------------------------------\n"
     ]
    },
    {
     "name": "stderr",
     "output_type": "stream",
     "text": [
      "/tmp/ipykernel_1122/2720983545.py:33: FutureWarning: suggest_loguniform has been deprecated in v3.0.0. This feature will be removed in v6.0.0. See https://github.com/optuna/optuna/releases/tag/v3.0.0. Use suggest_float(..., log=True) instead.\n",
      "  \"learning_rate\": trial.suggest_loguniform(\"learning_rate\", 0.001, 0.1),\n",
      "/tmp/ipykernel_1122/4181465775.py:200: DeprecationWarning: is_categorical_dtype is deprecated and will be removed in a future version. Use isinstance(dtype, pd.CategoricalDtype) instead\n",
      "  cat_cols = [col for col in train.columns if pd.api.types.is_categorical_dtype(train[col])]\n"
     ]
    },
    {
     "name": "stdout",
     "output_type": "stream",
     "text": [
      "------------------------------------------------------\n",
      "[0.6508973981547597]\n",
      "------------------------------------------------------\n"
     ]
    },
    {
     "name": "stderr",
     "output_type": "stream",
     "text": [
      "/tmp/ipykernel_1122/4181465775.py:200: DeprecationWarning: is_categorical_dtype is deprecated and will be removed in a future version. Use isinstance(dtype, pd.CategoricalDtype) instead\n",
      "  cat_cols = [col for col in train.columns if pd.api.types.is_categorical_dtype(train[col])]\n"
     ]
    },
    {
     "name": "stdout",
     "output_type": "stream",
     "text": [
      "------------------------------------------------------\n",
      "[0.6508973981547597, 0.6479861610584572]\n",
      "------------------------------------------------------\n"
     ]
    },
    {
     "name": "stderr",
     "output_type": "stream",
     "text": [
      "/tmp/ipykernel_1122/4181465775.py:200: DeprecationWarning: is_categorical_dtype is deprecated and will be removed in a future version. Use isinstance(dtype, pd.CategoricalDtype) instead\n",
      "  cat_cols = [col for col in train.columns if pd.api.types.is_categorical_dtype(train[col])]\n"
     ]
    },
    {
     "name": "stdout",
     "output_type": "stream",
     "text": [
      "------------------------------------------------------\n",
      "[0.6508973981547597, 0.6479861610584572, 0.6485543523300065]\n",
      "------------------------------------------------------\n"
     ]
    },
    {
     "name": "stderr",
     "output_type": "stream",
     "text": [
      "/tmp/ipykernel_1122/4181465775.py:200: DeprecationWarning: is_categorical_dtype is deprecated and will be removed in a future version. Use isinstance(dtype, pd.CategoricalDtype) instead\n",
      "  cat_cols = [col for col in train.columns if pd.api.types.is_categorical_dtype(train[col])]\n"
     ]
    },
    {
     "name": "stdout",
     "output_type": "stream",
     "text": [
      "------------------------------------------------------\n",
      "[0.6508973981547597, 0.6479861610584572, 0.6485543523300065, 0.6484618057823766]\n",
      "------------------------------------------------------\n"
     ]
    },
    {
     "name": "stderr",
     "output_type": "stream",
     "text": [
      "/tmp/ipykernel_1122/4181465775.py:200: DeprecationWarning: is_categorical_dtype is deprecated and will be removed in a future version. Use isinstance(dtype, pd.CategoricalDtype) instead\n",
      "  cat_cols = [col for col in train.columns if pd.api.types.is_categorical_dtype(train[col])]\n",
      "[I 2025-04-05 22:16:16,725] Trial 9 finished with value: 0.6493323032720226 and parameters: {'iterations': 1645, 'learning_rate': 0.03658833933514753, 'depth': 12, 'l2_leaf_reg': 4.705194347206003, 'od_wait': 154}. Best is trial 2 with value: 0.6557376869880308.\n"
     ]
    },
    {
     "name": "stdout",
     "output_type": "stream",
     "text": [
      "------------------------------------------------------\n",
      "[0.6508973981547597, 0.6479861610584572, 0.6485543523300065, 0.6484618057823766, 0.6507617990345131]\n",
      "------------------------------------------------------\n"
     ]
    },
    {
     "name": "stderr",
     "output_type": "stream",
     "text": [
      "/tmp/ipykernel_1122/2720983545.py:33: FutureWarning: suggest_loguniform has been deprecated in v3.0.0. This feature will be removed in v6.0.0. See https://github.com/optuna/optuna/releases/tag/v3.0.0. Use suggest_float(..., log=True) instead.\n",
      "  \"learning_rate\": trial.suggest_loguniform(\"learning_rate\", 0.001, 0.1),\n",
      "/tmp/ipykernel_1122/4181465775.py:200: DeprecationWarning: is_categorical_dtype is deprecated and will be removed in a future version. Use isinstance(dtype, pd.CategoricalDtype) instead\n",
      "  cat_cols = [col for col in train.columns if pd.api.types.is_categorical_dtype(train[col])]\n"
     ]
    },
    {
     "name": "stdout",
     "output_type": "stream",
     "text": [
      "------------------------------------------------------\n",
      "[0.6578466600568482]\n",
      "------------------------------------------------------\n"
     ]
    },
    {
     "name": "stderr",
     "output_type": "stream",
     "text": [
      "/tmp/ipykernel_1122/4181465775.py:200: DeprecationWarning: is_categorical_dtype is deprecated and will be removed in a future version. Use isinstance(dtype, pd.CategoricalDtype) instead\n",
      "  cat_cols = [col for col in train.columns if pd.api.types.is_categorical_dtype(train[col])]\n"
     ]
    },
    {
     "name": "stdout",
     "output_type": "stream",
     "text": [
      "------------------------------------------------------\n",
      "[0.6578466600568482, 0.655558041169906]\n",
      "------------------------------------------------------\n"
     ]
    },
    {
     "name": "stderr",
     "output_type": "stream",
     "text": [
      "/tmp/ipykernel_1122/4181465775.py:200: DeprecationWarning: is_categorical_dtype is deprecated and will be removed in a future version. Use isinstance(dtype, pd.CategoricalDtype) instead\n",
      "  cat_cols = [col for col in train.columns if pd.api.types.is_categorical_dtype(train[col])]\n"
     ]
    },
    {
     "name": "stdout",
     "output_type": "stream",
     "text": [
      "------------------------------------------------------\n",
      "[0.6578466600568482, 0.655558041169906, 0.6550589142533031]\n",
      "------------------------------------------------------\n"
     ]
    },
    {
     "name": "stderr",
     "output_type": "stream",
     "text": [
      "/tmp/ipykernel_1122/4181465775.py:200: DeprecationWarning: is_categorical_dtype is deprecated and will be removed in a future version. Use isinstance(dtype, pd.CategoricalDtype) instead\n",
      "  cat_cols = [col for col in train.columns if pd.api.types.is_categorical_dtype(train[col])]\n"
     ]
    },
    {
     "name": "stdout",
     "output_type": "stream",
     "text": [
      "------------------------------------------------------\n",
      "[0.6578466600568482, 0.655558041169906, 0.6550589142533031, 0.6536873148214983]\n",
      "------------------------------------------------------\n"
     ]
    },
    {
     "name": "stderr",
     "output_type": "stream",
     "text": [
      "/tmp/ipykernel_1122/4181465775.py:200: DeprecationWarning: is_categorical_dtype is deprecated and will be removed in a future version. Use isinstance(dtype, pd.CategoricalDtype) instead\n",
      "  cat_cols = [col for col in train.columns if pd.api.types.is_categorical_dtype(train[col])]\n",
      "[I 2025-04-05 22:19:30,761] Trial 10 finished with value: 0.655597531323643 and parameters: {'iterations': 1347, 'learning_rate': 0.09149690632111399, 'depth': 7, 'l2_leaf_reg': 0.01365418954785348, 'od_wait': 100}. Best is trial 2 with value: 0.6557376869880308.\n"
     ]
    },
    {
     "name": "stdout",
     "output_type": "stream",
     "text": [
      "------------------------------------------------------\n",
      "[0.6578466600568482, 0.655558041169906, 0.6550589142533031, 0.6536873148214983, 0.6558367263166591]\n",
      "------------------------------------------------------\n"
     ]
    },
    {
     "name": "stderr",
     "output_type": "stream",
     "text": [
      "/tmp/ipykernel_1122/2720983545.py:33: FutureWarning: suggest_loguniform has been deprecated in v3.0.0. This feature will be removed in v6.0.0. See https://github.com/optuna/optuna/releases/tag/v3.0.0. Use suggest_float(..., log=True) instead.\n",
      "  \"learning_rate\": trial.suggest_loguniform(\"learning_rate\", 0.001, 0.1),\n",
      "/tmp/ipykernel_1122/4181465775.py:200: DeprecationWarning: is_categorical_dtype is deprecated and will be removed in a future version. Use isinstance(dtype, pd.CategoricalDtype) instead\n",
      "  cat_cols = [col for col in train.columns if pd.api.types.is_categorical_dtype(train[col])]\n"
     ]
    },
    {
     "name": "stdout",
     "output_type": "stream",
     "text": [
      "------------------------------------------------------\n",
      "[0.6574174760389253]\n",
      "------------------------------------------------------\n"
     ]
    },
    {
     "name": "stderr",
     "output_type": "stream",
     "text": [
      "/tmp/ipykernel_1122/4181465775.py:200: DeprecationWarning: is_categorical_dtype is deprecated and will be removed in a future version. Use isinstance(dtype, pd.CategoricalDtype) instead\n",
      "  cat_cols = [col for col in train.columns if pd.api.types.is_categorical_dtype(train[col])]\n"
     ]
    },
    {
     "name": "stdout",
     "output_type": "stream",
     "text": [
      "------------------------------------------------------\n",
      "[0.6574174760389253, 0.6553895611093976]\n",
      "------------------------------------------------------\n"
     ]
    },
    {
     "name": "stderr",
     "output_type": "stream",
     "text": [
      "/tmp/ipykernel_1122/4181465775.py:200: DeprecationWarning: is_categorical_dtype is deprecated and will be removed in a future version. Use isinstance(dtype, pd.CategoricalDtype) instead\n",
      "  cat_cols = [col for col in train.columns if pd.api.types.is_categorical_dtype(train[col])]\n"
     ]
    },
    {
     "name": "stdout",
     "output_type": "stream",
     "text": [
      "------------------------------------------------------\n",
      "[0.6574174760389253, 0.6553895611093976, 0.6563704770046265]\n",
      "------------------------------------------------------\n"
     ]
    },
    {
     "name": "stderr",
     "output_type": "stream",
     "text": [
      "/tmp/ipykernel_1122/4181465775.py:200: DeprecationWarning: is_categorical_dtype is deprecated and will be removed in a future version. Use isinstance(dtype, pd.CategoricalDtype) instead\n",
      "  cat_cols = [col for col in train.columns if pd.api.types.is_categorical_dtype(train[col])]\n"
     ]
    },
    {
     "name": "stdout",
     "output_type": "stream",
     "text": [
      "------------------------------------------------------\n",
      "[0.6574174760389253, 0.6553895611093976, 0.6563704770046265, 0.654636781141545]\n",
      "------------------------------------------------------\n"
     ]
    },
    {
     "name": "stderr",
     "output_type": "stream",
     "text": [
      "/tmp/ipykernel_1122/4181465775.py:200: DeprecationWarning: is_categorical_dtype is deprecated and will be removed in a future version. Use isinstance(dtype, pd.CategoricalDtype) instead\n",
      "  cat_cols = [col for col in train.columns if pd.api.types.is_categorical_dtype(train[col])]\n",
      "[I 2025-04-05 22:22:03,577] Trial 11 finished with value: 0.6561284454785733 and parameters: {'iterations': 623, 'learning_rate': 0.06145137426387248, 'depth': 8, 'l2_leaf_reg': 0.0010797398113012214, 'od_wait': 198}. Best is trial 11 with value: 0.6561284454785733.\n"
     ]
    },
    {
     "name": "stdout",
     "output_type": "stream",
     "text": [
      "------------------------------------------------------\n",
      "[0.6574174760389253, 0.6553895611093976, 0.6563704770046265, 0.654636781141545, 0.6568279320983726]\n",
      "------------------------------------------------------\n"
     ]
    },
    {
     "name": "stderr",
     "output_type": "stream",
     "text": [
      "/tmp/ipykernel_1122/2720983545.py:33: FutureWarning: suggest_loguniform has been deprecated in v3.0.0. This feature will be removed in v6.0.0. See https://github.com/optuna/optuna/releases/tag/v3.0.0. Use suggest_float(..., log=True) instead.\n",
      "  \"learning_rate\": trial.suggest_loguniform(\"learning_rate\", 0.001, 0.1),\n",
      "/tmp/ipykernel_1122/4181465775.py:200: DeprecationWarning: is_categorical_dtype is deprecated and will be removed in a future version. Use isinstance(dtype, pd.CategoricalDtype) instead\n",
      "  cat_cols = [col for col in train.columns if pd.api.types.is_categorical_dtype(train[col])]\n"
     ]
    },
    {
     "name": "stdout",
     "output_type": "stream",
     "text": [
      "------------------------------------------------------\n",
      "[0.6552578616945589]\n",
      "------------------------------------------------------\n"
     ]
    },
    {
     "name": "stderr",
     "output_type": "stream",
     "text": [
      "/tmp/ipykernel_1122/4181465775.py:200: DeprecationWarning: is_categorical_dtype is deprecated and will be removed in a future version. Use isinstance(dtype, pd.CategoricalDtype) instead\n",
      "  cat_cols = [col for col in train.columns if pd.api.types.is_categorical_dtype(train[col])]\n"
     ]
    },
    {
     "name": "stdout",
     "output_type": "stream",
     "text": [
      "------------------------------------------------------\n",
      "[0.6552578616945589, 0.6527268131532004]\n",
      "------------------------------------------------------\n"
     ]
    },
    {
     "name": "stderr",
     "output_type": "stream",
     "text": [
      "/tmp/ipykernel_1122/4181465775.py:200: DeprecationWarning: is_categorical_dtype is deprecated and will be removed in a future version. Use isinstance(dtype, pd.CategoricalDtype) instead\n",
      "  cat_cols = [col for col in train.columns if pd.api.types.is_categorical_dtype(train[col])]\n"
     ]
    },
    {
     "name": "stdout",
     "output_type": "stream",
     "text": [
      "------------------------------------------------------\n",
      "[0.6552578616945589, 0.6527268131532004, 0.6536311852197251]\n",
      "------------------------------------------------------\n"
     ]
    },
    {
     "name": "stderr",
     "output_type": "stream",
     "text": [
      "/tmp/ipykernel_1122/4181465775.py:200: DeprecationWarning: is_categorical_dtype is deprecated and will be removed in a future version. Use isinstance(dtype, pd.CategoricalDtype) instead\n",
      "  cat_cols = [col for col in train.columns if pd.api.types.is_categorical_dtype(train[col])]\n"
     ]
    },
    {
     "name": "stdout",
     "output_type": "stream",
     "text": [
      "------------------------------------------------------\n",
      "[0.6552578616945589, 0.6527268131532004, 0.6536311852197251, 0.653221994567212]\n",
      "------------------------------------------------------\n"
     ]
    },
    {
     "name": "stderr",
     "output_type": "stream",
     "text": [
      "/tmp/ipykernel_1122/4181465775.py:200: DeprecationWarning: is_categorical_dtype is deprecated and will be removed in a future version. Use isinstance(dtype, pd.CategoricalDtype) instead\n",
      "  cat_cols = [col for col in train.columns if pd.api.types.is_categorical_dtype(train[col])]\n",
      "[I 2025-04-05 22:24:28,575] Trial 12 finished with value: 0.6541527495172507 and parameters: {'iterations': 559, 'learning_rate': 0.09779382276245246, 'depth': 9, 'l2_leaf_reg': 0.0010738050518180324, 'od_wait': 108}. Best is trial 11 with value: 0.6561284454785733.\n"
     ]
    },
    {
     "name": "stdout",
     "output_type": "stream",
     "text": [
      "------------------------------------------------------\n",
      "[0.6552578616945589, 0.6527268131532004, 0.6536311852197251, 0.653221994567212, 0.655925892951557]\n",
      "------------------------------------------------------\n"
     ]
    },
    {
     "name": "stderr",
     "output_type": "stream",
     "text": [
      "/tmp/ipykernel_1122/2720983545.py:33: FutureWarning: suggest_loguniform has been deprecated in v3.0.0. This feature will be removed in v6.0.0. See https://github.com/optuna/optuna/releases/tag/v3.0.0. Use suggest_float(..., log=True) instead.\n",
      "  \"learning_rate\": trial.suggest_loguniform(\"learning_rate\", 0.001, 0.1),\n",
      "/tmp/ipykernel_1122/4181465775.py:200: DeprecationWarning: is_categorical_dtype is deprecated and will be removed in a future version. Use isinstance(dtype, pd.CategoricalDtype) instead\n",
      "  cat_cols = [col for col in train.columns if pd.api.types.is_categorical_dtype(train[col])]\n"
     ]
    },
    {
     "name": "stdout",
     "output_type": "stream",
     "text": [
      "------------------------------------------------------\n",
      "[0.6578779393141998]\n",
      "------------------------------------------------------\n"
     ]
    },
    {
     "name": "stderr",
     "output_type": "stream",
     "text": [
      "/tmp/ipykernel_1122/4181465775.py:200: DeprecationWarning: is_categorical_dtype is deprecated and will be removed in a future version. Use isinstance(dtype, pd.CategoricalDtype) instead\n",
      "  cat_cols = [col for col in train.columns if pd.api.types.is_categorical_dtype(train[col])]\n"
     ]
    },
    {
     "name": "stdout",
     "output_type": "stream",
     "text": [
      "------------------------------------------------------\n",
      "[0.6578779393141998, 0.6532207715372451]\n",
      "------------------------------------------------------\n"
     ]
    },
    {
     "name": "stderr",
     "output_type": "stream",
     "text": [
      "/tmp/ipykernel_1122/4181465775.py:200: DeprecationWarning: is_categorical_dtype is deprecated and will be removed in a future version. Use isinstance(dtype, pd.CategoricalDtype) instead\n",
      "  cat_cols = [col for col in train.columns if pd.api.types.is_categorical_dtype(train[col])]\n"
     ]
    },
    {
     "name": "stdout",
     "output_type": "stream",
     "text": [
      "------------------------------------------------------\n",
      "[0.6578779393141998, 0.6532207715372451, 0.6557257954199925]\n",
      "------------------------------------------------------\n"
     ]
    },
    {
     "name": "stderr",
     "output_type": "stream",
     "text": [
      "/tmp/ipykernel_1122/4181465775.py:200: DeprecationWarning: is_categorical_dtype is deprecated and will be removed in a future version. Use isinstance(dtype, pd.CategoricalDtype) instead\n",
      "  cat_cols = [col for col in train.columns if pd.api.types.is_categorical_dtype(train[col])]\n"
     ]
    },
    {
     "name": "stdout",
     "output_type": "stream",
     "text": [
      "------------------------------------------------------\n",
      "[0.6578779393141998, 0.6532207715372451, 0.6557257954199925, 0.65495205089742]\n",
      "------------------------------------------------------\n"
     ]
    },
    {
     "name": "stderr",
     "output_type": "stream",
     "text": [
      "/tmp/ipykernel_1122/4181465775.py:200: DeprecationWarning: is_categorical_dtype is deprecated and will be removed in a future version. Use isinstance(dtype, pd.CategoricalDtype) instead\n",
      "  cat_cols = [col for col in train.columns if pd.api.types.is_categorical_dtype(train[col])]\n",
      "[I 2025-04-05 22:27:50,780] Trial 13 finished with value: 0.6556381036821893 and parameters: {'iterations': 1294, 'learning_rate': 0.04280941610969183, 'depth': 8, 'l2_leaf_reg': 0.009601514666902436, 'od_wait': 50}. Best is trial 11 with value: 0.6561284454785733.\n"
     ]
    },
    {
     "name": "stdout",
     "output_type": "stream",
     "text": [
      "------------------------------------------------------\n",
      "[0.6578779393141998, 0.6532207715372451, 0.6557257954199925, 0.65495205089742, 0.656413961242089]\n",
      "------------------------------------------------------\n"
     ]
    },
    {
     "name": "stderr",
     "output_type": "stream",
     "text": [
      "/tmp/ipykernel_1122/2720983545.py:33: FutureWarning: suggest_loguniform has been deprecated in v3.0.0. This feature will be removed in v6.0.0. See https://github.com/optuna/optuna/releases/tag/v3.0.0. Use suggest_float(..., log=True) instead.\n",
      "  \"learning_rate\": trial.suggest_loguniform(\"learning_rate\", 0.001, 0.1),\n",
      "/tmp/ipykernel_1122/4181465775.py:200: DeprecationWarning: is_categorical_dtype is deprecated and will be removed in a future version. Use isinstance(dtype, pd.CategoricalDtype) instead\n",
      "  cat_cols = [col for col in train.columns if pd.api.types.is_categorical_dtype(train[col])]\n"
     ]
    },
    {
     "name": "stdout",
     "output_type": "stream",
     "text": [
      "------------------------------------------------------\n",
      "[0.6462930192846345]\n",
      "------------------------------------------------------\n"
     ]
    },
    {
     "name": "stderr",
     "output_type": "stream",
     "text": [
      "/tmp/ipykernel_1122/4181465775.py:200: DeprecationWarning: is_categorical_dtype is deprecated and will be removed in a future version. Use isinstance(dtype, pd.CategoricalDtype) instead\n",
      "  cat_cols = [col for col in train.columns if pd.api.types.is_categorical_dtype(train[col])]\n"
     ]
    },
    {
     "name": "stdout",
     "output_type": "stream",
     "text": [
      "------------------------------------------------------\n",
      "[0.6462930192846345, 0.6458024110114098]\n",
      "------------------------------------------------------\n"
     ]
    },
    {
     "name": "stderr",
     "output_type": "stream",
     "text": [
      "/tmp/ipykernel_1122/4181465775.py:200: DeprecationWarning: is_categorical_dtype is deprecated and will be removed in a future version. Use isinstance(dtype, pd.CategoricalDtype) instead\n",
      "  cat_cols = [col for col in train.columns if pd.api.types.is_categorical_dtype(train[col])]\n"
     ]
    },
    {
     "name": "stdout",
     "output_type": "stream",
     "text": [
      "------------------------------------------------------\n",
      "[0.6462930192846345, 0.6458024110114098, 0.6459265672010416]\n",
      "------------------------------------------------------\n"
     ]
    },
    {
     "name": "stderr",
     "output_type": "stream",
     "text": [
      "/tmp/ipykernel_1122/4181465775.py:200: DeprecationWarning: is_categorical_dtype is deprecated and will be removed in a future version. Use isinstance(dtype, pd.CategoricalDtype) instead\n",
      "  cat_cols = [col for col in train.columns if pd.api.types.is_categorical_dtype(train[col])]\n"
     ]
    },
    {
     "name": "stdout",
     "output_type": "stream",
     "text": [
      "------------------------------------------------------\n",
      "[0.6462930192846345, 0.6458024110114098, 0.6459265672010416, 0.6458971712871335]\n",
      "------------------------------------------------------\n"
     ]
    },
    {
     "name": "stderr",
     "output_type": "stream",
     "text": [
      "/tmp/ipykernel_1122/4181465775.py:200: DeprecationWarning: is_categorical_dtype is deprecated and will be removed in a future version. Use isinstance(dtype, pd.CategoricalDtype) instead\n",
      "  cat_cols = [col for col in train.columns if pd.api.types.is_categorical_dtype(train[col])]\n",
      "[I 2025-04-05 22:38:36,414] Trial 14 finished with value: 0.6460726064545993 and parameters: {'iterations': 1580, 'learning_rate': 0.05985476463723257, 'depth': 10, 'l2_leaf_reg': 0.0072846317409542205, 'od_wait': 200}. Best is trial 11 with value: 0.6561284454785733.\n"
     ]
    },
    {
     "name": "stdout",
     "output_type": "stream",
     "text": [
      "------------------------------------------------------\n",
      "[0.6462930192846345, 0.6458024110114098, 0.6459265672010416, 0.6458971712871335, 0.6464438634887768]\n",
      "------------------------------------------------------\n"
     ]
    },
    {
     "name": "stderr",
     "output_type": "stream",
     "text": [
      "/tmp/ipykernel_1122/2720983545.py:33: FutureWarning: suggest_loguniform has been deprecated in v3.0.0. This feature will be removed in v6.0.0. See https://github.com/optuna/optuna/releases/tag/v3.0.0. Use suggest_float(..., log=True) instead.\n",
      "  \"learning_rate\": trial.suggest_loguniform(\"learning_rate\", 0.001, 0.1),\n",
      "/tmp/ipykernel_1122/4181465775.py:200: DeprecationWarning: is_categorical_dtype is deprecated and will be removed in a future version. Use isinstance(dtype, pd.CategoricalDtype) instead\n",
      "  cat_cols = [col for col in train.columns if pd.api.types.is_categorical_dtype(train[col])]\n"
     ]
    },
    {
     "name": "stdout",
     "output_type": "stream",
     "text": [
      "------------------------------------------------------\n",
      "[0.6590742156102665]\n",
      "------------------------------------------------------\n"
     ]
    },
    {
     "name": "stderr",
     "output_type": "stream",
     "text": [
      "/tmp/ipykernel_1122/4181465775.py:200: DeprecationWarning: is_categorical_dtype is deprecated and will be removed in a future version. Use isinstance(dtype, pd.CategoricalDtype) instead\n",
      "  cat_cols = [col for col in train.columns if pd.api.types.is_categorical_dtype(train[col])]\n"
     ]
    },
    {
     "name": "stdout",
     "output_type": "stream",
     "text": [
      "------------------------------------------------------\n",
      "[0.6590742156102665, 0.6534155736626965]\n",
      "------------------------------------------------------\n"
     ]
    },
    {
     "name": "stderr",
     "output_type": "stream",
     "text": [
      "/tmp/ipykernel_1122/4181465775.py:200: DeprecationWarning: is_categorical_dtype is deprecated and will be removed in a future version. Use isinstance(dtype, pd.CategoricalDtype) instead\n",
      "  cat_cols = [col for col in train.columns if pd.api.types.is_categorical_dtype(train[col])]\n"
     ]
    },
    {
     "name": "stdout",
     "output_type": "stream",
     "text": [
      "------------------------------------------------------\n",
      "[0.6590742156102665, 0.6534155736626965, 0.6560468019095715]\n",
      "------------------------------------------------------\n"
     ]
    },
    {
     "name": "stderr",
     "output_type": "stream",
     "text": [
      "/tmp/ipykernel_1122/4181465775.py:200: DeprecationWarning: is_categorical_dtype is deprecated and will be removed in a future version. Use isinstance(dtype, pd.CategoricalDtype) instead\n",
      "  cat_cols = [col for col in train.columns if pd.api.types.is_categorical_dtype(train[col])]\n"
     ]
    },
    {
     "name": "stdout",
     "output_type": "stream",
     "text": [
      "------------------------------------------------------\n",
      "[0.6590742156102665, 0.6534155736626965, 0.6560468019095715, 0.655636421480032]\n",
      "------------------------------------------------------\n"
     ]
    },
    {
     "name": "stderr",
     "output_type": "stream",
     "text": [
      "/tmp/ipykernel_1122/4181465775.py:200: DeprecationWarning: is_categorical_dtype is deprecated and will be removed in a future version. Use isinstance(dtype, pd.CategoricalDtype) instead\n",
      "  cat_cols = [col for col in train.columns if pd.api.types.is_categorical_dtype(train[col])]\n",
      "[I 2025-04-05 22:42:18,328] Trial 15 finished with value: 0.6561432052347698 and parameters: {'iterations': 1960, 'learning_rate': 0.016218729377217155, 'depth': 6, 'l2_leaf_reg': 0.0010600713786158942, 'od_wait': 90}. Best is trial 15 with value: 0.6561432052347698.\n"
     ]
    },
    {
     "name": "stdout",
     "output_type": "stream",
     "text": [
      "------------------------------------------------------\n",
      "[0.6590742156102665, 0.6534155736626965, 0.6560468019095715, 0.655636421480032, 0.6565430135112824]\n",
      "------------------------------------------------------\n"
     ]
    },
    {
     "name": "stderr",
     "output_type": "stream",
     "text": [
      "/tmp/ipykernel_1122/2720983545.py:33: FutureWarning: suggest_loguniform has been deprecated in v3.0.0. This feature will be removed in v6.0.0. See https://github.com/optuna/optuna/releases/tag/v3.0.0. Use suggest_float(..., log=True) instead.\n",
      "  \"learning_rate\": trial.suggest_loguniform(\"learning_rate\", 0.001, 0.1),\n",
      "/tmp/ipykernel_1122/4181465775.py:200: DeprecationWarning: is_categorical_dtype is deprecated and will be removed in a future version. Use isinstance(dtype, pd.CategoricalDtype) instead\n",
      "  cat_cols = [col for col in train.columns if pd.api.types.is_categorical_dtype(train[col])]\n"
     ]
    },
    {
     "name": "stdout",
     "output_type": "stream",
     "text": [
      "------------------------------------------------------\n",
      "[0.6588600501575275]\n",
      "------------------------------------------------------\n"
     ]
    },
    {
     "name": "stderr",
     "output_type": "stream",
     "text": [
      "/tmp/ipykernel_1122/4181465775.py:200: DeprecationWarning: is_categorical_dtype is deprecated and will be removed in a future version. Use isinstance(dtype, pd.CategoricalDtype) instead\n",
      "  cat_cols = [col for col in train.columns if pd.api.types.is_categorical_dtype(train[col])]\n"
     ]
    },
    {
     "name": "stdout",
     "output_type": "stream",
     "text": [
      "------------------------------------------------------\n",
      "[0.6588600501575275, 0.6543319225529863]\n",
      "------------------------------------------------------\n"
     ]
    },
    {
     "name": "stderr",
     "output_type": "stream",
     "text": [
      "/tmp/ipykernel_1122/4181465775.py:200: DeprecationWarning: is_categorical_dtype is deprecated and will be removed in a future version. Use isinstance(dtype, pd.CategoricalDtype) instead\n",
      "  cat_cols = [col for col in train.columns if pd.api.types.is_categorical_dtype(train[col])]\n"
     ]
    },
    {
     "name": "stdout",
     "output_type": "stream",
     "text": [
      "------------------------------------------------------\n",
      "[0.6588600501575275, 0.6543319225529863, 0.6560216945859222]\n",
      "------------------------------------------------------\n"
     ]
    },
    {
     "name": "stderr",
     "output_type": "stream",
     "text": [
      "/tmp/ipykernel_1122/4181465775.py:200: DeprecationWarning: is_categorical_dtype is deprecated and will be removed in a future version. Use isinstance(dtype, pd.CategoricalDtype) instead\n",
      "  cat_cols = [col for col in train.columns if pd.api.types.is_categorical_dtype(train[col])]\n"
     ]
    },
    {
     "name": "stdout",
     "output_type": "stream",
     "text": [
      "------------------------------------------------------\n",
      "[0.6588600501575275, 0.6543319225529863, 0.6560216945859222, 0.6561211725612828]\n",
      "------------------------------------------------------\n"
     ]
    },
    {
     "name": "stderr",
     "output_type": "stream",
     "text": [
      "/tmp/ipykernel_1122/4181465775.py:200: DeprecationWarning: is_categorical_dtype is deprecated and will be removed in a future version. Use isinstance(dtype, pd.CategoricalDtype) instead\n",
      "  cat_cols = [col for col in train.columns if pd.api.types.is_categorical_dtype(train[col])]\n",
      "[I 2025-04-05 22:46:37,198] Trial 16 finished with value: 0.6562821577910213 and parameters: {'iterations': 1799, 'learning_rate': 0.011885681238988397, 'depth': 7, 'l2_leaf_reg': 0.04445003403694515, 'od_wait': 97}. Best is trial 16 with value: 0.6562821577910213.\n"
     ]
    },
    {
     "name": "stdout",
     "output_type": "stream",
     "text": [
      "------------------------------------------------------\n",
      "[0.6588600501575275, 0.6543319225529863, 0.6560216945859222, 0.6561211725612828, 0.6560759490973878]\n",
      "------------------------------------------------------\n"
     ]
    },
    {
     "name": "stderr",
     "output_type": "stream",
     "text": [
      "/tmp/ipykernel_1122/2720983545.py:33: FutureWarning: suggest_loguniform has been deprecated in v3.0.0. This feature will be removed in v6.0.0. See https://github.com/optuna/optuna/releases/tag/v3.0.0. Use suggest_float(..., log=True) instead.\n",
      "  \"learning_rate\": trial.suggest_loguniform(\"learning_rate\", 0.001, 0.1),\n",
      "/tmp/ipykernel_1122/4181465775.py:200: DeprecationWarning: is_categorical_dtype is deprecated and will be removed in a future version. Use isinstance(dtype, pd.CategoricalDtype) instead\n",
      "  cat_cols = [col for col in train.columns if pd.api.types.is_categorical_dtype(train[col])]\n"
     ]
    },
    {
     "name": "stdout",
     "output_type": "stream",
     "text": [
      "------------------------------------------------------\n",
      "[0.6582091906438623]\n",
      "------------------------------------------------------\n"
     ]
    },
    {
     "name": "stderr",
     "output_type": "stream",
     "text": [
      "/tmp/ipykernel_1122/4181465775.py:200: DeprecationWarning: is_categorical_dtype is deprecated and will be removed in a future version. Use isinstance(dtype, pd.CategoricalDtype) instead\n",
      "  cat_cols = [col for col in train.columns if pd.api.types.is_categorical_dtype(train[col])]\n"
     ]
    },
    {
     "name": "stdout",
     "output_type": "stream",
     "text": [
      "------------------------------------------------------\n",
      "[0.6582091906438623, 0.6536102390014522]\n",
      "------------------------------------------------------\n"
     ]
    },
    {
     "name": "stderr",
     "output_type": "stream",
     "text": [
      "/tmp/ipykernel_1122/4181465775.py:200: DeprecationWarning: is_categorical_dtype is deprecated and will be removed in a future version. Use isinstance(dtype, pd.CategoricalDtype) instead\n",
      "  cat_cols = [col for col in train.columns if pd.api.types.is_categorical_dtype(train[col])]\n"
     ]
    },
    {
     "name": "stdout",
     "output_type": "stream",
     "text": [
      "------------------------------------------------------\n",
      "[0.6582091906438623, 0.6536102390014522, 0.6556368475964957]\n",
      "------------------------------------------------------\n"
     ]
    },
    {
     "name": "stderr",
     "output_type": "stream",
     "text": [
      "/tmp/ipykernel_1122/4181465775.py:200: DeprecationWarning: is_categorical_dtype is deprecated and will be removed in a future version. Use isinstance(dtype, pd.CategoricalDtype) instead\n",
      "  cat_cols = [col for col in train.columns if pd.api.types.is_categorical_dtype(train[col])]\n"
     ]
    },
    {
     "name": "stdout",
     "output_type": "stream",
     "text": [
      "------------------------------------------------------\n",
      "[0.6582091906438623, 0.6536102390014522, 0.6556368475964957, 0.6559788566938274]\n",
      "------------------------------------------------------\n"
     ]
    },
    {
     "name": "stderr",
     "output_type": "stream",
     "text": [
      "/tmp/ipykernel_1122/4181465775.py:200: DeprecationWarning: is_categorical_dtype is deprecated and will be removed in a future version. Use isinstance(dtype, pd.CategoricalDtype) instead\n",
      "  cat_cols = [col for col in train.columns if pd.api.types.is_categorical_dtype(train[col])]\n",
      "[I 2025-04-05 22:50:32,758] Trial 17 finished with value: 0.6560715918115976 and parameters: {'iterations': 1985, 'learning_rate': 0.012224382236943459, 'depth': 6, 'l2_leaf_reg': 0.08980573385875079, 'od_wait': 96}. Best is trial 16 with value: 0.6562821577910213.\n"
     ]
    },
    {
     "name": "stdout",
     "output_type": "stream",
     "text": [
      "------------------------------------------------------\n",
      "[0.6582091906438623, 0.6536102390014522, 0.6556368475964957, 0.6559788566938274, 0.6569228251223501]\n",
      "------------------------------------------------------\n"
     ]
    },
    {
     "name": "stderr",
     "output_type": "stream",
     "text": [
      "/tmp/ipykernel_1122/2720983545.py:33: FutureWarning: suggest_loguniform has been deprecated in v3.0.0. This feature will be removed in v6.0.0. See https://github.com/optuna/optuna/releases/tag/v3.0.0. Use suggest_float(..., log=True) instead.\n",
      "  \"learning_rate\": trial.suggest_loguniform(\"learning_rate\", 0.001, 0.1),\n",
      "/tmp/ipykernel_1122/4181465775.py:200: DeprecationWarning: is_categorical_dtype is deprecated and will be removed in a future version. Use isinstance(dtype, pd.CategoricalDtype) instead\n",
      "  cat_cols = [col for col in train.columns if pd.api.types.is_categorical_dtype(train[col])]\n"
     ]
    },
    {
     "name": "stdout",
     "output_type": "stream",
     "text": [
      "------------------------------------------------------\n",
      "[0.6561668782580785]\n",
      "------------------------------------------------------\n"
     ]
    },
    {
     "name": "stderr",
     "output_type": "stream",
     "text": [
      "/tmp/ipykernel_1122/4181465775.py:200: DeprecationWarning: is_categorical_dtype is deprecated and will be removed in a future version. Use isinstance(dtype, pd.CategoricalDtype) instead\n",
      "  cat_cols = [col for col in train.columns if pd.api.types.is_categorical_dtype(train[col])]\n"
     ]
    },
    {
     "name": "stdout",
     "output_type": "stream",
     "text": [
      "------------------------------------------------------\n",
      "[0.6561668782580785, 0.6537704650011035]\n",
      "------------------------------------------------------\n"
     ]
    },
    {
     "name": "stderr",
     "output_type": "stream",
     "text": [
      "/tmp/ipykernel_1122/4181465775.py:200: DeprecationWarning: is_categorical_dtype is deprecated and will be removed in a future version. Use isinstance(dtype, pd.CategoricalDtype) instead\n",
      "  cat_cols = [col for col in train.columns if pd.api.types.is_categorical_dtype(train[col])]\n"
     ]
    },
    {
     "name": "stdout",
     "output_type": "stream",
     "text": [
      "------------------------------------------------------\n",
      "[0.6561668782580785, 0.6537704650011035, 0.654337392829372]\n",
      "------------------------------------------------------\n"
     ]
    },
    {
     "name": "stderr",
     "output_type": "stream",
     "text": [
      "/tmp/ipykernel_1122/4181465775.py:200: DeprecationWarning: is_categorical_dtype is deprecated and will be removed in a future version. Use isinstance(dtype, pd.CategoricalDtype) instead\n",
      "  cat_cols = [col for col in train.columns if pd.api.types.is_categorical_dtype(train[col])]\n"
     ]
    },
    {
     "name": "stdout",
     "output_type": "stream",
     "text": [
      "------------------------------------------------------\n",
      "[0.6561668782580785, 0.6537704650011035, 0.654337392829372, 0.6540624307745806]\n",
      "------------------------------------------------------\n"
     ]
    },
    {
     "name": "stderr",
     "output_type": "stream",
     "text": [
      "/tmp/ipykernel_1122/4181465775.py:200: DeprecationWarning: is_categorical_dtype is deprecated and will be removed in a future version. Use isinstance(dtype, pd.CategoricalDtype) instead\n",
      "  cat_cols = [col for col in train.columns if pd.api.types.is_categorical_dtype(train[col])]\n",
      "[I 2025-04-05 22:55:07,629] Trial 18 finished with value: 0.6549593142182755 and parameters: {'iterations': 1848, 'learning_rate': 0.004221831455100912, 'depth': 6, 'l2_leaf_reg': 0.2688144911164625, 'od_wait': 81}. Best is trial 16 with value: 0.6562821577910213.\n"
     ]
    },
    {
     "name": "stdout",
     "output_type": "stream",
     "text": [
      "------------------------------------------------------\n",
      "[0.6561668782580785, 0.6537704650011035, 0.654337392829372, 0.6540624307745806, 0.6564594042282426]\n",
      "------------------------------------------------------\n"
     ]
    },
    {
     "name": "stderr",
     "output_type": "stream",
     "text": [
      "/tmp/ipykernel_1122/2720983545.py:33: FutureWarning: suggest_loguniform has been deprecated in v3.0.0. This feature will be removed in v6.0.0. See https://github.com/optuna/optuna/releases/tag/v3.0.0. Use suggest_float(..., log=True) instead.\n",
      "  \"learning_rate\": trial.suggest_loguniform(\"learning_rate\", 0.001, 0.1),\n",
      "/tmp/ipykernel_1122/4181465775.py:200: DeprecationWarning: is_categorical_dtype is deprecated and will be removed in a future version. Use isinstance(dtype, pd.CategoricalDtype) instead\n",
      "  cat_cols = [col for col in train.columns if pd.api.types.is_categorical_dtype(train[col])]\n"
     ]
    },
    {
     "name": "stdout",
     "output_type": "stream",
     "text": [
      "------------------------------------------------------\n",
      "[0.6512757980599935]\n",
      "------------------------------------------------------\n"
     ]
    },
    {
     "name": "stderr",
     "output_type": "stream",
     "text": [
      "/tmp/ipykernel_1122/4181465775.py:200: DeprecationWarning: is_categorical_dtype is deprecated and will be removed in a future version. Use isinstance(dtype, pd.CategoricalDtype) instead\n",
      "  cat_cols = [col for col in train.columns if pd.api.types.is_categorical_dtype(train[col])]\n"
     ]
    },
    {
     "name": "stdout",
     "output_type": "stream",
     "text": [
      "------------------------------------------------------\n",
      "[0.6512757980599935, 0.6509269702624135]\n",
      "------------------------------------------------------\n"
     ]
    },
    {
     "name": "stderr",
     "output_type": "stream",
     "text": [
      "/tmp/ipykernel_1122/4181465775.py:200: DeprecationWarning: is_categorical_dtype is deprecated and will be removed in a future version. Use isinstance(dtype, pd.CategoricalDtype) instead\n",
      "  cat_cols = [col for col in train.columns if pd.api.types.is_categorical_dtype(train[col])]\n"
     ]
    },
    {
     "name": "stdout",
     "output_type": "stream",
     "text": [
      "------------------------------------------------------\n",
      "[0.6512757980599935, 0.6509269702624135, 0.6512312738694532]\n",
      "------------------------------------------------------\n"
     ]
    },
    {
     "name": "stderr",
     "output_type": "stream",
     "text": [
      "/tmp/ipykernel_1122/4181465775.py:200: DeprecationWarning: is_categorical_dtype is deprecated and will be removed in a future version. Use isinstance(dtype, pd.CategoricalDtype) instead\n",
      "  cat_cols = [col for col in train.columns if pd.api.types.is_categorical_dtype(train[col])]\n"
     ]
    },
    {
     "name": "stdout",
     "output_type": "stream",
     "text": [
      "------------------------------------------------------\n",
      "[0.6512757980599935, 0.6509269702624135, 0.6512312738694532, 0.6507741230374011]\n",
      "------------------------------------------------------\n"
     ]
    },
    {
     "name": "stderr",
     "output_type": "stream",
     "text": [
      "/tmp/ipykernel_1122/4181465775.py:200: DeprecationWarning: is_categorical_dtype is deprecated and will be removed in a future version. Use isinstance(dtype, pd.CategoricalDtype) instead\n",
      "  cat_cols = [col for col in train.columns if pd.api.types.is_categorical_dtype(train[col])]\n",
      "[I 2025-04-05 23:00:34,085] Trial 19 finished with value: 0.651630882582039 and parameters: {'iterations': 1795, 'learning_rate': 0.0014020359718980744, 'depth': 7, 'l2_leaf_reg': 0.026976294270848234, 'od_wait': 119}. Best is trial 16 with value: 0.6562821577910213.\n"
     ]
    },
    {
     "name": "stdout",
     "output_type": "stream",
     "text": [
      "------------------------------------------------------\n",
      "[0.6512757980599935, 0.6509269702624135, 0.6512312738694532, 0.6507741230374011, 0.6539462476809338]\n",
      "------------------------------------------------------\n",
      "Best trial:\n",
      "  Value:  0.6562821577910213\n",
      "  Params:\n",
      "    iterations: 1799\n",
      "    learning_rate: 0.011885681238988397\n",
      "    depth: 7\n",
      "    l2_leaf_reg: 0.04445003403694515\n",
      "    od_wait: 97\n"
     ]
    }
   ],
   "source": [
    "import optuna\n",
    "import pandas as pd\n",
    "import numpy as np\n",
    "import random\n",
    "from sklearn.model_selection import KFold\n",
    "from catboost import CatBoostRegressor\n",
    "from 평가_Metric import competition_metric, f1_score, weighted_brier_score\n",
    "from sklearn.preprocessing import LabelEncoder, StandardScaler, QuantileTransformer, MultiLabelBinarizer, OrdinalEncoder\n",
    "\n",
    "seed = 333\n",
    "train = pd.read_csv(train_path, encoding='utf-8-sig').drop(columns=[\"ID\"])\n",
    "test = pd.read_csv(test_path, encoding='utf-8-sig').drop(columns=[\"ID\"])\n",
    "\n",
    "# 범주형 변수로 처리할 열 목록\n",
    "cols_to_encoding = [\n",
    "    \"환자 시술 당시 나이\",\n",
    "    \"난자 출처\",\n",
    "    \"정자 출처\",\n",
    "    \"난자 기증자 나이\",\n",
    "    \"정자 기증자 나이\",\n",
    "    \"시술유형_통합\",\n",
    "    \"해동된 배아 수\",  # 원래 int였으나 범주형으로 처리\n",
    "    \"총 생성 배아 수\",\n",
    "    \"저장된 배아 수\",\n",
    "    \"채취된 신선 난자 수\",\n",
    "    \"수정 시도된 난자 수\"\n",
    "]\n",
    "\n",
    "def objective(trial):\n",
    "    # Optuna가 탐색할 하이퍼파라미터 공간 설정\n",
    "    params = {\n",
    "        \"iterations\": trial.suggest_int(\"iterations\", 500, 2000),\n",
    "        \"learning_rate\": trial.suggest_loguniform(\"learning_rate\", 0.001, 0.1),\n",
    "        \"depth\": trial.suggest_int(\"depth\", 4, 12),\n",
    "        \"l2_leaf_reg\": trial.suggest_float(\"l2_leaf_reg\", 0.001, 10.0, log=True),\n",
    "        \"od_type\": 'Iter',\n",
    "        \"od_wait\": trial.suggest_int(\"od_wait\", 50, 200),\n",
    "        \"random_seed\": seed,\n",
    "        \"verbose\": 0\n",
    "    }\n",
    "    \n",
    "    # 5-Fold 교차 검증으로 모델 성능 평가\n",
    "    kf = KFold(n_splits=5, shuffle=True, random_state=seed)\n",
    "    cv_scores = []\n",
    "    \n",
    "    for train_idx, valid_idx in kf.split(train):\n",
    "        fold_train = train.iloc[train_idx].copy().reset_index(drop=True)\n",
    "        fold_valid = train.iloc[valid_idx].copy().reset_index(drop=True)\n",
    "        fold_train2 = fold_train.copy()  # 전처리 전 복사본\n",
    "        \n",
    "        # 사용자 정의 전처리 함수 적용\n",
    "        fold_train, fold_valid = all_preprocess(fold_train, fold_valid)\n",
    "        \n",
    "        X_train = fold_train.drop(columns=[\"임신 성공 확률\"])\n",
    "        y_train = fold_train[\"임신 성공 확률\"]\n",
    "        X_val   = fold_valid.drop(columns=[\"임신 성공 확률\"])\n",
    "        y_val   = fold_valid[\"임신 성공 확률\"]\n",
    "        \n",
    "        # 클래스 불균형 해결: 0.5 기준 이진화 후, 양성 샘플에 대한 가중치 계산\n",
    "        y_train_binary = (y_train > 0.5).astype(int)\n",
    "        pos_count = np.sum(y_train_binary)\n",
    "        neg_count = len(y_train_binary) - pos_count\n",
    "        scale_pos_weight = neg_count / pos_count if pos_count > 0 else 1.0\n",
    "        sample_weights = np.where(y_train_binary == 1, scale_pos_weight, 1.0)\n",
    "        \n",
    "        model = CatBoostRegressor(**params)\n",
    "        model.fit(\n",
    "            X_train, y_train,\n",
    "            sample_weight=sample_weights,\n",
    "            eval_set=(X_val, y_val),\n",
    "            cat_features=cols_to_encoding\n",
    "        )\n",
    "        \n",
    "        y_val_pred = np.clip(model.predict(X_val), 0, 1)\n",
    "        score = competition_metric(y_val, y_val_pred)\n",
    "        cv_scores.append(score)\n",
    "        print('------------------------------------------------------')\n",
    "        print(cv_scores)\n",
    "        print('------------------------------------------------------')\n",
    "        \n",
    "    return np.mean(cv_scores)\n",
    "\n",
    "# Optuna 스터디 생성 (최소화 문제)\n",
    "study = optuna.create_study(direction=\"maximize\")\n",
    "study.optimize(objective, n_trials=20)\n",
    "\n",
    "# 최적의 하이퍼파라미터 출력\n",
    "print(\"Best trial:\")\n",
    "trial = study.best_trial\n",
    "print(\"  Value: \", trial.value)\n",
    "print(\"  Params:\")\n",
    "for key, value in trial.params.items():\n",
    "    print(f\"    {key}: {value}\")\n"
   ]
  },
  {
   "cell_type": "code",
   "execution_count": null,
   "metadata": {},
   "outputs": [],
   "source": []
  }
 ],
 "metadata": {
  "kernelspec": {
   "display_name": "Python 3",
   "language": "python",
   "name": "python3"
  },
  "language_info": {
   "codemirror_mode": {
    "name": "ipython",
    "version": 3
   },
   "file_extension": ".py",
   "mimetype": "text/x-python",
   "name": "python",
   "nbconvert_exporter": "python",
   "pygments_lexer": "ipython3",
   "version": "3.10.13"
  }
 },
 "nbformat": 4,
 "nbformat_minor": 2
}
