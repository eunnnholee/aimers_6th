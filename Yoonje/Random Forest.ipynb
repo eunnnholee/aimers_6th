{
 "cells": [
  {
   "cell_type": "code",
   "execution_count": 46,
   "id": "initial_id",
   "metadata": {
    "ExecuteTime": {
     "end_time": "2025-03-15T14:17:09.769895Z",
     "start_time": "2025-03-15T14:17:08.599157Z"
    }
   },
   "outputs": [],
   "source": [
    "import pandas as pd\n",
    "import numpy as np\n",
    "import warnings\n",
    "import sys\n",
    "from lgbm_process import lgbm_process\n",
    "sys.path.append(\"C:/Users/User/Desktop/LG Aimers\")  # LG_Aimers_6th의 상위 폴더\n",
    "\n",
    "from LG_Aimers_6th.cal_auc import calculate_auc\n",
    "\n",
    "\n",
    "warnings.simplefilter(action='ignore', category=FutureWarning)\n",
    "\n",
    "from sklearn.ensemble import RandomForestClassifier\n",
    "\n",
    "from sklearn.model_selection import StratifiedKFold\n",
    "from sklearn.metrics import roc_auc_score, accuracy_score, f1_score"
   ]
  },
  {
   "cell_type": "markdown",
   "id": "08070c26-a0d1-41fc-8548-2ab9a390d551",
   "metadata": {},
   "source": [
    "## Random Forest"
   ]
  },
  {
   "cell_type": "code",
   "execution_count": 47,
   "id": "43ee38234b2677aa",
   "metadata": {
    "ExecuteTime": {
     "end_time": "2025-03-15T14:17:09.785894Z",
     "start_time": "2025-03-15T14:17:09.772897Z"
    }
   },
   "outputs": [],
   "source": [
    "data_seed = 9\n",
    "folds = 5 ####"
   ]
  },
  {
   "cell_type": "code",
   "execution_count": 48,
   "id": "db22507b8824c256",
   "metadata": {
    "ExecuteTime": {
     "end_time": "2025-03-15T14:17:12.452834Z",
     "start_time": "2025-03-15T14:17:09.831945Z"
    }
   },
   "outputs": [
    {
     "name": "stdout",
     "output_type": "stream",
     "text": [
      "(205080, 67) (51271, 66)\n"
     ]
    }
   ],
   "source": [
    "train_path = f'../data/custom_train_{data_seed}.csv'\n",
    "test_path = f'../data/custom_test_{data_seed}.csv'\n",
    "\n",
    "train = pd.read_csv(train_path).drop(columns=[\"ID\"])\n",
    "test = pd.read_csv(test_path).drop(columns=[\"ID\"])\n",
    "train, test = lgbm_process(train, test)\n",
    "print(train.shape, test.shape)"
   ]
  },
  {
   "cell_type": "code",
   "execution_count": 49,
   "id": "23e8c02a",
   "metadata": {},
   "outputs": [
    {
     "data": {
      "text/html": [
       "<div>\n",
       "<style scoped>\n",
       "    .dataframe tbody tr th:only-of-type {\n",
       "        vertical-align: middle;\n",
       "    }\n",
       "\n",
       "    .dataframe tbody tr th {\n",
       "        vertical-align: top;\n",
       "    }\n",
       "\n",
       "    .dataframe thead th {\n",
       "        text-align: right;\n",
       "    }\n",
       "</style>\n",
       "<table border=\"1\" class=\"dataframe\">\n",
       "  <thead>\n",
       "    <tr style=\"text-align: right;\">\n",
       "      <th></th>\n",
       "      <th>시술 시기 코드</th>\n",
       "      <th>시술 당시 나이</th>\n",
       "      <th>임신 시도 또는 마지막 임신 경과 연수</th>\n",
       "      <th>배란 자극 여부</th>\n",
       "      <th>배란 유도 유형</th>\n",
       "      <th>단일 배아 이식 여부</th>\n",
       "      <th>착상 전 유전 검사 사용 여부</th>\n",
       "      <th>착상 전 유전 진단 사용 여부</th>\n",
       "      <th>남성 주 불임 원인</th>\n",
       "      <th>남성 부 불임 원인</th>\n",
       "      <th>...</th>\n",
       "      <th>난자 혼합 경과일</th>\n",
       "      <th>배아 이식 경과일</th>\n",
       "      <th>배아 해동 경과일</th>\n",
       "      <th>임신 성공 여부</th>\n",
       "      <th>시술유형_통합</th>\n",
       "      <th>시술_임신</th>\n",
       "      <th>배아생성이유_기증용</th>\n",
       "      <th>배아생성이유_난자 저장용</th>\n",
       "      <th>배아생성이유_배아 저장용</th>\n",
       "      <th>배아생성이유_현재 시술용</th>\n",
       "    </tr>\n",
       "  </thead>\n",
       "  <tbody>\n",
       "    <tr>\n",
       "      <th>0</th>\n",
       "      <td>5.0</td>\n",
       "      <td>0.0</td>\n",
       "      <td>0.0</td>\n",
       "      <td>1</td>\n",
       "      <td>0.0</td>\n",
       "      <td>1.0</td>\n",
       "      <td>0.0</td>\n",
       "      <td>0.0</td>\n",
       "      <td>0</td>\n",
       "      <td>0</td>\n",
       "      <td>...</td>\n",
       "      <td>0.0</td>\n",
       "      <td>5.0</td>\n",
       "      <td>0.0</td>\n",
       "      <td>0</td>\n",
       "      <td>5.0</td>\n",
       "      <td>-1</td>\n",
       "      <td>0.0</td>\n",
       "      <td>0.0</td>\n",
       "      <td>0.0</td>\n",
       "      <td>1.0</td>\n",
       "    </tr>\n",
       "    <tr>\n",
       "      <th>1</th>\n",
       "      <td>3.0</td>\n",
       "      <td>1.0</td>\n",
       "      <td>0.0</td>\n",
       "      <td>1</td>\n",
       "      <td>0.0</td>\n",
       "      <td>0.0</td>\n",
       "      <td>0.0</td>\n",
       "      <td>0.0</td>\n",
       "      <td>0</td>\n",
       "      <td>0</td>\n",
       "      <td>...</td>\n",
       "      <td>0.0</td>\n",
       "      <td>6.0</td>\n",
       "      <td>0.0</td>\n",
       "      <td>0</td>\n",
       "      <td>6.0</td>\n",
       "      <td>-2</td>\n",
       "      <td>0.0</td>\n",
       "      <td>0.0</td>\n",
       "      <td>0.0</td>\n",
       "      <td>1.0</td>\n",
       "    </tr>\n",
       "    <tr>\n",
       "      <th>2</th>\n",
       "      <td>5.0</td>\n",
       "      <td>1.0</td>\n",
       "      <td>0.0</td>\n",
       "      <td>1</td>\n",
       "      <td>0.0</td>\n",
       "      <td>0.0</td>\n",
       "      <td>0.0</td>\n",
       "      <td>0.0</td>\n",
       "      <td>0</td>\n",
       "      <td>0</td>\n",
       "      <td>...</td>\n",
       "      <td>0.0</td>\n",
       "      <td>3.0</td>\n",
       "      <td>0.0</td>\n",
       "      <td>1</td>\n",
       "      <td>5.0</td>\n",
       "      <td>0</td>\n",
       "      <td>0.0</td>\n",
       "      <td>0.0</td>\n",
       "      <td>0.0</td>\n",
       "      <td>1.0</td>\n",
       "    </tr>\n",
       "    <tr>\n",
       "      <th>3</th>\n",
       "      <td>3.0</td>\n",
       "      <td>1.0</td>\n",
       "      <td>0.0</td>\n",
       "      <td>1</td>\n",
       "      <td>0.0</td>\n",
       "      <td>0.0</td>\n",
       "      <td>0.0</td>\n",
       "      <td>0.0</td>\n",
       "      <td>0</td>\n",
       "      <td>0</td>\n",
       "      <td>...</td>\n",
       "      <td>0.0</td>\n",
       "      <td>3.0</td>\n",
       "      <td>0.0</td>\n",
       "      <td>1</td>\n",
       "      <td>5.0</td>\n",
       "      <td>-1</td>\n",
       "      <td>0.0</td>\n",
       "      <td>0.0</td>\n",
       "      <td>0.0</td>\n",
       "      <td>1.0</td>\n",
       "    </tr>\n",
       "    <tr>\n",
       "      <th>4</th>\n",
       "      <td>1.0</td>\n",
       "      <td>1.0</td>\n",
       "      <td>0.0</td>\n",
       "      <td>1</td>\n",
       "      <td>0.0</td>\n",
       "      <td>0.0</td>\n",
       "      <td>0.0</td>\n",
       "      <td>0.0</td>\n",
       "      <td>0</td>\n",
       "      <td>0</td>\n",
       "      <td>...</td>\n",
       "      <td>0.0</td>\n",
       "      <td>0.0</td>\n",
       "      <td>0.0</td>\n",
       "      <td>0</td>\n",
       "      <td>6.0</td>\n",
       "      <td>-3</td>\n",
       "      <td>0.0</td>\n",
       "      <td>0.0</td>\n",
       "      <td>0.0</td>\n",
       "      <td>1.0</td>\n",
       "    </tr>\n",
       "  </tbody>\n",
       "</table>\n",
       "<p>5 rows × 67 columns</p>\n",
       "</div>"
      ],
      "text/plain": [
       "   시술 시기 코드  시술 당시 나이  임신 시도 또는 마지막 임신 경과 연수  배란 자극 여부  배란 유도 유형  단일 배아 이식 여부  \\\n",
       "0       5.0       0.0                    0.0         1       0.0          1.0   \n",
       "1       3.0       1.0                    0.0         1       0.0          0.0   \n",
       "2       5.0       1.0                    0.0         1       0.0          0.0   \n",
       "3       3.0       1.0                    0.0         1       0.0          0.0   \n",
       "4       1.0       1.0                    0.0         1       0.0          0.0   \n",
       "\n",
       "   착상 전 유전 검사 사용 여부  착상 전 유전 진단 사용 여부  남성 주 불임 원인  남성 부 불임 원인  ...  난자 혼합 경과일  \\\n",
       "0               0.0               0.0           0           0  ...        0.0   \n",
       "1               0.0               0.0           0           0  ...        0.0   \n",
       "2               0.0               0.0           0           0  ...        0.0   \n",
       "3               0.0               0.0           0           0  ...        0.0   \n",
       "4               0.0               0.0           0           0  ...        0.0   \n",
       "\n",
       "   배아 이식 경과일  배아 해동 경과일  임신 성공 여부  시술유형_통합  시술_임신  배아생성이유_기증용  배아생성이유_난자 저장용  \\\n",
       "0        5.0        0.0         0      5.0     -1         0.0            0.0   \n",
       "1        6.0        0.0         0      6.0     -2         0.0            0.0   \n",
       "2        3.0        0.0         1      5.0      0         0.0            0.0   \n",
       "3        3.0        0.0         1      5.0     -1         0.0            0.0   \n",
       "4        0.0        0.0         0      6.0     -3         0.0            0.0   \n",
       "\n",
       "   배아생성이유_배아 저장용  배아생성이유_현재 시술용  \n",
       "0            0.0            1.0  \n",
       "1            0.0            1.0  \n",
       "2            0.0            1.0  \n",
       "3            0.0            1.0  \n",
       "4            0.0            1.0  \n",
       "\n",
       "[5 rows x 67 columns]"
      ]
     },
     "execution_count": 49,
     "metadata": {},
     "output_type": "execute_result"
    }
   ],
   "source": [
    "train.head()"
   ]
  },
  {
   "cell_type": "code",
   "execution_count": 50,
   "id": "208e47ed6c1b07f6",
   "metadata": {
    "ExecuteTime": {
     "end_time": "2025-03-15T14:18:26.850366Z",
     "start_time": "2025-03-15T14:17:12.468835Z"
    }
   },
   "outputs": [
    {
     "name": "stdout",
     "output_type": "stream",
     "text": [
      "Seed[333] Fold 1 | AUC: 0.7364401 | Acc: 0.6521845 | F1: 0.5096583\n",
      "Seed[333] Fold 2 | AUC: 0.7283998 | Acc: 0.6465769 | F1: 0.5046135\n",
      "Seed[333] Fold 3 | AUC: 0.7351564 | Acc: 0.6539155 | F1: 0.5101625\n"
     ]
    },
    {
     "name": "stderr",
     "output_type": "stream",
     "text": [
      "c:\\Users\\User\\anaconda3\\envs\\lg2025\\lib\\site-packages\\sklearn\\preprocessing\\_label.py:900: UserWarning: unknown class(es) ['연구용'] will be ignored\n",
      "  warnings.warn(\n",
      "c:\\Users\\User\\anaconda3\\envs\\lg2025\\lib\\site-packages\\sklearn\\preprocessing\\_label.py:900: UserWarning: unknown class(es) ['연구용'] will be ignored\n",
      "  warnings.warn(\n"
     ]
    },
    {
     "name": "stdout",
     "output_type": "stream",
     "text": [
      "Seed[333] Fold 4 | AUC: 0.7325390 | Acc: 0.6509411 | F1: 0.5061230\n",
      "Seed[333] Fold 5 | AUC: 0.7340557 | Acc: 0.6522333 | F1: 0.5084092\n",
      "--------------------------------------------------------------------------------\n",
      "Seed[333] Average Metrics | AUC: 0.7333182 | Acc: 0.6511703 | F1: 0.5077933\n"
     ]
    }
   ],
   "source": [
    "train = pd.read_csv(train_path).drop(columns=['ID'])\n",
    "test = pd.read_csv(test_path).drop(columns=['ID'])\n",
    "\n",
    "total_auc, total_acc, total_f1 = [], [], []\n",
    "test_preds_rf = []\n",
    "\n",
    "seed = 333\n",
    "skf = StratifiedKFold(n_splits=folds, shuffle=True, random_state=seed)\n",
    "auc_scores, acc_scores,  f1_scores = [], [], []\n",
    "\n",
    "for fold, (train_idx, valid_idx) in enumerate(skf.split(train.drop(columns=['임신 성공 여부']), train[\"임신 성공 여부\"])):\n",
    "    fold_train = train.iloc[train_idx].copy().reset_index(drop=True)\n",
    "    fold_train2 = train.iloc[train_idx].copy().reset_index(drop=True)\n",
    "    fold_valid = train.iloc[valid_idx].copy().reset_index(drop=True)\n",
    "    fold_test = test.copy()\n",
    "\n",
    "    fold_train, fold_valid = lgbm_process(fold_train, fold_valid, seed=seed)\n",
    "    fold_train2, fold_test = lgbm_process(fold_train2, fold_test, seed=seed)\n",
    "\n",
    "    X_train = fold_train.drop(columns=['임신 성공 여부'])\n",
    "    X_valid = fold_valid.drop(columns=['임신 성공 여부'])\n",
    "    y_train = fold_train['임신 성공 여부']\n",
    "    y_valid = fold_valid['임신 성공 여부']\n",
    "\n",
    "\n",
    "    \n",
    "    # GPT 추천 파라미터\n",
    "    rf_params = {\n",
    "        'n_estimators': 300,         # ⭐ [추천] 기본보다 늘려서 안정적인 앙상블 효과 확보.\n",
    "                                    # 너무 많으면 시간 증가, 300~500 선에서 안정적 성능 기대.\n",
    "\n",
    "        'criterion': 'gini',         # ⭐ [추천] 대부분의 경우 'gini'가 속도 빠르고 성능 차이 미미.\n",
    "                                    # 불균형 데이터면 'log_loss' 시도해볼 가치 있음.\n",
    "\n",
    "        'max_depth': 20,             # ⭐ [추천] 트리 깊이를 제한하여 과적합 방지.\n",
    "                                    # 데이터가 많으므로 지나치게 깊게 갈 필요 없음.\n",
    "\n",
    "        'min_samples_split': 10,     # ⭐ [추천] 노드 분할을 더 보수적으로.\n",
    "                                    # 샘플 수가 많을수록 기본값보다 높게 설정하는 게 안정적.\n",
    "\n",
    "        'min_samples_leaf': 4,       # ⭐ [추천] 리프 노드 최소 샘플 수 증가로 과적합 방지.\n",
    "                                    # leaf 수 증가 = 더 일반화된 분기.\n",
    "\n",
    "        'max_features': 'sqrt',      # [유지] 분산 낮추고 속도 개선 → 기본값 유지 추천.\n",
    "\n",
    "        'max_leaf_nodes': None,      # [옵션] 성능이 잘 나오면 무제한으로 두고, 과적합 의심 시 100~500 제한.\n",
    "\n",
    "        'min_impurity_decrease': 0.0,# [유지] 기본으로 충분. 필요 시 미세 튜닝 가능.\n",
    "\n",
    "        'bootstrap': True,           # [유지] 부트스트랩 샘플링 사용 → Random Forest 본연의 방식.\n",
    "\n",
    "        'random_state': seed,        # [유지] 결과 재현 가능하도록.\n",
    "\n",
    "        'verbose': 0,                # [유지] 학습 로그 불필요 시 유지.\n",
    "\n",
    "        'warm_start': False,         # [유지] 반복 학습 필요 없으면 False 유지.\n",
    "\n",
    "        'class_weight': 'balanced',  # ⭐ [추천] 클래스 불균형이 있다면 자동으로 보정.\n",
    "                                    # 특히 '임신 성공 여부'처럼 비율 차이 큰 경우 성능 향상 가능.\n",
    "\n",
    "        'ccp_alpha': 0.0,            # [유지] 기본적으로는 0.0 사용, 과적합 감지 시 0.0001 정도 시도.\n",
    "\n",
    "        'max_samples': 0.7           # ⭐ [추천] 학습 샘플 일부만 사용하는 방식 (부트스트랩)\n",
    "                                    # 속도 단축 및 다소의 regularization 효과 있음.\n",
    "    }\n",
    "\n",
    "    model_rf = RandomForestClassifier(**rf_params)\n",
    "\n",
    "    model_rf.fit(X_train, y_train) # 파라미터 확인 eval set이 있을 수도도\n",
    "\n",
    "    valid_preds_proba  = model_rf.predict_proba(X_valid)[:, 1]\n",
    "    valid_preds_class = model_rf.predict(X_valid)  # 클래스 예측값 (0 또는 1)\n",
    "\n",
    "    # AUC, Accuracy, F1-score 계산\n",
    "    auc_ = roc_auc_score(y_valid, valid_preds_proba)\n",
    "    acc_ = accuracy_score(y_valid, valid_preds_class)\n",
    "    f1_ = f1_score(y_valid, valid_preds_class)\n",
    "\n",
    "    print(f\"Seed[{seed:<3}] Fold {fold + 1} | AUC: {auc_:.7f} | Acc: {acc_:.7f} | F1: {f1_:.7f}\")\n",
    "\n",
    "    auc_scores.append(auc_)\n",
    "    acc_scores.append(acc_)\n",
    "    f1_scores.append(f1_)\n",
    "\n",
    "    total_auc.append(auc_)\n",
    "    total_acc.append(acc_)\n",
    "    total_f1.append(f1_)\n",
    "\n",
    "    test_pred = model_rf.predict_proba(fold_test)[:, 1]\n",
    "    test_preds_rf.append(test_pred)\n",
    "\n",
    "# fold 별 평균 성능 계산\n",
    "avg_auc = np.mean(auc_scores)\n",
    "avg_acc = np.mean(acc_scores)\n",
    "avg_f1 = np.mean(f1_scores)\n",
    "\n",
    "print(\"-\" * 80)\n",
    "print(f\"Seed[{seed:<3}] Average Metrics | AUC: {avg_auc:.7f} | Acc: {avg_acc:.7f} | F1: {avg_f1:.7f}\")"
   ]
  },
  {
   "cell_type": "code",
   "execution_count": 51,
   "id": "7b3767f564ebeb3d",
   "metadata": {
    "ExecuteTime": {
     "end_time": "2025-03-15T14:18:26.975388Z",
     "start_time": "2025-03-15T14:18:26.960369Z"
    },
    "scrolled": true
   },
   "outputs": [
    {
     "data": {
      "text/html": [
       "<div>\n",
       "<style scoped>\n",
       "    .dataframe tbody tr th:only-of-type {\n",
       "        vertical-align: middle;\n",
       "    }\n",
       "\n",
       "    .dataframe tbody tr th {\n",
       "        vertical-align: top;\n",
       "    }\n",
       "\n",
       "    .dataframe thead th {\n",
       "        text-align: right;\n",
       "    }\n",
       "</style>\n",
       "<table border=\"1\" class=\"dataframe\">\n",
       "  <thead>\n",
       "    <tr style=\"text-align: right;\">\n",
       "      <th></th>\n",
       "      <th>RandomForest_9</th>\n",
       "    </tr>\n",
       "  </thead>\n",
       "  <tbody>\n",
       "    <tr>\n",
       "      <th>0</th>\n",
       "      <td>0.493770</td>\n",
       "    </tr>\n",
       "    <tr>\n",
       "      <th>1</th>\n",
       "      <td>0.526425</td>\n",
       "    </tr>\n",
       "    <tr>\n",
       "      <th>2</th>\n",
       "      <td>0.000165</td>\n",
       "    </tr>\n",
       "    <tr>\n",
       "      <th>3</th>\n",
       "      <td>0.154574</td>\n",
       "    </tr>\n",
       "    <tr>\n",
       "      <th>4</th>\n",
       "      <td>0.588265</td>\n",
       "    </tr>\n",
       "    <tr>\n",
       "      <th>...</th>\n",
       "      <td>...</td>\n",
       "    </tr>\n",
       "    <tr>\n",
       "      <th>51266</th>\n",
       "      <td>0.648031</td>\n",
       "    </tr>\n",
       "    <tr>\n",
       "      <th>51267</th>\n",
       "      <td>0.446124</td>\n",
       "    </tr>\n",
       "    <tr>\n",
       "      <th>51268</th>\n",
       "      <td>0.339861</td>\n",
       "    </tr>\n",
       "    <tr>\n",
       "      <th>51269</th>\n",
       "      <td>0.512979</td>\n",
       "    </tr>\n",
       "    <tr>\n",
       "      <th>51270</th>\n",
       "      <td>0.145651</td>\n",
       "    </tr>\n",
       "  </tbody>\n",
       "</table>\n",
       "<p>51271 rows × 1 columns</p>\n",
       "</div>"
      ],
      "text/plain": [
       "       RandomForest_9\n",
       "0            0.493770\n",
       "1            0.526425\n",
       "2            0.000165\n",
       "3            0.154574\n",
       "4            0.588265\n",
       "...               ...\n",
       "51266        0.648031\n",
       "51267        0.446124\n",
       "51268        0.339861\n",
       "51269        0.512979\n",
       "51270        0.145651\n",
       "\n",
       "[51271 rows x 1 columns]"
      ]
     },
     "execution_count": 51,
     "metadata": {},
     "output_type": "execute_result"
    }
   ],
   "source": [
    "tmp_submission = pd.DataFrame({f'RandomForest_{data_seed}': np.mean(test_preds_rf, axis=0)})\n",
    "tmp_submission"
   ]
  },
  {
   "cell_type": "code",
   "execution_count": 52,
   "id": "63ad1129",
   "metadata": {},
   "outputs": [],
   "source": [
    "# Save the DataFrame to a CSV file\n",
    "file_name = f\"Random Forest_{data_seed}_result.csv\"\n",
    "tmp_submission.to_csv(file_name, index=False)"
   ]
  },
  {
   "cell_type": "code",
   "execution_count": 53,
   "id": "6f66806408ec823",
   "metadata": {
    "ExecuteTime": {
     "end_time": "2025-03-15T14:18:27.943531Z",
     "start_time": "2025-03-15T14:18:27.007389Z"
    }
   },
   "outputs": [
    {
     "data": {
      "text/plain": [
       "0.7379787082709299"
      ]
     },
     "execution_count": 53,
     "metadata": {},
     "output_type": "execute_result"
    }
   ],
   "source": [
    "score = calculate_auc(tmp_submission, seed=data_seed)\n",
    "score"
   ]
  },
  {
   "cell_type": "code",
   "execution_count": null,
   "id": "5cec520cb6f2c83e",
   "metadata": {
    "ExecuteTime": {
     "end_time": "2025-03-15T14:18:27.989537Z",
     "start_time": "2025-03-15T14:18:27.976534Z"
    }
   },
   "outputs": [],
   "source": []
  }
 ],
 "metadata": {
  "kernelspec": {
   "display_name": "lg2025",
   "language": "python",
   "name": "lg2025"
  },
  "language_info": {
   "codemirror_mode": {
    "name": "ipython",
    "version": 3
   },
   "file_extension": ".py",
   "mimetype": "text/x-python",
   "name": "python",
   "nbconvert_exporter": "python",
   "pygments_lexer": "ipython3",
   "version": "3.10.16"
  }
 },
 "nbformat": 4,
 "nbformat_minor": 5
}
