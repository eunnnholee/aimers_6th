{
 "cells": [
  {
   "cell_type": "code",
   "execution_count": 36,
   "id": "a21ca5b12e3cd584",
   "metadata": {
    "ExecuteTime": {
     "end_time": "2025-04-03T16:50:25.099795Z",
     "start_time": "2025-04-03T16:50:25.084795Z"
    }
   },
   "outputs": [],
   "source": [
    "import pandas as pd\n",
    "import numpy as np\n",
    "import warnings\n",
    "warnings.simplefilter(action='ignore', category=FutureWarning)\n",
    "\n",
    "from lightgbm import LGBMClassifier\n",
    "from sklearn.model_selection import StratifiedKFold\n",
    "from sklearn.metrics import roc_auc_score, accuracy_score, f1_score\n",
    "\n",
    "from catboost import CatBoostClassifier\n",
    "from sklearn.utils.class_weight import compute_class_weight\n",
    "from LG_Aimers_6th.cal_auc import calculate_auc\n",
    "\n",
    "data_seed = 9\n",
    "train_path = f'../data/custom_train_{data_seed}.csv'\n",
    "test_path = f'../data/custom_test_{data_seed}.csv'"
   ]
  },
  {
   "cell_type": "markdown",
   "id": "d8480b57399f9d75",
   "metadata": {},
   "source": [
    "## LGBM"
   ]
  },
  {
   "cell_type": "code",
   "execution_count": 37,
   "id": "5880e2656cdb4cbc",
   "metadata": {
    "ExecuteTime": {
     "end_time": "2025-04-03T16:50:28.620165Z",
     "start_time": "2025-04-03T16:50:25.942361Z"
    }
   },
   "outputs": [
    {
     "name": "stdout",
     "output_type": "stream",
     "text": [
      "(205080, 67) (51271, 66)\n"
     ]
    }
   ],
   "source": [
    "from LG_Aimers_6th.lgbm_process import lgbm_process\n",
    "\n",
    "train = pd.read_csv(train_path).drop(columns=[\"ID\"])\n",
    "test = pd.read_csv(test_path).drop(columns=[\"ID\"])\n",
    "train, test = lgbm_process(train, test)\n",
    "print(train.shape, test.shape)"
   ]
  },
  {
   "cell_type": "code",
   "execution_count": 38,
   "id": "8d6c78961a0afb34",
   "metadata": {
    "ExecuteTime": {
     "end_time": "2025-04-03T16:50:29.386783Z",
     "start_time": "2025-04-03T16:50:29.371784Z"
    }
   },
   "outputs": [],
   "source": [
    "seed_list = [333] # 333, 777\n",
    "folds = [10]"
   ]
  },
  {
   "cell_type": "code",
   "execution_count": 39,
   "id": "282abcda1e81f924",
   "metadata": {
    "ExecuteTime": {
     "end_time": "2025-04-03T16:51:45.500205Z",
     "start_time": "2025-04-03T16:50:30.807634Z"
    }
   },
   "outputs": [
    {
     "name": "stdout",
     "output_type": "stream",
     "text": [
      "Seed[333] Fold 1 | AUC: 0.7369863 | Acc: 0.7476594 | F1: 0.2049470\n",
      "Seed[333] Fold 2 | AUC: 0.7427490 | Acc: 0.7475619 | F1: 0.1939903\n",
      "Seed[333] Fold 3 | AUC: 0.7354849 | Acc: 0.7441486 | F1: 0.1901528\n",
      "Seed[333] Fold 4 | AUC: 0.7338952 | Acc: 0.7433684 | F1: 0.1943977\n",
      "Seed[333] Fold 5 | AUC: 0.7376852 | Acc: 0.7462941 | F1: 0.1947067\n",
      "Seed[333] Fold 6 | AUC: 0.7446984 | Acc: 0.7477082 | F1: 0.1980781\n",
      "Seed[333] Fold 7 | AUC: 0.7411883 | Acc: 0.7476107 | F1: 0.1897307\n"
     ]
    },
    {
     "name": "stderr",
     "output_type": "stream",
     "text": [
      "C:\\Users\\eunhak\\anaconda3\\envs\\aimers_6th\\lib\\site-packages\\sklearn\\preprocessing\\_label.py:909: UserWarning: unknown class(es) ['연구용'] will be ignored\n",
      "  warnings.warn(\n",
      "C:\\Users\\eunhak\\anaconda3\\envs\\aimers_6th\\lib\\site-packages\\sklearn\\preprocessing\\_label.py:909: UserWarning: unknown class(es) ['연구용'] will be ignored\n",
      "  warnings.warn(\n"
     ]
    },
    {
     "name": "stdout",
     "output_type": "stream",
     "text": [
      "Seed[333] Fold 8 | AUC: 0.7380234 | Acc: 0.7463917 | F1: 0.1836446\n",
      "Seed[333] Fold 9 | AUC: 0.7400264 | Acc: 0.7479520 | F1: 0.2007113\n",
      "Seed[333] Fold 10 | AUC: 0.7388709 | Acc: 0.7441486 | F1: 0.1717443\n",
      "--------------------------------------------------------------------------------\n",
      "Seed[333] Average Metrics | AUC: 0.7389608 | Acc: 0.7462844 | F1: 0.1922104\n",
      "--------------------------------------------------------------------------------\n",
      "--------------------------------------------------------------------------------\n",
      "Validation Average Metrics | AUC: 0.7389608 | Acc: 0.7462844 | F1: 0.1922104\n"
     ]
    }
   ],
   "source": [
    "train = pd.read_csv(train_path).drop(columns=['ID'])\n",
    "test = pd.read_csv(test_path).drop(columns=['ID'])\n",
    "\n",
    "total_auc, total_acc, total_f1 = [], [], []\n",
    "test_preds_lgbm = []\n",
    "\n",
    "for seed in seed_list:\n",
    "    for k in folds:\n",
    "        skf = StratifiedKFold(n_splits=k, shuffle=True, random_state=seed)\n",
    "        auc_scores, acc_scores,  f1_scores = [], [], []\n",
    "\n",
    "        for fold, (train_idx, valid_idx) in enumerate(skf.split(train.drop(columns=['임신 성공 여부']), train[\"임신 성공 여부\"])):\n",
    "            fold_train = train.iloc[train_idx].copy().reset_index(drop=True)\n",
    "            fold_train2 = train.iloc[train_idx].copy().reset_index(drop=True)\n",
    "            fold_valid = train.iloc[valid_idx].copy().reset_index(drop=True)\n",
    "            fold_test = test.copy()\n",
    "\n",
    "            fold_train, fold_valid = lgbm_process(fold_train, fold_valid, seed=seed)\n",
    "            fold_train2, fold_test = lgbm_process(fold_train2, fold_test, seed=seed)\n",
    "\n",
    "            X_train = fold_train.drop(columns=['임신 성공 여부'])\n",
    "            X_valid = fold_valid.drop(columns=['임신 성공 여부'])\n",
    "            y_train = fold_train['임신 성공 여부']\n",
    "            y_valid = fold_valid['임신 성공 여부']\n",
    "\n",
    "            # Optuna\n",
    "            lgbm_params = {\n",
    "                'n_estimators': 1134,\n",
    "                'learning_rate': 0.009183378614268902,\n",
    "                'max_depth': 15,\n",
    "                'num_leaves': 59,\n",
    "                'min_child_samples': 56,\n",
    "                'subsample': 0.5894604069264655,\n",
    "                'colsample_bytree': 0.6305670256882752,\n",
    "                'reg_alpha': 7.47936987466662,\n",
    "                'reg_lambda': 0.0010986427203281623,\n",
    "            }\n",
    "\n",
    "            model_lgb = LGBMClassifier(\n",
    "                **lgbm_params,\n",
    "                verbosity=-1,\n",
    "                n_jobs=-1,\n",
    "                random_state=seed,\n",
    "                early_stopping_rounds=100,\n",
    "            )\n",
    "\n",
    "            model_lgb.fit(\n",
    "                X_train, y_train,\n",
    "                eval_set=(X_valid, y_valid),\n",
    "            )\n",
    "\n",
    "            valid_preds_proba  = model_lgb.predict_proba(X_valid)[:, 1]\n",
    "            valid_preds_class = model_lgb.predict(X_valid)  # 클래스 예측값 (0 또는 1)\n",
    "\n",
    "            # AUC, Accuracy, F1-score 계산\n",
    "            auc_ = roc_auc_score(y_valid, valid_preds_proba)\n",
    "            acc_ = accuracy_score(y_valid, valid_preds_class)\n",
    "            f1_ = f1_score(y_valid, valid_preds_class)\n",
    "\n",
    "            print(f\"Seed[{seed:<3}] Fold {fold + 1} | AUC: {auc_:.7f} | Acc: {acc_:.7f} | F1: {f1_:.7f}\")\n",
    "\n",
    "            auc_scores.append(auc_)\n",
    "            acc_scores.append(acc_)\n",
    "            f1_scores.append(f1_)\n",
    "\n",
    "            total_auc.append(auc_)\n",
    "            total_acc.append(acc_)\n",
    "            total_f1.append(f1_)\n",
    "\n",
    "            test_pred = model_lgb.predict_proba(fold_test)[:, 1]\n",
    "            test_preds_lgbm.append(test_pred)\n",
    "\n",
    "        # fold 별 평균 성능 계산\n",
    "        avg_auc = np.mean(auc_scores)\n",
    "        avg_acc = np.mean(acc_scores)\n",
    "        avg_f1 = np.mean(f1_scores)\n",
    "\n",
    "        print(\"-\" * 80)\n",
    "        print(f\"Seed[{seed:<3}] Average Metrics | AUC: {avg_auc:.7f} | Acc: {avg_acc:.7f} | F1: {avg_f1:.7f}\")\n",
    "        print(\"-\" * 80)\n",
    "\n",
    "val_auc = np.mean(total_auc)\n",
    "val_acc = np.mean(total_acc)\n",
    "val_f1 = np.mean(total_f1)\n",
    "\n",
    "print(\"-\" * 80)\n",
    "print(f\"Validation Average Metrics | AUC: {val_auc:.7f} | Acc: {val_acc:.7f} | F1: {val_f1:.7f}\")"
   ]
  },
  {
   "cell_type": "code",
   "execution_count": 41,
   "id": "35309e0ffb1c2d3",
   "metadata": {
    "ExecuteTime": {
     "end_time": "2025-04-03T16:51:50.739976Z",
     "start_time": "2025-04-03T16:51:50.728975Z"
    }
   },
   "outputs": [
    {
     "data": {
      "text/html": [
       "<div>\n",
       "<style scoped>\n",
       "    .dataframe tbody tr th:only-of-type {\n",
       "        vertical-align: middle;\n",
       "    }\n",
       "\n",
       "    .dataframe tbody tr th {\n",
       "        vertical-align: top;\n",
       "    }\n",
       "\n",
       "    .dataframe thead th {\n",
       "        text-align: right;\n",
       "    }\n",
       "</style>\n",
       "<table border=\"1\" class=\"dataframe\">\n",
       "  <thead>\n",
       "    <tr style=\"text-align: right;\">\n",
       "      <th></th>\n",
       "      <th>lgbm_333</th>\n",
       "    </tr>\n",
       "  </thead>\n",
       "  <tbody>\n",
       "    <tr>\n",
       "      <th>0</th>\n",
       "      <td>0.266456</td>\n",
       "    </tr>\n",
       "    <tr>\n",
       "      <th>1</th>\n",
       "      <td>0.382247</td>\n",
       "    </tr>\n",
       "    <tr>\n",
       "      <th>2</th>\n",
       "      <td>0.001526</td>\n",
       "    </tr>\n",
       "    <tr>\n",
       "      <th>3</th>\n",
       "      <td>0.054471</td>\n",
       "    </tr>\n",
       "    <tr>\n",
       "      <th>4</th>\n",
       "      <td>0.356222</td>\n",
       "    </tr>\n",
       "    <tr>\n",
       "      <th>...</th>\n",
       "      <td>...</td>\n",
       "    </tr>\n",
       "    <tr>\n",
       "      <th>51266</th>\n",
       "      <td>0.428783</td>\n",
       "    </tr>\n",
       "    <tr>\n",
       "      <th>51267</th>\n",
       "      <td>0.183462</td>\n",
       "    </tr>\n",
       "    <tr>\n",
       "      <th>51268</th>\n",
       "      <td>0.187892</td>\n",
       "    </tr>\n",
       "    <tr>\n",
       "      <th>51269</th>\n",
       "      <td>0.276642</td>\n",
       "    </tr>\n",
       "    <tr>\n",
       "      <th>51270</th>\n",
       "      <td>0.046301</td>\n",
       "    </tr>\n",
       "  </tbody>\n",
       "</table>\n",
       "<p>51271 rows × 1 columns</p>\n",
       "</div>"
      ],
      "text/plain": [
       "       lgbm_333\n",
       "0      0.266456\n",
       "1      0.382247\n",
       "2      0.001526\n",
       "3      0.054471\n",
       "4      0.356222\n",
       "...         ...\n",
       "51266  0.428783\n",
       "51267  0.183462\n",
       "51268  0.187892\n",
       "51269  0.276642\n",
       "51270  0.046301\n",
       "\n",
       "[51271 rows x 1 columns]"
      ]
     },
     "execution_count": 41,
     "metadata": {},
     "output_type": "execute_result"
    }
   ],
   "source": [
    "tmp_submission = pd.DataFrame({f'lgbm_{seed_list[0]}': np.mean(test_preds_lgbm, axis=0)})\n",
    "tmp_submission"
   ]
  },
  {
   "cell_type": "code",
   "execution_count": 42,
   "id": "cdc60cb89c838f4b",
   "metadata": {
    "ExecuteTime": {
     "end_time": "2025-04-03T16:51:52.348230Z",
     "start_time": "2025-04-03T16:51:51.401948Z"
    }
   },
   "outputs": [
    {
     "data": {
      "text/plain": [
       "0.742409886333393"
      ]
     },
     "execution_count": 42,
     "metadata": {},
     "output_type": "execute_result"
    }
   ],
   "source": [
    "lgbm_score = calculate_auc(tmp_submission['lgbm_333'], data_seed)\n",
    "lgbm_score"
   ]
  },
  {
   "cell_type": "markdown",
   "id": "9d53fc419d9c2fa1",
   "metadata": {},
   "source": [
    "## Catboost"
   ]
  },
  {
   "cell_type": "code",
   "execution_count": 43,
   "id": "128946e0af2dd1bb",
   "metadata": {
    "ExecuteTime": {
     "end_time": "2025-04-03T16:52:04.438499Z",
     "start_time": "2025-04-03T16:52:02.084791Z"
    }
   },
   "outputs": [
    {
     "name": "stdout",
     "output_type": "stream",
     "text": [
      "(205080, 65) (51271, 64)\n"
     ]
    }
   ],
   "source": [
    "from LG_Aimers_6th.cat_process import cb_all_process\n",
    "train = pd.read_csv(train_path).drop(columns=[\"ID\"])\n",
    "test = pd.read_csv(test_path).drop(columns=[\"ID\"])\n",
    "\n",
    "train, test = cb_all_process(train, test)\n",
    "\n",
    "print(train.shape, test.shape)"
   ]
  },
  {
   "cell_type": "code",
   "execution_count": 44,
   "id": "82bf941d87c7923d",
   "metadata": {
    "ExecuteTime": {
     "end_time": "2025-04-03T17:09:52.150515Z",
     "start_time": "2025-04-03T16:52:07.450468Z"
    }
   },
   "outputs": [
    {
     "name": "stdout",
     "output_type": "stream",
     "text": [
      "범주형 변수: 18개 \n",
      " ['시술 시기 코드', '시술 당시 나이', '배란 유도 유형', '배아 생성 주요 이유', '클리닉 내 총 시술 횟수', 'IVF 시술 횟수', 'DI 시술 횟수', '총 임신 횟수', 'IVF 임신 횟수', 'DI 임신 횟수', '총 출산 횟수', 'IVF 출산 횟수', 'DI 출산 횟수', '난자 출처', '정자 출처', '난자 기증자 나이', '정자 기증자 나이', '시술유형_통합'] \n",
      "\n",
      "수치형 변수: 46개 \n",
      " ['임신 시도 또는 마지막 임신 경과 연수', '배란 자극 여부', '단일 배아 이식 여부', '착상 전 유전 검사 사용 여부', '착상 전 유전 진단 사용 여부', '남성 주 불임 원인', '남성 부 불임 원인', '여성 주 불임 원인', '여성 부 불임 원인', '부부 주 불임 원인', '부부 부 불임 원인', '불명확 불임 원인', '불임 원인 - 난관 질환', '불임 원인 - 남성 요인', '불임 원인 - 배란 장애', '불임 원인 - 자궁경부 문제', '불임 원인 - 자궁내막증', '불임 원인 - 정자 농도', '불임 원인 - 정자 운동성', '불임 원인 - 정자 형태', '총 생성 배아 수', '미세주입된 난자 수', '미세주입에서 생성된 배아 수', '이식된 배아 수', '미세주입 배아 이식 수', '저장된 배아 수', '미세주입 후 저장된 배아 수', '해동된 배아 수', '해동 난자 수', '수집된 신선 난자 수', '저장된 신선 난자 수', '혼합된 난자 수', '파트너 정자와 혼합된 난자 수', '기증자 정자와 혼합된 난자 수', '동결 배아 사용 여부', '신선 배아 사용 여부', '기증 배아 사용 여부', '대리모 여부', 'PGD 시술 여부', 'PGS 시술 여부', '난자 채취 경과일', '난자 해동 경과일', '난자 혼합 경과일', '배아 이식 경과일', '배아 해동 경과일', '시술_임신'] \n",
      "\n",
      "0:\tlearn: 0.6749734\ttest: 0.6751204\tbest: 0.6751204 (0)\ttotal: 122ms\tremaining: 4m 3s\n",
      "1000:\tlearn: 0.5442547\ttest: 0.5561941\tbest: 0.5561348 (942)\ttotal: 1m 56s\tremaining: 1m 56s\n",
      "Stopped by overfitting detector  (100 iterations wait)\n",
      "\n",
      "bestTest = 0.5561348359\n",
      "bestIteration = 942\n",
      "\n",
      "Shrink model to first 943 iterations.\n",
      "Seed[333] Fold 1 | AUC: 0.7373156 | Acc: 0.7127462 | F1: 0.4524584\n",
      "0:\tlearn: 0.6760910\ttest: 0.6756698\tbest: 0.6756698 (0)\ttotal: 114ms\tremaining: 3m 47s\n",
      "Stopped by overfitting detector  (100 iterations wait)\n",
      "\n",
      "bestTest = 0.551752889\n",
      "bestIteration = 759\n",
      "\n",
      "Shrink model to first 760 iterations.\n",
      "Seed[333] Fold 2 | AUC: 0.7424992 | Acc: 0.7208406 | F1: 0.4666977\n",
      "0:\tlearn: 0.6748278\ttest: 0.6748780\tbest: 0.6748780 (0)\ttotal: 112ms\tremaining: 3m 43s\n",
      "Stopped by overfitting detector  (100 iterations wait)\n",
      "\n",
      "bestTest = 0.5581030865\n",
      "bestIteration = 645\n",
      "\n",
      "Shrink model to first 646 iterations.\n",
      "Seed[333] Fold 3 | AUC: 0.7358311 | Acc: 0.7162083 | F1: 0.4582015\n",
      "0:\tlearn: 0.6738392\ttest: 0.6742763\tbest: 0.6742763 (0)\ttotal: 116ms\tremaining: 3m 51s\n",
      "Stopped by overfitting detector  (100 iterations wait)\n",
      "\n",
      "bestTest = 0.5599513711\n",
      "bestIteration = 584\n",
      "\n",
      "Shrink model to first 585 iterations.\n",
      "Seed[333] Fold 4 | AUC: 0.7330704 | Acc: 0.7119661 | F1: 0.4528022\n",
      "0:\tlearn: 0.6749368\ttest: 0.6750393\tbest: 0.6750393 (0)\ttotal: 110ms\tremaining: 3m 39s\n",
      "1000:\tlearn: 0.5438436\ttest: 0.5568999\tbest: 0.5568939 (992)\ttotal: 1m 52s\tremaining: 1m 52s\n",
      "Stopped by overfitting detector  (100 iterations wait)\n",
      "\n",
      "bestTest = 0.5568686238\n",
      "bestIteration = 1086\n",
      "\n",
      "Shrink model to first 1087 iterations.\n",
      "Seed[333] Fold 5 | AUC: 0.7367526 | Acc: 0.7151843 | F1: 0.4547746\n",
      "0:\tlearn: 0.6750276\ttest: 0.6745714\tbest: 0.6745714 (0)\ttotal: 120ms\tremaining: 3m 59s\n",
      "Stopped by overfitting detector  (100 iterations wait)\n",
      "\n",
      "bestTest = 0.5518059788\n",
      "bestIteration = 756\n",
      "\n",
      "Shrink model to first 757 iterations.\n",
      "Seed[333] Fold 6 | AUC: 0.7451755 | Acc: 0.7222547 | F1: 0.4665668\n",
      "0:\tlearn: 0.6736105\ttest: 0.6736268\tbest: 0.6736268 (0)\ttotal: 112ms\tremaining: 3m 44s\n",
      "Stopped by overfitting detector  (100 iterations wait)\n",
      "\n",
      "bestTest = 0.5548982363\n",
      "bestIteration = 801\n",
      "\n",
      "Shrink model to first 802 iterations.\n",
      "Seed[333] Fold 7 | AUC: 0.7413528 | Acc: 0.7196216 | F1: 0.4672966\n",
      "0:\tlearn: 0.6747559\ttest: 0.6748759\tbest: 0.6748759 (0)\ttotal: 122ms\tremaining: 4m 4s\n",
      "1000:\tlearn: 0.5442664\ttest: 0.5546900\tbest: 0.5546900 (1000)\ttotal: 1m 58s\tremaining: 1m 57s\n",
      "Stopped by overfitting detector  (100 iterations wait)\n",
      "\n",
      "bestTest = 0.5546706552\n",
      "bestIteration = 1043\n",
      "\n",
      "Shrink model to first 1044 iterations.\n",
      "Seed[333] Fold 8 | AUC: 0.7382585 | Acc: 0.7176224 | F1: 0.4564993\n",
      "0:\tlearn: 0.6745316\ttest: 0.6744878\tbest: 0.6744878 (0)\ttotal: 126ms\tremaining: 4m 12s\n",
      "Stopped by overfitting detector  (100 iterations wait)\n",
      "\n",
      "bestTest = 0.5531664377\n",
      "bestIteration = 887\n",
      "\n",
      "Shrink model to first 888 iterations.\n",
      "Seed[333] Fold 9 | AUC: 0.7403662 | Acc: 0.7175736 | F1: 0.4607076\n",
      "0:\tlearn: 0.6744077\ttest: 0.6744829\tbest: 0.6744829 (0)\ttotal: 148ms\tremaining: 4m 55s\n",
      "Stopped by overfitting detector  (100 iterations wait)\n",
      "\n",
      "bestTest = 0.5552139047\n",
      "bestIteration = 490\n",
      "\n",
      "Shrink model to first 491 iterations.\n",
      "Seed[333] Fold 10 | AUC: 0.7388715 | Acc: 0.7164034 | F1: 0.4583721\n",
      "--------------------------------------------------------------------------------\n",
      "Seed[333] Average Metrics | AUC: 0.7389493 | Acc: 0.7170421 | F1: 0.4594377\n",
      "--------------------------------------------------------------------------------\n",
      "--------------------------------------------------------------------------------\n",
      "Validation Average Metrics | AUC: 0.7389493 | Acc: 0.7170421 | F1: 0.4594377\n"
     ]
    }
   ],
   "source": [
    "train = pd.read_csv(train_path).drop(columns=['ID'])\n",
    "test = pd.read_csv(test_path).drop(columns=['ID'])\n",
    "\n",
    "total_auc, total_acc, total_f1 = [], [], []\n",
    "test_preds_cat = []\n",
    "\n",
    "is_first = True\n",
    "for seed in seed_list:\n",
    "    for k in folds:\n",
    "        skf = StratifiedKFold(n_splits=k, shuffle=True, random_state=seed)\n",
    "        auc_scores, acc_scores,  f1_scores = [], [], []\n",
    "\n",
    "        for fold, (train_idx, valid_idx) in enumerate(skf.split(train.drop(columns=['임신 성공 여부']), train[\"임신 성공 여부\"])):\n",
    "            fold_train = train.iloc[train_idx].copy().reset_index(drop=True)\n",
    "            fold_train2 = train.iloc[train_idx].copy().reset_index(drop=True)\n",
    "            fold_valid = train.iloc[valid_idx].copy().reset_index(drop=True)\n",
    "            fold_test = test.copy()\n",
    "\n",
    "            fold_train, fold_valid = cb_all_process(fold_train, fold_valid)\n",
    "            fold_train2, fold_test = cb_all_process(fold_train2, fold_test)\n",
    "\n",
    "            X_train = fold_train.drop(columns=['임신 성공 여부'])\n",
    "            X_valid = fold_valid.drop(columns=['임신 성공 여부'])\n",
    "            y_train = fold_train['임신 성공 여부']\n",
    "            y_valid = fold_valid['임신 성공 여부']\n",
    "\n",
    "            cat_features = X_train.select_dtypes(include=[\"object\", \"category\"]).columns.tolist()\n",
    "\n",
    "            if is_first:\n",
    "                cat_features = X_train.select_dtypes(include=[\"object\", \"category\"]).columns.tolist()\n",
    "                print(f'범주형 변수: {len(cat_features)}개 \\n {cat_features} \\n')\n",
    "\n",
    "                num_features = [col for col in X_train.columns if col not in cat_features + ['임신 성공 여부']]\n",
    "                print(f'수치형 변수: {len(num_features)}개 \\n {num_features} \\n')\n",
    "                is_first = False\n",
    "\n",
    "            weights_sqrt = np.sqrt(compute_class_weight(class_weight='balanced', classes=np.unique(y_train), y=y_train))\n",
    "\n",
    "            # Catboost 모델 초기화\n",
    "            model_cat = CatBoostClassifier(iterations=2000, learning_rate=0.05, random_seed=seed,\n",
    "                                       loss_function='Logloss', eval_metric='Logloss', class_weights=weights_sqrt,\n",
    "                                       cat_features=cat_features, thread_count=-1)\n",
    "\n",
    "            model_cat.fit(X_train, y_train, eval_set=(X_valid, y_valid), early_stopping_rounds=100, verbose=1000)\n",
    "\n",
    "            valid_preds_proba = model_cat.predict_proba(X_valid)[:, 1]\n",
    "            valid_preds_class = model_cat.predict(X_valid)  # 클래스 예측값 (0 또는 1)\n",
    "\n",
    "            # AUC, Accuracy, F1-score 계산\n",
    "            auc_ = roc_auc_score(y_valid, valid_preds_proba)\n",
    "            acc_ = accuracy_score(y_valid, valid_preds_class)\n",
    "            f1_ = f1_score(y_valid, valid_preds_class)\n",
    "\n",
    "            print(f\"Seed[{seed:<3}] Fold {fold + 1} | AUC: {auc_:.7f} | Acc: {acc_:.7f} | F1: {f1_:.7f}\")\n",
    "\n",
    "            auc_scores.append(auc_)\n",
    "            acc_scores.append(acc_)\n",
    "            f1_scores.append(f1_)\n",
    "\n",
    "            total_auc.append(auc_)\n",
    "            total_acc.append(acc_)\n",
    "            total_f1.append(f1_)\n",
    "\n",
    "            test_pred = model_cat.predict_proba(fold_test)[:, 1]\n",
    "            test_preds_cat.append(test_pred)\n",
    "\n",
    "        # fold 별 평균 성능 계산\n",
    "        avg_auc = np.mean(auc_scores)\n",
    "        avg_acc = np.mean(acc_scores)\n",
    "        avg_f1 = np.mean(f1_scores)\n",
    "\n",
    "        print(\"-\" * 80)\n",
    "        print(f\"Seed[{seed:<3}] Average Metrics | AUC: {avg_auc:.7f} | Acc: {avg_acc:.7f} | F1: {avg_f1:.7f}\")\n",
    "        print(\"-\" * 80)\n",
    "\n",
    "val_auc = np.mean(total_auc)\n",
    "val_acc = np.mean(total_acc)\n",
    "val_f1 = np.mean(total_f1)\n",
    "\n",
    "print(\"-\" * 80)\n",
    "print(f\"Validation Average Metrics | AUC: {val_auc:.7f} | Acc: {val_acc:.7f} | F1: {val_f1:.7f}\")"
   ]
  },
  {
   "cell_type": "code",
   "execution_count": 45,
   "id": "30281e23f96eebbb",
   "metadata": {
    "ExecuteTime": {
     "end_time": "2025-04-03T17:13:25.881217Z",
     "start_time": "2025-04-03T17:13:25.857217Z"
    }
   },
   "outputs": [
    {
     "data": {
      "text/html": [
       "<div>\n",
       "<style scoped>\n",
       "    .dataframe tbody tr th:only-of-type {\n",
       "        vertical-align: middle;\n",
       "    }\n",
       "\n",
       "    .dataframe tbody tr th {\n",
       "        vertical-align: top;\n",
       "    }\n",
       "\n",
       "    .dataframe thead th {\n",
       "        text-align: right;\n",
       "    }\n",
       "</style>\n",
       "<table border=\"1\" class=\"dataframe\">\n",
       "  <thead>\n",
       "    <tr style=\"text-align: right;\">\n",
       "      <th></th>\n",
       "      <th>lgbm_333</th>\n",
       "      <th>cat_333</th>\n",
       "    </tr>\n",
       "  </thead>\n",
       "  <tbody>\n",
       "    <tr>\n",
       "      <th>0</th>\n",
       "      <td>0.266456</td>\n",
       "      <td>0.418388</td>\n",
       "    </tr>\n",
       "    <tr>\n",
       "      <th>1</th>\n",
       "      <td>0.382247</td>\n",
       "      <td>0.489500</td>\n",
       "    </tr>\n",
       "    <tr>\n",
       "      <th>2</th>\n",
       "      <td>0.001526</td>\n",
       "      <td>0.003394</td>\n",
       "    </tr>\n",
       "    <tr>\n",
       "      <th>3</th>\n",
       "      <td>0.054471</td>\n",
       "      <td>0.103246</td>\n",
       "    </tr>\n",
       "    <tr>\n",
       "      <th>4</th>\n",
       "      <td>0.356222</td>\n",
       "      <td>0.492160</td>\n",
       "    </tr>\n",
       "    <tr>\n",
       "      <th>...</th>\n",
       "      <td>...</td>\n",
       "      <td>...</td>\n",
       "    </tr>\n",
       "    <tr>\n",
       "      <th>51266</th>\n",
       "      <td>0.428783</td>\n",
       "      <td>0.578867</td>\n",
       "    </tr>\n",
       "    <tr>\n",
       "      <th>51267</th>\n",
       "      <td>0.183462</td>\n",
       "      <td>0.252334</td>\n",
       "    </tr>\n",
       "    <tr>\n",
       "      <th>51268</th>\n",
       "      <td>0.187892</td>\n",
       "      <td>0.287828</td>\n",
       "    </tr>\n",
       "    <tr>\n",
       "      <th>51269</th>\n",
       "      <td>0.276642</td>\n",
       "      <td>0.402948</td>\n",
       "    </tr>\n",
       "    <tr>\n",
       "      <th>51270</th>\n",
       "      <td>0.046301</td>\n",
       "      <td>0.066910</td>\n",
       "    </tr>\n",
       "  </tbody>\n",
       "</table>\n",
       "<p>51271 rows × 2 columns</p>\n",
       "</div>"
      ],
      "text/plain": [
       "       lgbm_333   cat_333\n",
       "0      0.266456  0.418388\n",
       "1      0.382247  0.489500\n",
       "2      0.001526  0.003394\n",
       "3      0.054471  0.103246\n",
       "4      0.356222  0.492160\n",
       "...         ...       ...\n",
       "51266  0.428783  0.578867\n",
       "51267  0.183462  0.252334\n",
       "51268  0.187892  0.287828\n",
       "51269  0.276642  0.402948\n",
       "51270  0.046301  0.066910\n",
       "\n",
       "[51271 rows x 2 columns]"
      ]
     },
     "execution_count": 45,
     "metadata": {},
     "output_type": "execute_result"
    }
   ],
   "source": [
    "tmp_submission[f'cat_{seed_list[0]}'] = np.mean(test_preds_cat, axis=0)\n",
    "tmp_submission"
   ]
  },
  {
   "cell_type": "code",
   "execution_count": 46,
   "id": "5178356c358a5d3d",
   "metadata": {
    "ExecuteTime": {
     "end_time": "2025-04-03T17:13:28.267718Z",
     "start_time": "2025-04-03T17:13:27.300208Z"
    }
   },
   "outputs": [
    {
     "data": {
      "text/plain": [
       "0.742675600131552"
      ]
     },
     "execution_count": 46,
     "metadata": {},
     "output_type": "execute_result"
    }
   ],
   "source": [
    "cat_score = calculate_auc(tmp_submission['cat_333'], data_seed)\n",
    "cat_score"
   ]
  },
  {
   "cell_type": "code",
   "execution_count": 47,
   "id": "2c44cbfce767dd8e",
   "metadata": {
    "ExecuteTime": {
     "end_time": "2025-04-03T17:13:39.938079Z",
     "start_time": "2025-04-03T17:13:39.859569Z"
    }
   },
   "outputs": [],
   "source": [
    "tmp_submission.to_csv(f'lgbm_catboost_{data_seed}.csv', index=False)"
   ]
  },
  {
   "cell_type": "code",
   "execution_count": null,
   "id": "7829f45443be902e",
   "metadata": {},
   "outputs": [],
   "source": [
    "tmp_submission['row_avg'] = tmp_submission.mean(axis=1)\n",
    "tmp_submission"
   ]
  },
  {
   "cell_type": "code",
   "execution_count": null,
   "id": "30d9d3f338efc11",
   "metadata": {},
   "outputs": [],
   "source": [
    "score = calculate_auc(tmp_submission['row_avg'], seed=data_seed)\n",
    "print(f'[seed {data_seed}]: {score}')"
   ]
  }
 ],
 "metadata": {
  "kernelspec": {
   "display_name": "Python 3 (ipykernel)",
   "language": "python",
   "name": "python3"
  },
  "language_info": {
   "codemirror_mode": {
    "name": "ipython",
    "version": 3
   },
   "file_extension": ".py",
   "mimetype": "text/x-python",
   "name": "python",
   "nbconvert_exporter": "python",
   "pygments_lexer": "ipython3",
   "version": "3.10.16"
  }
 },
 "nbformat": 4,
 "nbformat_minor": 5
}
