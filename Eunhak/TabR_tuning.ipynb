{
 "cells": [
  {
   "metadata": {
    "ExecuteTime": {
     "end_time": "2025-04-04T15:22:36.206043Z",
     "start_time": "2025-04-04T15:22:36.191044Z"
    }
   },
   "cell_type": "code",
   "source": [
    "# conda install -c conda-forge faiss-gpu\n",
    "\n",
    "# conda 가상환경 상에서 설치 (로컬로 돌릴때)"
   ],
   "id": "7df326ea119bcc41",
   "outputs": [],
   "execution_count": 1
  },
  {
   "metadata": {
    "ExecuteTime": {
     "end_time": "2025-04-04T15:22:38.835582Z",
     "start_time": "2025-04-04T15:22:36.210043Z"
    }
   },
   "cell_type": "code",
   "source": [
    "import sys\n",
    "import os\n",
    "from pathlib import Path\n",
    "\n",
    "# 현재 작업 디렉토리(Eunhak)에서 tabular_dl_tabr 경로 추가\n",
    "project_path = os.path.join(os.getcwd(), \"tabular_dl_tabr\")\n",
    "if project_path not in sys.path:\n",
    "    sys.path.insert(0, project_path)\n",
    "\n",
    "\n",
    "project_dir = Path(r\"C:\\workspace\\LG_Aimers_6th\\Eunhak\\tabular_dl_tabr\")\n",
    "os.environ['PROJECT_DIR'] = str(project_dir)\n",
    "\n",
    "# 경로가 존재하지 않으면 생성\n",
    "if not project_dir.exists():\n",
    "    project_dir.mkdir(parents=True, exist_ok=True)\n",
    "\n",
    "os.environ[\"CUDA_VISIBLE_DEVICES\"] = \"0\"\n",
    "\n",
    "import pandas as pd\n",
    "import numpy as np\n",
    "import random\n",
    "import math\n",
    "import optuna\n",
    "from sklearn.model_selection import StratifiedKFold\n",
    "from sklearn.metrics import roc_auc_score\n",
    "\n",
    "import delu\n",
    "import torch\n",
    "import torch.nn as nn\n",
    "import torch.optim as optim\n",
    "device = torch.device(\"cuda\" if torch.cuda.is_available() else \"cpu\")\n",
    "\n",
    "from bin.tabr import Model\n",
    "from LG_Aimers_6th.cal_auc import calculate_auc"
   ],
   "id": "2910d27905e82153",
   "outputs": [],
   "execution_count": 2
  },
  {
   "metadata": {
    "ExecuteTime": {
     "end_time": "2025-04-04T15:22:39.865669Z",
     "start_time": "2025-04-04T15:22:38.979582Z"
    }
   },
   "cell_type": "code",
   "source": [
    "data_seed = 1\n",
    "\n",
    "train_path = f'../data/custom_train_{data_seed}.csv'\n",
    "test_path = f'../data/custom_test_{data_seed}.csv'\n",
    "\n",
    "# 학습/평가 데이터 로드\n",
    "train = pd.read_csv(train_path).drop(columns=['ID'])\n",
    "test = pd.read_csv(test_path).drop(columns=['ID']) # test에는 target이 없음\n",
    "\n",
    "print(train.shape, test.shape)"
   ],
   "id": "187601e65a5eece5",
   "outputs": [
    {
     "name": "stdout",
     "output_type": "stream",
     "text": [
      "(205080, 68) (51271, 67)\n"
     ]
    }
   ],
   "execution_count": 3
  },
  {
   "metadata": {
    "ExecuteTime": {
     "end_time": "2025-04-04T15:22:44.522329Z",
     "start_time": "2025-04-04T15:22:39.882666Z"
    }
   },
   "cell_type": "code",
   "source": [
    "from preprocess_DL import all_process\n",
    "\n",
    "train = pd.read_csv(train_path).drop(columns=['ID'])\n",
    "test = pd.read_csv(test_path).drop(columns=['ID'])\n",
    "\n",
    "train, test = all_process(train, test)\n",
    "\n",
    "print(train.shape, test.shape)"
   ],
   "id": "2137a6bb27553804",
   "outputs": [
    {
     "name": "stdout",
     "output_type": "stream",
     "text": [
      "(205080, 66) (51271, 65)\n"
     ]
    }
   ],
   "execution_count": 4
  },
  {
   "metadata": {
    "ExecuteTime": {
     "end_time": "2025-04-04T15:22:44.602003Z",
     "start_time": "2025-04-04T15:22:44.539002Z"
    }
   },
   "cell_type": "code",
   "source": [
    "def get_cols(df_train, target_col='임신 성공 여부'):\n",
    "    cat_cols = [col for col in df_train.columns if pd.api.types.is_categorical_dtype(df_train[col])]\n",
    "    numeric_cols = [col for col in df_train.columns if col not in cat_cols and col != '임신 성공 여부']\n",
    "\n",
    "    num_cols = []\n",
    "    bin_cols = []\n",
    "    for col in numeric_cols:\n",
    "        if df_train[col].nunique() == 2:\n",
    "            bin_cols.append(col)\n",
    "        else:\n",
    "            num_cols.append(col)\n",
    "\n",
    "    return num_cols, bin_cols, cat_cols\n",
    "\n",
    "num_cols, bin_cols, cat_cols = get_cols(train)\n",
    "cat_cardinalities = [train[col].nunique() for col in cat_cols]\n",
    "\n",
    "print(f'수치형 변수: {len(num_cols)}개 \\n{num_cols}')\n",
    "print(f'이진형 변수: {len(bin_cols)}개 \\n{bin_cols}')\n",
    "print(f'범주형 변수: {len(cat_cols)}개 \\n{cat_cols}')"
   ],
   "id": "9c7d1b151ba2232f",
   "outputs": [
    {
     "name": "stdout",
     "output_type": "stream",
     "text": [
      "수치형 변수: 32개 \n",
      "['임신 시도 또는 마지막 임신 경과 연수', '클리닉 내 총 시술 횟수', 'IVF 시술 횟수', 'DI 시술 횟수', '총 임신 횟수', 'IVF 임신 횟수', 'DI 임신 횟수', '총 출산 횟수', 'IVF 출산 횟수', 'DI 출산 횟수', '총 생성 배아 수', '미세주입된 난자 수', '미세주입에서 생성된 배아 수', '이식된 배아 수', '미세주입 배아 이식 수', '저장된 배아 수', '미세주입 후 저장된 배아 수', '해동된 배아 수', '해동 난자 수', '수집된 신선 난자 수', '저장된 신선 난자 수', '혼합된 난자 수', '파트너 정자와 혼합된 난자 수', '기증자 정자와 혼합된 난자 수', '난자 혼합 경과일', '배아 이식 경과일', '배아 해동 경과일', '시술_임신', '배아생성이유_기증용', '배아생성이유_난자 저장용', '배아생성이유_배아 저장용', '배아생성이유_현재 시술용']\n",
      "이진형 변수: 25개 \n",
      "['배란 자극 여부', '단일 배아 이식 여부', '착상 전 유전 검사 사용 여부', '착상 전 유전 진단 사용 여부', '남성 주 불임 원인', '남성 부 불임 원인', '여성 주 불임 원인', '여성 부 불임 원인', '부부 주 불임 원인', '부부 부 불임 원인', '불명확 불임 원인', '불임 원인 - 난관 질환', '불임 원인 - 남성 요인', '불임 원인 - 배란 장애', '불임 원인 - 자궁경부 문제', '불임 원인 - 자궁내막증', '불임 원인 - 정자 농도', '불임 원인 - 정자 운동성', '불임 원인 - 정자 형태', '동결 배아 사용 여부', '신선 배아 사용 여부', '기증 배아 사용 여부', '대리모 여부', 'PGD 시술 여부', 'PGS 시술 여부']\n",
      "범주형 변수: 8개 \n",
      "['시술 시기 코드', '시술 당시 나이', '배란 유도 유형', '난자 출처', '정자 출처', '난자 기증자 나이', '정자 기증자 나이', '시술유형_통합']\n"
     ]
    }
   ],
   "execution_count": 5
  },
  {
   "metadata": {
    "ExecuteTime": {
     "end_time": "2025-04-04T15:22:44.633580Z",
     "start_time": "2025-04-04T15:22:44.619582Z"
    }
   },
   "cell_type": "code",
   "source": [
    "def build_dataset_from_dfs(train_df, valid_df, test_df, num_cols, bin_cols, cat_cols, target_col='임신 성공 여부'):\n",
    "    data = {}\n",
    "    data['X_num'] = {\n",
    "        'train': torch.tensor(train_df[num_cols].values, dtype=torch.float32),\n",
    "        'val':   torch.tensor(valid_df[num_cols].values, dtype=torch.float32),\n",
    "        'test':  torch.tensor(test_df[num_cols].values, dtype=torch.float32),\n",
    "    }\n",
    "    data['X_bin'] = {\n",
    "        'train': torch.tensor(train_df[bin_cols].values, dtype=torch.float32),\n",
    "        'val':   torch.tensor(valid_df[bin_cols].values, dtype=torch.float32),\n",
    "        'test':  torch.tensor(test_df[bin_cols].values, dtype=torch.float32),\n",
    "    }\n",
    "    if cat_cols:\n",
    "        data['X_cat'] = {\n",
    "            'train': torch.tensor(train_df[cat_cols].values, dtype=torch.long),\n",
    "            'val':   torch.tensor(valid_df[cat_cols].values, dtype=torch.long),\n",
    "            'test':  torch.tensor(test_df[cat_cols].values, dtype=torch.long),\n",
    "        }\n",
    "    else:\n",
    "        data['X_cat'] = None\n",
    "    data['Y'] = {\n",
    "        'train': torch.tensor(train_df[target_col].values, dtype=torch.long),\n",
    "        'val':   torch.tensor(valid_df[target_col].values, dtype=torch.long),\n",
    "        # test 데이터에는 타깃이 없을 수 있습니다.\n",
    "    }\n",
    "    return data\n",
    "\n",
    "def move_data_to_device(data, device):\n",
    "    # data는 dict 형식: 예) {'X_num': {'train': tensor, 'val': tensor, ...}, ...}\n",
    "    for key in data:\n",
    "        if data[key] is None:\n",
    "            continue\n",
    "        if isinstance(data[key], dict):\n",
    "            for part in data[key]:\n",
    "                data[key][part] = data[key][part].to(device)\n",
    "        else:\n",
    "            data[key] = data[key].to(device)\n",
    "    return data\n",
    "\n",
    "\n",
    "class MyDataset:\n",
    "    def __init__(self, data, n_num_features, n_bin_features, cat_cardinalities, is_regression=False, is_multiclass=True):\n",
    "        self.data = data\n",
    "        self._n_num_features = n_num_features\n",
    "        self._n_bin_features = n_bin_features\n",
    "        self._cat_cardinalities = cat_cardinalities\n",
    "        self.is_regression = is_regression\n",
    "        self.is_multiclass = is_multiclass\n",
    "\n",
    "    @property\n",
    "    def n_num_features(self):\n",
    "        return self._n_num_features\n",
    "\n",
    "    @property\n",
    "    def n_bin_features(self):\n",
    "        return self._n_bin_features\n",
    "\n",
    "    def cat_cardinalities(self):\n",
    "        return self._cat_cardinalities\n",
    "\n",
    "    @property\n",
    "    def Y(self):\n",
    "        return self.data['Y']\n",
    "\n",
    "    def size(self, part: str) -> int:\n",
    "        # target이 있는 경우 사용\n",
    "        if part in self.data['Y']:\n",
    "            return self.data['Y'][part].shape[0]\n",
    "        else:\n",
    "            return self.data['X_num'][part].shape[0]"
   ],
   "id": "513110eea28cb45d",
   "outputs": [],
   "execution_count": 6
  },
  {
   "metadata": {
    "ExecuteTime": {
     "end_time": "2025-04-04T15:22:45.552131Z",
     "start_time": "2025-04-04T15:22:44.650580Z"
    }
   },
   "cell_type": "code",
   "source": [
    "model = Model(\n",
    "    n_num_features=len(num_cols),\n",
    "    n_bin_features=len(bin_cols),\n",
    "    cat_cardinalities=cat_cardinalities,\n",
    "    n_classes=2,\n",
    "    num_embeddings=None,      # 임베딩 사용하지 않을 경우 None\n",
    "    d_main=64,\n",
    "    d_multiplier=2.0,\n",
    "    encoder_n_blocks=2,\n",
    "    predictor_n_blocks=2,\n",
    "    mixer_normalization=True,\n",
    "    context_dropout=0.1,\n",
    "    dropout0=0.1,\n",
    "    dropout1='dropout0',      # 'dropout0' 문자열을 지정하면 내부에서 dropout0 값이 사용됩니다.\n",
    "    normalization=\"BatchNorm1d\",\n",
    "    activation=\"ReLU\",\n",
    "    memory_efficient=False,\n",
    "    candidate_encoding_batch_size=None,\n",
    ").to(device)\n",
    "\n",
    "optimizer = optim.Adam(model.parameters(), lr=0.001)\n",
    "criterion = nn.BCEWithLogitsLoss()"
   ],
   "id": "421c452120c78e2c",
   "outputs": [],
   "execution_count": 7
  },
  {
   "metadata": {
    "ExecuteTime": {
     "end_time": "2025-04-04T19:10:15.580157Z",
     "start_time": "2025-04-04T15:22:45.583130Z"
    }
   },
   "cell_type": "code",
   "source": [
    "seed = 333\n",
    "\n",
    "def objective(trial):\n",
    "    ### 하이퍼파라미터 탐색 공간 설정 ###\n",
    "\n",
    "    d_main = trial.suggest_int(\"d_main\", 32, 128, step=32)\n",
    "    d_multiplier = trial.suggest_float(\"d_multiplier\", 1.0, 3.0, step=0.5)\n",
    "    encoder_n_blocks = trial.suggest_int(\"encoder_n_blocks\", 1, 3)\n",
    "    predictor_n_blocks = trial.suggest_int(\"predictor_n_blocks\", 1, 3)\n",
    "    dropout0 = trial.suggest_float(\"dropout0\", 0.0, 0.5, step=0.1)\n",
    "    context_size = trial.suggest_int(\"context_size\", 2, 64)\n",
    "    context_dropout = trial.suggest_float(\"context_dropout\", 0.0, 0.5, step=0.1)\n",
    "    learning_rate = trial.suggest_loguniform(\"lr\", 0.0005, 0.005)\n",
    "\n",
    "    #####################################\n",
    "\n",
    "    def get_Xy(part: str, idx: torch.Tensor = None) -> tuple[dict, torch.Tensor]:\n",
    "        batch = (\n",
    "            { key[2:]: dataset.data[key][part] for key in dataset.data if key.startswith('X_') },\n",
    "            dataset.data['Y'][part] if 'Y' in dataset.data and part in dataset.data['Y'] else None\n",
    "        )\n",
    "        if idx is None:\n",
    "            return batch\n",
    "        else:\n",
    "            return (\n",
    "                {k: v[idx] for k, v in batch[0].items()},\n",
    "                batch[1][idx] if batch[1] is not None else None\n",
    "            )\n",
    "\n",
    "    def apply_model(part: str, idx: torch.Tensor, is_train: bool) -> torch.Tensor:\n",
    "        x, y = get_Xy(part, idx)\n",
    "        candidate_indices = train_indices\n",
    "        if is_train:\n",
    "            # training part: 후보에서 현재 배치 제거\n",
    "            candidate_indices = candidate_indices[~torch.isin(candidate_indices, idx)]\n",
    "        # 후보 데이터: 조건에 따라 전체 train 또는 선택된 인덱스 사용\n",
    "        candidate_x, candidate_y = get_Xy('train', None if candidate_indices.equal(train_indices) else candidate_indices)\n",
    "        return model(\n",
    "            x_=x,\n",
    "            y=y if is_train else None,\n",
    "            candidate_x_=candidate_x,\n",
    "            candidate_y=candidate_y,\n",
    "            context_size=context_size,\n",
    "            is_train=is_train,\n",
    "        ).squeeze(-1)\n",
    "\n",
    "\n",
    "    valid_aucs = []\n",
    "    test_aucs = []\n",
    "\n",
    "    data_seeds = [1, 7]\n",
    "    for data_seed in data_seeds:\n",
    "        valid_scores = []\n",
    "        test_preds = []\n",
    "\n",
    "        torch.manual_seed(333)\n",
    "        delu.random.seed(seed)\n",
    "        np.random.seed(333)\n",
    "        random.seed(333)\n",
    "\n",
    "        train_path = f'../data/custom_train_{data_seed}.csv'\n",
    "        test_path = f'../data/custom_test_{data_seed}.csv'\n",
    "\n",
    "        train = pd.read_csv(train_path).drop(columns=['ID'])\n",
    "        test = pd.read_csv(test_path).drop(columns=['ID'])\n",
    "\n",
    "        skf = StratifiedKFold(n_splits=5, shuffle=True, random_state=seed)\n",
    "        for fold, (train_idx, valid_idx) in enumerate(skf.split(train, train['임신 성공 여부'])):\n",
    "            fold_train = train.iloc[train_idx].copy().reset_index(drop=True)\n",
    "            fold_valid = train.iloc[valid_idx].copy().reset_index(drop=True)\n",
    "            fold_train2 = fold_train.copy()\n",
    "            fold_test = test.copy()\n",
    "\n",
    "            fold_train, fold_valid = all_process(fold_train, fold_valid)\n",
    "            _, fold_test = all_process(fold_train2, fold_test)\n",
    "\n",
    "            num_cols, bin_cols, cat_cols = get_cols(fold_train)\n",
    "            cat_cardinalities = [fold_train[col].nunique() for col in cat_cols]\n",
    "\n",
    "            data_dict = build_dataset_from_dfs(\n",
    "                fold_train, fold_valid, fold_test,\n",
    "                num_cols, bin_cols, cat_cols, target_col='임신 성공 여부'\n",
    "            )\n",
    "            data_dict = move_data_to_device(data_dict, device)\n",
    "            dataset = MyDataset(data_dict, n_num_features=len(num_cols), n_bin_features=len(bin_cols), cat_cardinalities=cat_cardinalities)\n",
    "\n",
    "            train_size = dataset.size('train')\n",
    "            train_indices = torch.arange(train_size, device=device)\n",
    "\n",
    "            model = Model(\n",
    "                n_num_features=len(num_cols),\n",
    "                n_bin_features=len(bin_cols),\n",
    "                cat_cardinalities=cat_cardinalities,\n",
    "                n_classes=2,\n",
    "                num_embeddings=None,      # 임베딩 사용하지 않을 경우 None\n",
    "                d_main=d_main,\n",
    "                d_multiplier=d_multiplier,\n",
    "                encoder_n_blocks=encoder_n_blocks,\n",
    "                predictor_n_blocks=predictor_n_blocks,\n",
    "                mixer_normalization=True,\n",
    "                context_dropout=context_dropout,\n",
    "                dropout0=dropout0,\n",
    "                dropout1='dropout0',      # 'dropout0' 문자열을 지정하면 내부에서 dropout0 값이 사용됩니다.\n",
    "                normalization=\"BatchNorm1d\",\n",
    "                activation=\"ReLU\",\n",
    "                memory_efficient=False,\n",
    "                candidate_encoding_batch_size=None,\n",
    "            ).to(device)\n",
    "\n",
    "            optimizer = optim.Adam(model.parameters(), lr=learning_rate)\n",
    "            criterion = nn.BCEWithLogitsLoss()\n",
    "\n",
    "            num_epochs = 100000\n",
    "            batch_size = 2048\n",
    "\n",
    "            patience = 10\n",
    "            best_val_loss = float('inf')\n",
    "            early_stop_counter = 0\n",
    "\n",
    "            checkpoint_path = \"best_model_TabR.pth\"\n",
    "\n",
    "            for epoch in range(num_epochs):\n",
    "                model.train()\n",
    "                # 학습 데이터 인덱스 섞기\n",
    "                shuffled_indices = train_indices[torch.randperm(train_size)]\n",
    "                num_batches = math.ceil(train_size / batch_size)\n",
    "                epoch_loss = 0.0\n",
    "                for i in range(num_batches):\n",
    "                    idx = shuffled_indices[i * batch_size : (i + 1) * batch_size]\n",
    "                    outputs = apply_model('train', idx, is_train=True)\n",
    "\n",
    "                    # 해당 인덱스의 타깃\n",
    "                    _, y_batch = get_Xy('train', idx)\n",
    "\n",
    "                    y_batch = y_batch.float()\n",
    "                    loss = criterion(outputs.squeeze(), y_batch.squeeze()) # squeeze해서 shape 맞추기 (예: (batch_size,))\n",
    "\n",
    "                    optimizer.zero_grad()\n",
    "                    loss.backward()\n",
    "                    optimizer.step()\n",
    "                    epoch_loss += loss.item() * idx.numel()\n",
    "\n",
    "                avg_loss = epoch_loss / train_size\n",
    "\n",
    "                model.eval()\n",
    "                with torch.no_grad():\n",
    "                    val_indices = torch.arange(dataset.size('val'), device=device)\n",
    "                    outputs_val = apply_model('val', val_indices, is_train=False)\n",
    "                    _, y_val = get_Xy('val', val_indices)\n",
    "\n",
    "                    val_loss = criterion(outputs_val.squeeze(), y_val.float().squeeze()).item() # validation loss 계산\n",
    "\n",
    "                    outputs_val = torch.sigmoid(outputs_val)\n",
    "                    outputs_val_np = outputs_val.detach().cpu().numpy().squeeze()\n",
    "                    y_val_np = y_val.detach().cpu().numpy().squeeze()\n",
    "\n",
    "                    val_auc = roc_auc_score(y_val_np, outputs_val_np)\n",
    "\n",
    "                # print(f\"[Epoch {epoch+1}] Train Loss: {avg_loss:.4f}, Valid Loss: {val_loss:.4f}, Valid AUC: {val_auc:.6f}\")\n",
    "\n",
    "                if val_loss < best_val_loss:\n",
    "                    best_val_loss = val_loss\n",
    "                    early_stop_counter = 0\n",
    "                    best = {'epoch': epoch+1, 'val_loss': val_loss, 'val_auc': val_auc}\n",
    "                    torch.save(model.state_dict(), checkpoint_path)\n",
    "                else:\n",
    "                    early_stop_counter += 1\n",
    "                    if early_stop_counter >= patience:\n",
    "                        break\n",
    "\n",
    "            model.load_state_dict(torch.load(checkpoint_path))\n",
    "            # print(f'\\n[Fold{fold+1} Result]')\n",
    "            # print(best)\n",
    "\n",
    "\n",
    "            model.eval()\n",
    "            with torch.no_grad():\n",
    "                test_indices = torch.arange(dataset.size('test'), device=device)\n",
    "\n",
    "                outputs_val = torch.sigmoid(apply_model('val', val_indices, is_train=False))\n",
    "                outputs_val_np = outputs_val.detach().cpu().numpy().squeeze()\n",
    "                _, y_val = get_Xy('val', val_indices)\n",
    "                y_val_np = y_val.detach().cpu().numpy().squeeze()\n",
    "\n",
    "                valid_score = roc_auc_score(y_val_np, outputs_val_np)\n",
    "                valid_scores.append(valid_score)\n",
    "\n",
    "                y_pred_test = torch.sigmoid(apply_model('test', test_indices, is_train=False))\n",
    "                y_pred_test_np = y_pred_test.detach().cpu().numpy().squeeze()\n",
    "                test_preds.append(y_pred_test_np)\n",
    "                test_auc_fold = calculate_auc(y_pred_test_np, seed=data_seed)\n",
    "                # print(f'[Data Seed {data_seed} Fold {fold+1}] Valid AUC: {valid_score:.5f}, Test AUC: {test_auc_fold:.5f}')\n",
    "\n",
    "            torch.cuda.empty_cache()\n",
    "\n",
    "        valid_auc = np.mean(valid_scores, axis=0)\n",
    "        valid_aucs.append(valid_auc)\n",
    "        test_auc = calculate_auc(np.mean(test_preds, axis=0), data_seed)\n",
    "        test_aucs.append(test_auc)\n",
    "\n",
    "        print('-' * 60)\n",
    "        print(f'[Data Seed {data_seed}] AVG Valid AUC: {valid_auc:.5f}, Test AUC: {test_auc}')\n",
    "\n",
    "    avg_valid_auc = np.mean(valid_aucs)\n",
    "    avg_test_auc = np.mean(test_aucs)\n",
    "\n",
    "    print('-' * 60)\n",
    "    print(f'[Data Seed 1,7] AVG Valid AUC: {avg_valid_auc:.5f}, Test AUC: {avg_test_auc}')\n",
    "    print('-' * 60)\n",
    "\n",
    "    return avg_test_auc\n",
    "\n",
    "# Optuna 스터디 생성 (최대화 방향)\n",
    "study = optuna.create_study(direction=\"maximize\")\n",
    "study.optimize(objective, n_trials=15)\n",
    "\n",
    "print(\"Best trial:\")\n",
    "trial = study.best_trial\n",
    "print(\"  Value: \", trial.value)\n",
    "print(\"  Params: \")\n",
    "for key, value in trial.params.items():\n",
    "    print(f\"    {key}: {value}\")"
   ],
   "id": "b7ba4bd901904e28",
   "outputs": [
    {
     "name": "stderr",
     "output_type": "stream",
     "text": [
      "[I 2025-04-05 00:22:45,599] A new study created in memory with name: no-name-e30fa8aa-c801-426b-b794-f1853ce958d7\n"
     ]
    },
    {
     "name": "stdout",
     "output_type": "stream",
     "text": [
      "------------------------------------------------------------\n",
      "[Data Seed 1] AVG Valid AUC: 0.73777, Test AUC: 0.7383068993425677\n"
     ]
    },
    {
     "name": "stderr",
     "output_type": "stream",
     "text": [
      "[I 2025-04-05 00:34:47,106] Trial 0 finished with value: 0.7397483239081865 and parameters: {'d_main': 32, 'd_multiplier': 1.0, 'encoder_n_blocks': 3, 'predictor_n_blocks': 1, 'dropout0': 0.5, 'context_size': 20, 'context_dropout': 0.4, 'lr': 0.001418461702327184}. Best is trial 0 with value: 0.7397483239081865.\n"
     ]
    },
    {
     "name": "stdout",
     "output_type": "stream",
     "text": [
      "------------------------------------------------------------\n",
      "[Data Seed 7] AVG Valid AUC: 0.73749, Test AUC: 0.7411897484738053\n",
      "------------------------------------------------------------\n",
      "[Data Seed 1,7] AVG Valid AUC: 0.73763, Test AUC: 0.7397483239081865\n",
      "------------------------------------------------------------\n",
      "------------------------------------------------------------\n",
      "[Data Seed 1] AVG Valid AUC: 0.73681, Test AUC: 0.7389580489881307\n"
     ]
    },
    {
     "name": "stderr",
     "output_type": "stream",
     "text": [
      "[I 2025-04-05 00:52:00,072] Trial 1 finished with value: 0.7402275878403941 and parameters: {'d_main': 96, 'd_multiplier': 3.0, 'encoder_n_blocks': 2, 'predictor_n_blocks': 3, 'dropout0': 0.1, 'context_size': 38, 'context_dropout': 0.0, 'lr': 0.0010248397008699877}. Best is trial 1 with value: 0.7402275878403941.\n"
     ]
    },
    {
     "name": "stdout",
     "output_type": "stream",
     "text": [
      "------------------------------------------------------------\n",
      "[Data Seed 7] AVG Valid AUC: 0.73670, Test AUC: 0.7414971266926574\n",
      "------------------------------------------------------------\n",
      "[Data Seed 1,7] AVG Valid AUC: 0.73676, Test AUC: 0.7402275878403941\n",
      "------------------------------------------------------------\n",
      "------------------------------------------------------------\n",
      "[Data Seed 1] AVG Valid AUC: 0.73812, Test AUC: 0.7392693940179974\n"
     ]
    },
    {
     "name": "stderr",
     "output_type": "stream",
     "text": [
      "[I 2025-04-05 01:06:58,387] Trial 2 finished with value: 0.7404390473578268 and parameters: {'d_main': 32, 'd_multiplier': 2.5, 'encoder_n_blocks': 3, 'predictor_n_blocks': 3, 'dropout0': 0.30000000000000004, 'context_size': 22, 'context_dropout': 0.5, 'lr': 0.0011178178101746493}. Best is trial 2 with value: 0.7404390473578268.\n"
     ]
    },
    {
     "name": "stdout",
     "output_type": "stream",
     "text": [
      "------------------------------------------------------------\n",
      "[Data Seed 7] AVG Valid AUC: 0.73783, Test AUC: 0.7416087006976564\n",
      "------------------------------------------------------------\n",
      "[Data Seed 1,7] AVG Valid AUC: 0.73797, Test AUC: 0.7404390473578268\n",
      "------------------------------------------------------------\n",
      "------------------------------------------------------------\n",
      "[Data Seed 1] AVG Valid AUC: 0.73455, Test AUC: 0.7384992529470398\n"
     ]
    },
    {
     "name": "stderr",
     "output_type": "stream",
     "text": [
      "[I 2025-04-05 01:14:28,775] Trial 3 finished with value: 0.7399361170697656 and parameters: {'d_main': 64, 'd_multiplier': 2.0, 'encoder_n_blocks': 2, 'predictor_n_blocks': 3, 'dropout0': 0.0, 'context_size': 51, 'context_dropout': 0.1, 'lr': 0.001234742780210966}. Best is trial 2 with value: 0.7404390473578268.\n"
     ]
    },
    {
     "name": "stdout",
     "output_type": "stream",
     "text": [
      "------------------------------------------------------------\n",
      "[Data Seed 7] AVG Valid AUC: 0.73360, Test AUC: 0.7413729811924914\n",
      "------------------------------------------------------------\n",
      "[Data Seed 1,7] AVG Valid AUC: 0.73407, Test AUC: 0.7399361170697656\n",
      "------------------------------------------------------------\n",
      "------------------------------------------------------------\n",
      "[Data Seed 1] AVG Valid AUC: 0.73790, Test AUC: 0.7388552335350789\n"
     ]
    },
    {
     "name": "stderr",
     "output_type": "stream",
     "text": [
      "[I 2025-04-05 01:33:30,058] Trial 4 finished with value: 0.7402394321861447 and parameters: {'d_main': 128, 'd_multiplier': 2.5, 'encoder_n_blocks': 1, 'predictor_n_blocks': 3, 'dropout0': 0.1, 'context_size': 48, 'context_dropout': 0.4, 'lr': 0.0034400923394324184}. Best is trial 2 with value: 0.7404390473578268.\n"
     ]
    },
    {
     "name": "stdout",
     "output_type": "stream",
     "text": [
      "------------------------------------------------------------\n",
      "[Data Seed 7] AVG Valid AUC: 0.73782, Test AUC: 0.7416236308372106\n",
      "------------------------------------------------------------\n",
      "[Data Seed 1,7] AVG Valid AUC: 0.73786, Test AUC: 0.7402394321861447\n",
      "------------------------------------------------------------\n",
      "------------------------------------------------------------\n",
      "[Data Seed 1] AVG Valid AUC: 0.73807, Test AUC: 0.7392034859890468\n"
     ]
    },
    {
     "name": "stderr",
     "output_type": "stream",
     "text": [
      "[I 2025-04-05 01:50:25,317] Trial 5 finished with value: 0.7404343806965208 and parameters: {'d_main': 64, 'd_multiplier': 3.0, 'encoder_n_blocks': 1, 'predictor_n_blocks': 2, 'dropout0': 0.5, 'context_size': 33, 'context_dropout': 0.5, 'lr': 0.0010167179099870242}. Best is trial 2 with value: 0.7404390473578268.\n"
     ]
    },
    {
     "name": "stdout",
     "output_type": "stream",
     "text": [
      "------------------------------------------------------------\n",
      "[Data Seed 7] AVG Valid AUC: 0.73797, Test AUC: 0.7416652754039949\n",
      "------------------------------------------------------------\n",
      "[Data Seed 1,7] AVG Valid AUC: 0.73802, Test AUC: 0.7404343806965208\n",
      "------------------------------------------------------------\n",
      "------------------------------------------------------------\n",
      "[Data Seed 1] AVG Valid AUC: 0.73805, Test AUC: 0.7391202792492007\n"
     ]
    },
    {
     "name": "stderr",
     "output_type": "stream",
     "text": [
      "[I 2025-04-05 02:02:05,159] Trial 6 finished with value: 0.7401480952705706 and parameters: {'d_main': 64, 'd_multiplier': 1.5, 'encoder_n_blocks': 3, 'predictor_n_blocks': 3, 'dropout0': 0.2, 'context_size': 2, 'context_dropout': 0.4, 'lr': 0.0019861925369394776}. Best is trial 2 with value: 0.7404390473578268.\n"
     ]
    },
    {
     "name": "stdout",
     "output_type": "stream",
     "text": [
      "------------------------------------------------------------\n",
      "[Data Seed 7] AVG Valid AUC: 0.73786, Test AUC: 0.7411759112919405\n",
      "------------------------------------------------------------\n",
      "[Data Seed 1,7] AVG Valid AUC: 0.73795, Test AUC: 0.7401480952705706\n",
      "------------------------------------------------------------\n",
      "------------------------------------------------------------\n",
      "[Data Seed 1] AVG Valid AUC: 0.73775, Test AUC: 0.7391281284921165\n"
     ]
    },
    {
     "name": "stderr",
     "output_type": "stream",
     "text": [
      "[I 2025-04-05 02:14:34,632] Trial 7 finished with value: 0.7402020189837122 and parameters: {'d_main': 32, 'd_multiplier': 1.5, 'encoder_n_blocks': 3, 'predictor_n_blocks': 2, 'dropout0': 0.1, 'context_size': 50, 'context_dropout': 0.30000000000000004, 'lr': 0.0005372968930447915}. Best is trial 2 with value: 0.7404390473578268.\n"
     ]
    },
    {
     "name": "stdout",
     "output_type": "stream",
     "text": [
      "------------------------------------------------------------\n",
      "[Data Seed 7] AVG Valid AUC: 0.73776, Test AUC: 0.7412759094753079\n",
      "------------------------------------------------------------\n",
      "[Data Seed 1,7] AVG Valid AUC: 0.73775, Test AUC: 0.7402020189837122\n",
      "------------------------------------------------------------\n",
      "------------------------------------------------------------\n",
      "[Data Seed 1] AVG Valid AUC: 0.73778, Test AUC: 0.7392376773983993\n"
     ]
    },
    {
     "name": "stderr",
     "output_type": "stream",
     "text": [
      "[I 2025-04-05 02:34:40,648] Trial 8 finished with value: 0.7400559929868051 and parameters: {'d_main': 96, 'd_multiplier': 1.0, 'encoder_n_blocks': 3, 'predictor_n_blocks': 3, 'dropout0': 0.4, 'context_size': 30, 'context_dropout': 0.5, 'lr': 0.0021957489584357387}. Best is trial 2 with value: 0.7404390473578268.\n"
     ]
    },
    {
     "name": "stdout",
     "output_type": "stream",
     "text": [
      "------------------------------------------------------------\n",
      "[Data Seed 7] AVG Valid AUC: 0.73771, Test AUC: 0.740874308575211\n",
      "------------------------------------------------------------\n",
      "[Data Seed 1,7] AVG Valid AUC: 0.73774, Test AUC: 0.7400559929868051\n",
      "------------------------------------------------------------\n",
      "------------------------------------------------------------\n",
      "[Data Seed 1] AVG Valid AUC: 0.73819, Test AUC: 0.7388081619022746\n"
     ]
    },
    {
     "name": "stderr",
     "output_type": "stream",
     "text": [
      "[I 2025-04-05 02:49:27,137] Trial 9 finished with value: 0.7399843541270272 and parameters: {'d_main': 32, 'd_multiplier': 3.0, 'encoder_n_blocks': 2, 'predictor_n_blocks': 3, 'dropout0': 0.5, 'context_size': 63, 'context_dropout': 0.2, 'lr': 0.00199818404880689}. Best is trial 2 with value: 0.7404390473578268.\n"
     ]
    },
    {
     "name": "stdout",
     "output_type": "stream",
     "text": [
      "------------------------------------------------------------\n",
      "[Data Seed 7] AVG Valid AUC: 0.73773, Test AUC: 0.7411605463517797\n",
      "------------------------------------------------------------\n",
      "[Data Seed 1,7] AVG Valid AUC: 0.73796, Test AUC: 0.7399843541270272\n",
      "------------------------------------------------------------\n",
      "------------------------------------------------------------\n",
      "[Data Seed 1] AVG Valid AUC: 0.73787, Test AUC: 0.7391122711750129\n"
     ]
    },
    {
     "name": "stderr",
     "output_type": "stream",
     "text": [
      "[I 2025-04-05 03:16:02,242] Trial 10 finished with value: 0.7402855632400109 and parameters: {'d_main': 128, 'd_multiplier': 2.5, 'encoder_n_blocks': 3, 'predictor_n_blocks': 1, 'dropout0': 0.30000000000000004, 'context_size': 11, 'context_dropout': 0.2, 'lr': 0.0006912294853626268}. Best is trial 2 with value: 0.7404390473578268.\n"
     ]
    },
    {
     "name": "stdout",
     "output_type": "stream",
     "text": [
      "------------------------------------------------------------\n",
      "[Data Seed 7] AVG Valid AUC: 0.73733, Test AUC: 0.7414588553050091\n",
      "------------------------------------------------------------\n",
      "[Data Seed 1,7] AVG Valid AUC: 0.73760, Test AUC: 0.7402855632400109\n",
      "------------------------------------------------------------\n",
      "------------------------------------------------------------\n",
      "[Data Seed 1] AVG Valid AUC: 0.73813, Test AUC: 0.7396885666202382\n"
     ]
    },
    {
     "name": "stderr",
     "output_type": "stream",
     "text": [
      "[I 2025-04-05 03:28:52,315] Trial 11 finished with value: 0.7406747554469943 and parameters: {'d_main': 64, 'd_multiplier': 2.5, 'encoder_n_blocks': 1, 'predictor_n_blocks': 2, 'dropout0': 0.30000000000000004, 'context_size': 27, 'context_dropout': 0.5, 'lr': 0.0008164459208988672}. Best is trial 11 with value: 0.7406747554469943.\n"
     ]
    },
    {
     "name": "stdout",
     "output_type": "stream",
     "text": [
      "------------------------------------------------------------\n",
      "[Data Seed 7] AVG Valid AUC: 0.73806, Test AUC: 0.7416609442737505\n",
      "------------------------------------------------------------\n",
      "[Data Seed 1,7] AVG Valid AUC: 0.73810, Test AUC: 0.7406747554469943\n",
      "------------------------------------------------------------\n",
      "------------------------------------------------------------\n",
      "[Data Seed 1] AVG Valid AUC: 0.73819, Test AUC: 0.7390463293944171\n"
     ]
    },
    {
     "name": "stderr",
     "output_type": "stream",
     "text": [
      "[I 2025-04-05 03:39:50,477] Trial 12 finished with value: 0.740211947427246 and parameters: {'d_main': 32, 'd_multiplier': 2.5, 'encoder_n_blocks': 1, 'predictor_n_blocks': 2, 'dropout0': 0.30000000000000004, 'context_size': 21, 'context_dropout': 0.5, 'lr': 0.0007622229972467769}. Best is trial 11 with value: 0.7406747554469943.\n"
     ]
    },
    {
     "name": "stdout",
     "output_type": "stream",
     "text": [
      "------------------------------------------------------------\n",
      "[Data Seed 7] AVG Valid AUC: 0.73792, Test AUC: 0.741377565460075\n",
      "------------------------------------------------------------\n",
      "[Data Seed 1,7] AVG Valid AUC: 0.73805, Test AUC: 0.740211947427246\n",
      "------------------------------------------------------------\n",
      "------------------------------------------------------------\n",
      "[Data Seed 1] AVG Valid AUC: 0.73743, Test AUC: 0.7392122812707256\n"
     ]
    },
    {
     "name": "stderr",
     "output_type": "stream",
     "text": [
      "[I 2025-04-05 03:50:12,991] Trial 13 finished with value: 0.7403582697437445 and parameters: {'d_main': 64, 'd_multiplier': 2.0, 'encoder_n_blocks': 1, 'predictor_n_blocks': 2, 'dropout0': 0.30000000000000004, 'context_size': 21, 'context_dropout': 0.30000000000000004, 'lr': 0.0008200697032042887}. Best is trial 11 with value: 0.7406747554469943.\n"
     ]
    },
    {
     "name": "stdout",
     "output_type": "stream",
     "text": [
      "------------------------------------------------------------\n",
      "[Data Seed 7] AVG Valid AUC: 0.73726, Test AUC: 0.7415042582167636\n",
      "------------------------------------------------------------\n",
      "[Data Seed 1,7] AVG Valid AUC: 0.73735, Test AUC: 0.7403582697437445\n",
      "------------------------------------------------------------\n",
      "------------------------------------------------------------\n",
      "[Data Seed 1] AVG Valid AUC: 0.73784, Test AUC: 0.7388230572974879\n"
     ]
    },
    {
     "name": "stderr",
     "output_type": "stream",
     "text": [
      "[I 2025-04-05 04:10:15,564] Trial 14 finished with value: 0.7396929012249167 and parameters: {'d_main': 96, 'd_multiplier': 2.5, 'encoder_n_blocks': 2, 'predictor_n_blocks': 1, 'dropout0': 0.4, 'context_size': 12, 'context_dropout': 0.5, 'lr': 0.004743936642676266}. Best is trial 11 with value: 0.7406747554469943.\n"
     ]
    },
    {
     "name": "stdout",
     "output_type": "stream",
     "text": [
      "------------------------------------------------------------\n",
      "[Data Seed 7] AVG Valid AUC: 0.73764, Test AUC: 0.7405627451523455\n",
      "------------------------------------------------------------\n",
      "[Data Seed 1,7] AVG Valid AUC: 0.73774, Test AUC: 0.7396929012249167\n",
      "------------------------------------------------------------\n",
      "Best trial:\n",
      "  Value:  0.7406747554469943\n",
      "  Params: \n",
      "    d_main: 64\n",
      "    d_multiplier: 2.5\n",
      "    encoder_n_blocks: 1\n",
      "    predictor_n_blocks: 2\n",
      "    dropout0: 0.30000000000000004\n",
      "    context_size: 27\n",
      "    context_dropout: 0.5\n",
      "    lr: 0.0008164459208988672\n"
     ]
    }
   ],
   "execution_count": 8
  },
  {
   "metadata": {
    "ExecuteTime": {
     "end_time": "2025-04-04T19:10:15.644159Z",
     "start_time": "2025-04-04T19:10:15.631158Z"
    }
   },
   "cell_type": "code",
   "source": "",
   "id": "3bb1c5394407693e",
   "outputs": [],
   "execution_count": null
  }
 ],
 "metadata": {
  "kernelspec": {
   "name": "python3",
   "language": "python",
   "display_name": "Python 3 (ipykernel)"
  }
 },
 "nbformat": 5,
 "nbformat_minor": 9
}
