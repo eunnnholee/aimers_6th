{
 "cells": [
  {
   "metadata": {
    "ExecuteTime": {
     "end_time": "2025-04-04T08:54:37.063907Z",
     "start_time": "2025-04-04T08:54:37.003547Z"
    }
   },
   "cell_type": "code",
   "source": [
    "import numpy as np\n",
    "import pandas as pd\n",
    "\n",
    "data_seed = 1\n",
    "\n",
    "tabm_preds = pd.read_csv(f'TabM_{data_seed}.csv')\n",
    "lgbm_preds = pd.read_csv(f'lgbm_catboost_{data_seed}.csv', usecols=[0])\n",
    "cat_preds = pd.read_csv(f'lgbm_catboost_{data_seed}.csv', usecols=[1])\n",
    "ftt_preds = pd.read_csv(f'WideDeep_FTTransformer_{data_seed}_result.csv')\n",
    "tabr_preds = pd.read_csv(f'TabR_{data_seed}.csv')\n",
    "\n",
    "print(tabm_preds.shape, lgbm_preds.shape, cat_preds.shape, ftt_preds.shape, tabr_preds.shape)"
   ],
   "id": "ea95998109e5a9e2",
   "outputs": [
    {
     "name": "stdout",
     "output_type": "stream",
     "text": [
      "(51271, 1) (51271, 1) (51271, 1) (51271, 1) (51271, 1)\n"
     ]
    }
   ],
   "execution_count": 30
  },
  {
   "metadata": {
    "ExecuteTime": {
     "end_time": "2025-04-04T08:54:50.965211Z",
     "start_time": "2025-04-04T08:54:50.952211Z"
    }
   },
   "cell_type": "code",
   "source": [
    "final_preds = pd.concat([\n",
    "    tabm_preds,\n",
    "    lgbm_preds,\n",
    "    cat_preds,\n",
    "    ftt_preds,\n",
    "    tabr_preds,\n",
    "], axis=1)\n",
    "final_preds.shape"
   ],
   "id": "dcb2c6252502bb49",
   "outputs": [
    {
     "data": {
      "text/plain": [
       "(51271, 5)"
      ]
     },
     "execution_count": 34,
     "metadata": {},
     "output_type": "execute_result"
    }
   ],
   "execution_count": 34
  },
  {
   "metadata": {
    "ExecuteTime": {
     "end_time": "2025-04-04T08:54:51.344961Z",
     "start_time": "2025-04-04T08:54:51.333961Z"
    }
   },
   "cell_type": "code",
   "source": [
    "final_preds['row_avg'] = final_preds.mean(axis=1)\n",
    "final_preds"
   ],
   "id": "94f0988325159ab2",
   "outputs": [
    {
     "data": {
      "text/plain": [
       "         tabm_1  lgbm_333   cat_333    tabm_1    tabr_1   row_avg\n",
       "0      0.176262  0.232804  0.268662  0.192965  0.200010  0.214141\n",
       "1      0.208191  0.220675  0.304258  0.209756  0.190900  0.226756\n",
       "2      0.001020  0.001824  0.007232  0.000088  0.001739  0.002381\n",
       "3      0.188523  0.204352  0.316936  0.230815  0.188189  0.225763\n",
       "4      0.381180  0.392237  0.501368  0.409958  0.385195  0.413988\n",
       "...         ...       ...       ...       ...       ...       ...\n",
       "51266  0.000902  0.001357  0.002446  0.000028  0.000562  0.001059\n",
       "51267  0.248063  0.242286  0.379117  0.248142  0.313677  0.286257\n",
       "51268  0.098796  0.113929  0.177231  0.109500  0.103488  0.120589\n",
       "51269  0.000094  0.000946  0.000313  0.000015  0.000334  0.000340\n",
       "51270  0.001088  0.001598  0.001960  0.000063  0.001509  0.001244\n",
       "\n",
       "[51271 rows x 6 columns]"
      ],
      "text/html": [
       "<div>\n",
       "<style scoped>\n",
       "    .dataframe tbody tr th:only-of-type {\n",
       "        vertical-align: middle;\n",
       "    }\n",
       "\n",
       "    .dataframe tbody tr th {\n",
       "        vertical-align: top;\n",
       "    }\n",
       "\n",
       "    .dataframe thead th {\n",
       "        text-align: right;\n",
       "    }\n",
       "</style>\n",
       "<table border=\"1\" class=\"dataframe\">\n",
       "  <thead>\n",
       "    <tr style=\"text-align: right;\">\n",
       "      <th></th>\n",
       "      <th>tabm_1</th>\n",
       "      <th>lgbm_333</th>\n",
       "      <th>cat_333</th>\n",
       "      <th>tabm_1</th>\n",
       "      <th>tabr_1</th>\n",
       "      <th>row_avg</th>\n",
       "    </tr>\n",
       "  </thead>\n",
       "  <tbody>\n",
       "    <tr>\n",
       "      <th>0</th>\n",
       "      <td>0.176262</td>\n",
       "      <td>0.232804</td>\n",
       "      <td>0.268662</td>\n",
       "      <td>0.192965</td>\n",
       "      <td>0.200010</td>\n",
       "      <td>0.214141</td>\n",
       "    </tr>\n",
       "    <tr>\n",
       "      <th>1</th>\n",
       "      <td>0.208191</td>\n",
       "      <td>0.220675</td>\n",
       "      <td>0.304258</td>\n",
       "      <td>0.209756</td>\n",
       "      <td>0.190900</td>\n",
       "      <td>0.226756</td>\n",
       "    </tr>\n",
       "    <tr>\n",
       "      <th>2</th>\n",
       "      <td>0.001020</td>\n",
       "      <td>0.001824</td>\n",
       "      <td>0.007232</td>\n",
       "      <td>0.000088</td>\n",
       "      <td>0.001739</td>\n",
       "      <td>0.002381</td>\n",
       "    </tr>\n",
       "    <tr>\n",
       "      <th>3</th>\n",
       "      <td>0.188523</td>\n",
       "      <td>0.204352</td>\n",
       "      <td>0.316936</td>\n",
       "      <td>0.230815</td>\n",
       "      <td>0.188189</td>\n",
       "      <td>0.225763</td>\n",
       "    </tr>\n",
       "    <tr>\n",
       "      <th>4</th>\n",
       "      <td>0.381180</td>\n",
       "      <td>0.392237</td>\n",
       "      <td>0.501368</td>\n",
       "      <td>0.409958</td>\n",
       "      <td>0.385195</td>\n",
       "      <td>0.413988</td>\n",
       "    </tr>\n",
       "    <tr>\n",
       "      <th>...</th>\n",
       "      <td>...</td>\n",
       "      <td>...</td>\n",
       "      <td>...</td>\n",
       "      <td>...</td>\n",
       "      <td>...</td>\n",
       "      <td>...</td>\n",
       "    </tr>\n",
       "    <tr>\n",
       "      <th>51266</th>\n",
       "      <td>0.000902</td>\n",
       "      <td>0.001357</td>\n",
       "      <td>0.002446</td>\n",
       "      <td>0.000028</td>\n",
       "      <td>0.000562</td>\n",
       "      <td>0.001059</td>\n",
       "    </tr>\n",
       "    <tr>\n",
       "      <th>51267</th>\n",
       "      <td>0.248063</td>\n",
       "      <td>0.242286</td>\n",
       "      <td>0.379117</td>\n",
       "      <td>0.248142</td>\n",
       "      <td>0.313677</td>\n",
       "      <td>0.286257</td>\n",
       "    </tr>\n",
       "    <tr>\n",
       "      <th>51268</th>\n",
       "      <td>0.098796</td>\n",
       "      <td>0.113929</td>\n",
       "      <td>0.177231</td>\n",
       "      <td>0.109500</td>\n",
       "      <td>0.103488</td>\n",
       "      <td>0.120589</td>\n",
       "    </tr>\n",
       "    <tr>\n",
       "      <th>51269</th>\n",
       "      <td>0.000094</td>\n",
       "      <td>0.000946</td>\n",
       "      <td>0.000313</td>\n",
       "      <td>0.000015</td>\n",
       "      <td>0.000334</td>\n",
       "      <td>0.000340</td>\n",
       "    </tr>\n",
       "    <tr>\n",
       "      <th>51270</th>\n",
       "      <td>0.001088</td>\n",
       "      <td>0.001598</td>\n",
       "      <td>0.001960</td>\n",
       "      <td>0.000063</td>\n",
       "      <td>0.001509</td>\n",
       "      <td>0.001244</td>\n",
       "    </tr>\n",
       "  </tbody>\n",
       "</table>\n",
       "<p>51271 rows × 6 columns</p>\n",
       "</div>"
      ]
     },
     "execution_count": 35,
     "metadata": {},
     "output_type": "execute_result"
    }
   ],
   "execution_count": 35
  },
  {
   "metadata": {
    "ExecuteTime": {
     "end_time": "2025-04-04T08:54:52.863118Z",
     "start_time": "2025-04-04T08:54:51.890961Z"
    }
   },
   "cell_type": "code",
   "source": [
    "from LG_Aimers_6th.cal_auc import calculate_auc\n",
    "\n",
    "score = calculate_auc(final_preds['row_avg'], seed=data_seed)\n",
    "score"
   ],
   "id": "21833a58d253c9a2",
   "outputs": [
    {
     "data": {
      "text/plain": [
       "0.7406071504051737"
      ]
     },
     "execution_count": 36,
     "metadata": {},
     "output_type": "execute_result"
    }
   ],
   "execution_count": 36
  },
  {
   "metadata": {
    "ExecuteTime": {
     "end_time": "2025-04-04T06:52:26.548740Z",
     "start_time": "2025-04-04T06:52:26.543742Z"
    }
   },
   "cell_type": "code",
   "source": "",
   "id": "3894ce4020082352",
   "outputs": [],
   "execution_count": null
  },
  {
   "metadata": {},
   "cell_type": "code",
   "outputs": [],
   "execution_count": null,
   "source": "",
   "id": "d49872bb83d9b609"
  }
 ],
 "metadata": {
  "kernelspec": {
   "name": "python3",
   "language": "python",
   "display_name": "Python 3 (ipykernel)"
  }
 },
 "nbformat": 5,
 "nbformat_minor": 9
}
