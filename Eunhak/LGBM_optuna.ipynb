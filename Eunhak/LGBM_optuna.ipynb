{
 "cells": [
  {
   "cell_type": "code",
   "id": "initial_id",
   "metadata": {
    "collapsed": true,
    "ExecuteTime": {
     "end_time": "2025-04-04T15:35:20.333135Z",
     "start_time": "2025-04-04T15:35:20.319137Z"
    }
   },
   "source": [
    "import pandas as pd\n",
    "import numpy as np\n",
    "import warnings\n",
    "warnings.simplefilter(action='ignore', category=FutureWarning)\n",
    "\n",
    "from lightgbm import LGBMClassifier\n",
    "from sklearn.model_selection import StratifiedKFold\n",
    "from sklearn.metrics import roc_auc_score, accuracy_score, f1_score\n",
    "\n",
    "from catboost import CatBoostClassifier\n",
    "from sklearn.utils.class_weight import compute_class_weight\n",
    "from LG_Aimers_6th.cal_auc import calculate_auc\n",
    "\n",
    "data_seed = 9\n",
    "train_path = f'../data/custom_train_{data_seed}.csv'\n",
    "test_path = f'../data/custom_test_{data_seed}.csv'"
   ],
   "outputs": [],
   "execution_count": 3
  },
  {
   "metadata": {
    "ExecuteTime": {
     "end_time": "2025-04-04T15:35:23.474640Z",
     "start_time": "2025-04-04T15:35:20.604010Z"
    }
   },
   "cell_type": "code",
   "source": [
    "from LG_Aimers_6th.lgbm_process import lgbm_process\n",
    "\n",
    "train = pd.read_csv(train_path).drop(columns=[\"ID\"])\n",
    "test = pd.read_csv(test_path).drop(columns=[\"ID\"])\n",
    "train, test = lgbm_process(train, test)\n",
    "print(train.shape, test.shape)"
   ],
   "id": "2ba83d6717fe9961",
   "outputs": [
    {
     "name": "stdout",
     "output_type": "stream",
     "text": [
      "(205080, 67) (51271, 66)\n"
     ]
    }
   ],
   "execution_count": 4
  },
  {
   "metadata": {},
   "cell_type": "code",
   "outputs": [],
   "execution_count": null,
   "source": [
    "seed = 333\n",
    "data_seeds = [1, 7]\n",
    "\n",
    "valid_aucs = []\n",
    "test_aucs = []\n",
    "for data_seed in data_seeds:\n",
    "    train_path = f'../data/custom_train_{data_seed}.csv'\n",
    "    test_path = f'../data/custom_test_{data_seed}.csv'\n",
    "\n",
    "    train = pd.read_csv(train_path).drop(columns=['ID'])\n",
    "    test = pd.read_csv(test_path).drop(columns=['ID'])\n",
    "\n",
    "    test_preds_lgbm = []\n",
    "\n",
    "    skf = StratifiedKFold(n_splits=10, shuffle=True, random_state=seed)\n",
    "    auc_scores, acc_scores,  f1_scores = [], [], []\n",
    "\n",
    "    for fold, (train_idx, valid_idx) in enumerate(skf.split(train.drop(columns=['임신 성공 여부']), train[\"임신 성공 여부\"])):\n",
    "        fold_train = train.iloc[train_idx].copy().reset_index(drop=True)\n",
    "        fold_train2 = train.iloc[train_idx].copy().reset_index(drop=True)\n",
    "        fold_valid = train.iloc[valid_idx].copy().reset_index(drop=True)\n",
    "        fold_test = test.copy()\n",
    "\n",
    "        fold_train, fold_valid = lgbm_process(fold_train, fold_valid, seed=seed)\n",
    "        _, fold_test = lgbm_process(fold_train2, fold_test, seed=seed)\n",
    "\n",
    "        X_train = fold_train.drop(columns=['임신 성공 여부'])\n",
    "        X_valid = fold_valid.drop(columns=['임신 성공 여부'])\n",
    "        y_train = fold_train['임신 성공 여부']\n",
    "        y_valid = fold_valid['임신 성공 여부']\n",
    "\n",
    "        # Optuna\n",
    "        lgbm_params = {\n",
    "            'n_estimators': 1134,\n",
    "            'learning_rate': 0.009183378614268902,\n",
    "            'max_depth': 15,\n",
    "            'num_leaves': 59,\n",
    "            'min_child_samples': 56,\n",
    "            'subsample': 0.5894604069264655,\n",
    "            'colsample_bytree': 0.6305670256882752,\n",
    "            'reg_alpha': 7.47936987466662,\n",
    "            'reg_lambda': 0.0010986427203281623,\n",
    "        }\n",
    "\n",
    "        model_lgb = LGBMClassifier(\n",
    "            **lgbm_params,\n",
    "            verbosity=-1,\n",
    "            n_jobs=10,\n",
    "            random_state=seed,\n",
    "            early_stopping_rounds=100,\n",
    "        )\n",
    "\n",
    "        model_lgb.fit(\n",
    "            X_train, y_train,\n",
    "            eval_set=(X_valid, y_valid),\n",
    "        )\n",
    "\n",
    "        valid_preds_proba  = model_lgb.predict_proba(X_valid)[:, 1]\n",
    "        auc_ = roc_auc_score(y_valid, valid_preds_proba)\n",
    "        auc_scores.append(auc_)\n",
    "\n",
    "        # print(f\"[Data Seed {seed} Fold {fold + 1}]  | AUC: {auc_:.7f}\")\n",
    "\n",
    "        test_pred = model_lgb.predict_proba(fold_test)[:, 1]\n",
    "        test_preds_lgbm.append(test_pred)\n",
    "\n",
    "    valid_auc = np.mean(auc_scores)\n",
    "    valid_aucs.append(valid_auc)\n",
    "\n",
    "    test_auc = calculate_auc(np.mean(test_preds_lgbm, axis=0), seed=data_seed)\n",
    "    test_aucs.append(test_auc)\n",
    "\n",
    "    print(f'[Data Seed {data_seed}] Valid AUC:{valid_auc:.5f} Test AUC: {test_auc}')\n",
    "\n",
    "avg_valid_auc = np.mean(valid_aucs)\n",
    "avg_test_auc = np.mean(test_aucs)\n",
    "\n",
    "print('-' * 60)\n",
    "print(f'[Data Seed 1,7] AVG Valid AUC: {avg_valid_auc:.5f}, Test AUC: {avg_test_auc}')\n",
    "print('-' * 60)"
   ],
   "id": "cf5924ec97e7440e"
  }
 ],
 "metadata": {
  "kernelspec": {
   "display_name": "Python 3",
   "language": "python",
   "name": "python3"
  },
  "language_info": {
   "codemirror_mode": {
    "name": "ipython",
    "version": 2
   },
   "file_extension": ".py",
   "mimetype": "text/x-python",
   "name": "python",
   "nbconvert_exporter": "python",
   "pygments_lexer": "ipython2",
   "version": "2.7.6"
  }
 },
 "nbformat": 4,
 "nbformat_minor": 5
}
